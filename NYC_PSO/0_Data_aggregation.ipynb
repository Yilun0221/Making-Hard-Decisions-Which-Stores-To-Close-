{
 "cells": [
  {
   "cell_type": "code",
   "execution_count": 1,
   "metadata": {},
   "outputs": [],
   "source": [
    "import pandas as pd\n",
    "import os\n",
    "import numpy as np\n",
    "import json"
   ]
  },
  {
   "cell_type": "code",
   "execution_count": 2,
   "metadata": {},
   "outputs": [],
   "source": [
    "def get_yearly_visitors(path, year, if_target):\n",
    "    data = os.listdir(path)\n",
    "    year = str(year)\n",
    "    data = [path+'/'+i for i in data if year in i]\n",
    "    df = []\n",
    "    for i in data:\n",
    "        df.append(pd.read_csv(i))\n",
    "    df = pd.concat(df)\n",
    "    if if_target == 1:\n",
    "        df = df.drop(columns = ['Unnamed: 0']).rename(columns={\"Unnamed: 0.1\": \"cbg\"})\n",
    "        df = df.groupby('cbg').sum().reset_index()\n",
    "        df['total_visitors'] = df.drop(columns = ['cbg']).apply(lambda x: x.sum(),axis=1)\n",
    "    if if_target == 0:\n",
    "        df = df.rename(columns={\"Unnamed: 0\": \"cbg\"})\n",
    "        df = df.groupby('cbg').sum().reset_index()\n",
    "        df['total_visitors'] = df.drop(columns = ['cbg']).apply(lambda x: x.sum(),axis=1)\n",
    "    return df"
   ]
  },
  {
   "cell_type": "code",
   "execution_count": 3,
   "metadata": {},
   "outputs": [],
   "source": [
    "years = [2018, 2019, 2020]\n",
    "save = '/Volumes/xuyilun/课题/Alex Sandy Pentland/safegraph/GOOGLEDRIVES/data'\n",
    "for year in years:\n",
    "    temp_target = get_yearly_visitors('/Volumes/xuyilun/课题/Alex Sandy Pentland/safegraph/filtered_target_0201_matrix_aggregated', year, 1)\n",
    "    temp_competitors = get_yearly_visitors('/Volumes/xuyilun/课题/Alex Sandy Pentland/safegraph/filtered_competitors_0201_matrix', year, 0)\n",
    "    temp_all = pd.merge(temp_target.drop(columns = 'total_visitors'), temp_competitors.drop(columns = 'total_visitors'))\n",
    "    temp_all['total_visitors'] = temp_all.drop(columns = ['cbg']).apply(lambda x: x.sum(), axis=1)\n",
    "    temp_target.to_csv(save+'/'+'Target_total_visitors_'+str(year)+'.csv')\n",
    "    temp_competitors.to_csv(save+'/'+'Competitors_total_visitors_'+str(year)+'.csv')\n",
    "    temp_all.to_csv(save+'/'+'All_stores_total_visitors_'+str(year)+'.csv')"
   ]
  },
  {
   "cell_type": "code",
   "execution_count": 4,
   "metadata": {},
   "outputs": [],
   "source": [
    "def get_geo_data(info_path):\n",
    "    temp = pd.read_csv(info_path, encoding = 'latin-1')\n",
    "    temp['geo'] = temp.apply(lambda row: (row.latitude, row.longitude),axis=1)\n",
    "    temp = temp[['safegraph_place_id', 'geo']]\n",
    "    return temp"
   ]
  },
  {
   "cell_type": "code",
   "execution_count": 5,
   "metadata": {},
   "outputs": [],
   "source": [
    "square_data = pd.read_csv('/Volumes/xuyilun/课题/Alex Sandy Pentland/safegraph/sample_data/SafeGraphPlacesGeoSupplementSquareFeet.csv')"
   ]
  },
  {
   "cell_type": "code",
   "execution_count": 6,
   "metadata": {},
   "outputs": [],
   "source": [
    "info_path_target = '/Volumes/xuyilun/课题/Alex Sandy Pentland/safegraph/NYC_target/NYC_target_info.csv'\n",
    "info_path_competitors = '/Volumes/xuyilun/课题/Alex Sandy Pentland/safegraph/competitors_1030/places_info_nyc.csv'\n",
    "target_info_geo = get_geo_data(info_path_target)\n",
    "competitors_info_geo = get_geo_data(info_path_competitors)\n",
    "all_info_geo = target_info_geo.append(competitors_info_geo, ignore_index=True)"
   ]
  },
  {
   "cell_type": "code",
   "execution_count": 7,
   "metadata": {},
   "outputs": [],
   "source": [
    "target_ids = target_info_geo.safegraph_place_id.tolist()\n",
    "competitor_ids = list(temp_competitors.columns[1:-1])\n",
    "all_ids = target_ids + competitor_ids"
   ]
  },
  {
   "cell_type": "code",
   "execution_count": 8,
   "metadata": {},
   "outputs": [],
   "source": [
    "square_data_part = square_data[square_data['safegraph_place_id'].isin(all_ids)]\n",
    "all_info_square = square_data_part[['safegraph_place_id', 'area_square_feet']]"
   ]
  },
  {
   "cell_type": "code",
   "execution_count": 9,
   "metadata": {},
   "outputs": [],
   "source": [
    "all_info = pd.merge(all_info_geo, all_info_square, on='safegraph_place_id')"
   ]
  },
  {
   "cell_type": "code",
   "execution_count": 10,
   "metadata": {},
   "outputs": [],
   "source": [
    "all_info.to_csv('/Volumes/xuyilun/课题/Alex Sandy Pentland/safegraph/GOOGLEDRIVES/data/all_info_before_aggregation.csv')"
   ]
  },
  {
   "cell_type": "code",
   "execution_count": 11,
   "metadata": {},
   "outputs": [],
   "source": [
    "list_517E = ['sg:b92ac1661ff14e78b25a99515d2370c5','sg:507b345e2e2445f5b4edaf6fa1b01b0d', 'sg:fcf8054ca0eb4daa8fa77bd2ea68987f']\n",
    "list_4024_College = ['sg:37cd539e6ba84eb898b7f979a38e08cc','sg:da1cac5e846a4c39ab873c53a240da32', 'sg:83ad2c11ae2f4810a3aa10155a1d7e9e']\n",
    "list_40W = ['sg:3ee2fa14ed7841c88080d239f4aa7292', 'sg:a5570cc64afd4f12b4bc7a8b68774922']\n",
    "removed_targets = list_517E + list_4024_College + list_40W"
   ]
  },
  {
   "cell_type": "code",
   "execution_count": 12,
   "metadata": {},
   "outputs": [],
   "source": [
    "all_info = all_info.append({'safegraph_place_id':'aggregated_517E','geo':(40.795408, -73.93100799999999), 'area_square_feet':169356},\n",
    "                ignore_index=True)\n",
    "all_info = all_info.append({'safegraph_place_id':'aggregated_4024_College','geo':(40.757749, -73.834744), 'area_square_feet':214735},\n",
    "                ignore_index=True)\n",
    "all_info = all_info.append({'safegraph_place_id':'aggregated_40W','geo':(40.872776, -73.907558), 'area_square_feet':183593},\n",
    "                ignore_index=True)\n",
    "all_info = all_info[~all_info.safegraph_place_id.isin(removed_targets)]"
   ]
  },
  {
   "cell_type": "code",
   "execution_count": 13,
   "metadata": {},
   "outputs": [],
   "source": [
    "all_info.to_csv('/Volumes/xuyilun/课题/Alex Sandy Pentland/safegraph/GOOGLEDRIVES/data/all_info_after_aggregation.csv')"
   ]
  },
  {
   "cell_type": "code",
   "execution_count": 14,
   "metadata": {},
   "outputs": [
    {
     "data": {
      "text/html": [
       "<div>\n",
       "<style scoped>\n",
       "    .dataframe tbody tr th:only-of-type {\n",
       "        vertical-align: middle;\n",
       "    }\n",
       "\n",
       "    .dataframe tbody tr th {\n",
       "        vertical-align: top;\n",
       "    }\n",
       "\n",
       "    .dataframe thead th {\n",
       "        text-align: right;\n",
       "    }\n",
       "</style>\n",
       "<table border=\"1\" class=\"dataframe\">\n",
       "  <thead>\n",
       "    <tr style=\"text-align: right;\">\n",
       "      <th></th>\n",
       "      <th>safegraph_place_id</th>\n",
       "      <th>geo</th>\n",
       "      <th>area_square_feet</th>\n",
       "    </tr>\n",
       "  </thead>\n",
       "  <tbody>\n",
       "    <tr>\n",
       "      <th>0</th>\n",
       "      <td>sg:81aae721ea114787a6e105b349eeb400</td>\n",
       "      <td>(40.768158, -73.96154)</td>\n",
       "      <td>19853</td>\n",
       "    </tr>\n",
       "    <tr>\n",
       "      <th>1</th>\n",
       "      <td>sg:1ac978d80ab84d4aa1d9f7148d1fafb8</td>\n",
       "      <td>(40.783772, -73.833733)</td>\n",
       "      <td>68087</td>\n",
       "    </tr>\n",
       "    <tr>\n",
       "      <th>2</th>\n",
       "      <td>sg:72ea28e3e1a54cc0849b69121b98e1cd</td>\n",
       "      <td>(40.684647, -73.976486)</td>\n",
       "      <td>126053</td>\n",
       "    </tr>\n",
       "    <tr>\n",
       "      <th>3</th>\n",
       "      <td>sg:084ab2c726784ab490b72144d44d4ee8</td>\n",
       "      <td>(40.631371, -73.946744)</td>\n",
       "      <td>40818</td>\n",
       "    </tr>\n",
       "    <tr>\n",
       "      <th>4</th>\n",
       "      <td>sg:eb96ed984b274a57ae29762d73738d99</td>\n",
       "      <td>(40.607664, -73.959466)</td>\n",
       "      <td>18706</td>\n",
       "    </tr>\n",
       "    <tr>\n",
       "      <th>...</th>\n",
       "      <td>...</td>\n",
       "      <td>...</td>\n",
       "      <td>...</td>\n",
       "    </tr>\n",
       "    <tr>\n",
       "      <th>288</th>\n",
       "      <td>sg:84a8615ac25b455bb1d01ec4c93cdd1f</td>\n",
       "      <td>(40.583277, -74.165371)</td>\n",
       "      <td>96668</td>\n",
       "    </tr>\n",
       "    <tr>\n",
       "      <th>289</th>\n",
       "      <td>sg:ede0c3b8b3a143848181ee2430390072</td>\n",
       "      <td>(40.659248, -73.908321)</td>\n",
       "      <td>5885</td>\n",
       "    </tr>\n",
       "    <tr>\n",
       "      <th>290</th>\n",
       "      <td>aggregated_517E</td>\n",
       "      <td>(40.795408, -73.93100799999999)</td>\n",
       "      <td>169356</td>\n",
       "    </tr>\n",
       "    <tr>\n",
       "      <th>291</th>\n",
       "      <td>aggregated_4024_College</td>\n",
       "      <td>(40.757749, -73.834744)</td>\n",
       "      <td>214735</td>\n",
       "    </tr>\n",
       "    <tr>\n",
       "      <th>292</th>\n",
       "      <td>aggregated_40W</td>\n",
       "      <td>(40.872776, -73.907558)</td>\n",
       "      <td>183593</td>\n",
       "    </tr>\n",
       "  </tbody>\n",
       "</table>\n",
       "<p>285 rows × 3 columns</p>\n",
       "</div>"
      ],
      "text/plain": [
       "                      safegraph_place_id                              geo  \\\n",
       "0    sg:81aae721ea114787a6e105b349eeb400           (40.768158, -73.96154)   \n",
       "1    sg:1ac978d80ab84d4aa1d9f7148d1fafb8          (40.783772, -73.833733)   \n",
       "2    sg:72ea28e3e1a54cc0849b69121b98e1cd          (40.684647, -73.976486)   \n",
       "3    sg:084ab2c726784ab490b72144d44d4ee8          (40.631371, -73.946744)   \n",
       "4    sg:eb96ed984b274a57ae29762d73738d99          (40.607664, -73.959466)   \n",
       "..                                   ...                              ...   \n",
       "288  sg:84a8615ac25b455bb1d01ec4c93cdd1f          (40.583277, -74.165371)   \n",
       "289  sg:ede0c3b8b3a143848181ee2430390072          (40.659248, -73.908321)   \n",
       "290                      aggregated_517E  (40.795408, -73.93100799999999)   \n",
       "291              aggregated_4024_College          (40.757749, -73.834744)   \n",
       "292                       aggregated_40W          (40.872776, -73.907558)   \n",
       "\n",
       "     area_square_feet  \n",
       "0               19853  \n",
       "1               68087  \n",
       "2              126053  \n",
       "3               40818  \n",
       "4               18706  \n",
       "..                ...  \n",
       "288             96668  \n",
       "289              5885  \n",
       "290            169356  \n",
       "291            214735  \n",
       "292            183593  \n",
       "\n",
       "[285 rows x 3 columns]"
      ]
     },
     "execution_count": 14,
     "metadata": {},
     "output_type": "execute_result"
    }
   ],
   "source": [
    "all_info"
   ]
  }
 ],
 "metadata": {
  "kernelspec": {
   "display_name": "Python 3",
   "language": "python",
   "name": "python3"
  },
  "language_info": {
   "codemirror_mode": {
    "name": "ipython",
    "version": 3
   },
   "file_extension": ".py",
   "mimetype": "text/x-python",
   "name": "python",
   "nbconvert_exporter": "python",
   "pygments_lexer": "ipython3",
   "version": "3.8.5"
  }
 },
 "nbformat": 4,
 "nbformat_minor": 4
}
