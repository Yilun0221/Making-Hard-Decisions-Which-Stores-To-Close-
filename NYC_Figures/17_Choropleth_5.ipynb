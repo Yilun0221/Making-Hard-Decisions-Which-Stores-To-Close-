{
 "cells": [
  {
   "cell_type": "code",
   "execution_count": 1,
   "metadata": {},
   "outputs": [],
   "source": [
    "import pandas as pd\n",
    "import geopandas\n",
    "import plotly.express as px\n",
    "import os\n",
    "from geopandas import GeoDataFrame\n",
    "from shapely.geometry import Point\n",
    "import matplotlib.pyplot as plt\n",
    "import imageio\n",
    "import mapclassify\n",
    "import matplotlib\n",
    "import warnings\n",
    "warnings.filterwarnings(\"ignore\")\n",
    "import matplotlib.image as mpimg\n",
    "%matplotlib inline\n",
    "import ast"
   ]
  },
  {
   "cell_type": "code",
   "execution_count": 2,
   "metadata": {},
   "outputs": [],
   "source": [
    "path = '/Volumes/xuyilun/课题/Human Dynamics/safegraph/filtered_target_0201_matrix_aggregated'\n",
    "files = os.listdir(path)\n",
    "times = [i[:-4] for i in files]\n",
    "files = [path+'/'+i for i in files]"
   ]
  },
  {
   "cell_type": "code",
   "execution_count": 3,
   "metadata": {},
   "outputs": [],
   "source": [
    "df_list = {}\n",
    "for i in files:\n",
    "    date = i.split('/')[-1][:-4]\n",
    "    a = pd.read_csv(i)\n",
    "    a = a.rename(columns={'Unnamed: 0.1': 'id'})\n",
    "    df_list[date] = a"
   ]
  },
  {
   "cell_type": "code",
   "execution_count": 4,
   "metadata": {},
   "outputs": [],
   "source": [
    "store_info = pd.read_csv('/Volumes/xuyilun/课题/Human Dynamics/safegraph/GOOGLEDRIVES/data/all_info_after_aggregation.csv')"
   ]
  },
  {
   "cell_type": "code",
   "execution_count": 5,
   "metadata": {},
   "outputs": [],
   "source": [
    "final_data = pd.read_csv('/Volumes/xuyilun/课题/Human Dynamics/safegraph/GOOGLEDRIVES/data/Target_total_visitors_2018.csv')\n",
    "stores = final_data.columns[2:-1].tolist()"
   ]
  },
  {
   "cell_type": "code",
   "execution_count": 6,
   "metadata": {},
   "outputs": [],
   "source": [
    "abs_path = '/Volumes/xuyilun/课题/Human Dynamics/safegraph/GOOGLEDRIVES/figures/Yearly_visits/image/'\n",
    "for i in stores:\n",
    "    if 'aggregated' in i:\n",
    "        temp_path = abs_path+i\n",
    "    else:\n",
    "        temp_path = abs_path+i[3:]\n",
    "    folder = os.path.exists(temp_path)\n",
    "    if not folder:                   \n",
    "        os.makedirs(temp_path)"
   ]
  },
  {
   "cell_type": "code",
   "execution_count": 7,
   "metadata": {},
   "outputs": [],
   "source": [
    "info_df = store_info.copy()\n",
    "info_df['longitude'] = info_df['geo'].apply(lambda x:ast.literal_eval(x)[1])\n",
    "info_df['latitude'] = info_df['geo'].apply(lambda x:ast.literal_eval(x)[0])\n",
    "geometry = [Point(xy) for xy in zip(info_df.longitude, info_df.latitude)]\n",
    "info_df = info_df.drop(['longitude', 'latitude'], axis=1)\n",
    "info_gdf = GeoDataFrame(info_df, crs=\"EPSG:4326\", geometry=geometry)"
   ]
  },
  {
   "cell_type": "code",
   "execution_count": 8,
   "metadata": {},
   "outputs": [],
   "source": [
    "info_dict = {}\n",
    "for i,cont in info_gdf.iterrows():\n",
    "    info_dict[cont['safegraph_place_id']] = cont['geometry']"
   ]
  },
  {
   "cell_type": "code",
   "execution_count": 9,
   "metadata": {},
   "outputs": [],
   "source": [
    "nyc_cbg = list(df_list['2019-12'].id)\n",
    "nyc_cbg = [str(i) for i in nyc_cbg]"
   ]
  },
  {
   "cell_type": "code",
   "execution_count": 10,
   "metadata": {},
   "outputs": [],
   "source": [
    "shp_path = '/Volumes/xuyilun/课题/Human Dynamics/safegraph/tl_2017_36_bg/tl_2017_36_bg.shp'"
   ]
  },
  {
   "cell_type": "code",
   "execution_count": 11,
   "metadata": {},
   "outputs": [],
   "source": [
    "shp_df = geopandas.GeoDataFrame.from_file(shp_path,encoding = 'gb18030')\n",
    "#shp_df = shp_df[shp_df['GEOID'].isin(nyc_cbg)].reset_index()"
   ]
  },
  {
   "cell_type": "code",
   "execution_count": 12,
   "metadata": {},
   "outputs": [
    {
     "data": {
      "text/html": [
       "<div>\n",
       "<style scoped>\n",
       "    .dataframe tbody tr th:only-of-type {\n",
       "        vertical-align: middle;\n",
       "    }\n",
       "\n",
       "    .dataframe tbody tr th {\n",
       "        vertical-align: top;\n",
       "    }\n",
       "\n",
       "    .dataframe thead th {\n",
       "        text-align: right;\n",
       "    }\n",
       "</style>\n",
       "<table border=\"1\" class=\"dataframe\">\n",
       "  <thead>\n",
       "    <tr style=\"text-align: right;\">\n",
       "      <th></th>\n",
       "      <th>STATEFP</th>\n",
       "      <th>COUNTYFP</th>\n",
       "      <th>TRACTCE</th>\n",
       "      <th>BLKGRPCE</th>\n",
       "      <th>GEOID</th>\n",
       "      <th>NAMELSAD</th>\n",
       "      <th>MTFCC</th>\n",
       "      <th>FUNCSTAT</th>\n",
       "      <th>ALAND</th>\n",
       "      <th>AWATER</th>\n",
       "      <th>INTPTLAT</th>\n",
       "      <th>INTPTLON</th>\n",
       "      <th>geometry</th>\n",
       "    </tr>\n",
       "  </thead>\n",
       "  <tbody>\n",
       "    <tr>\n",
       "      <th>0</th>\n",
       "      <td>36</td>\n",
       "      <td>005</td>\n",
       "      <td>017500</td>\n",
       "      <td>2</td>\n",
       "      <td>360050175002</td>\n",
       "      <td>Block Group 2</td>\n",
       "      <td>G5030</td>\n",
       "      <td>S</td>\n",
       "      <td>23694</td>\n",
       "      <td>0</td>\n",
       "      <td>+40.8296335</td>\n",
       "      <td>-073.9152037</td>\n",
       "      <td>POLYGON ((-73.91570 40.83054, -73.91485 40.830...</td>\n",
       "    </tr>\n",
       "    <tr>\n",
       "      <th>1</th>\n",
       "      <td>36</td>\n",
       "      <td>005</td>\n",
       "      <td>014100</td>\n",
       "      <td>1</td>\n",
       "      <td>360050141001</td>\n",
       "      <td>Block Group 1</td>\n",
       "      <td>G5030</td>\n",
       "      <td>S</td>\n",
       "      <td>55934</td>\n",
       "      <td>0</td>\n",
       "      <td>+40.8245444</td>\n",
       "      <td>-073.9131209</td>\n",
       "      <td>POLYGON ((-73.91661 40.82499, -73.91592 40.825...</td>\n",
       "    </tr>\n",
       "    <tr>\n",
       "      <th>2</th>\n",
       "      <td>36</td>\n",
       "      <td>005</td>\n",
       "      <td>014500</td>\n",
       "      <td>1</td>\n",
       "      <td>360050145001</td>\n",
       "      <td>Block Group 1</td>\n",
       "      <td>G5030</td>\n",
       "      <td>S</td>\n",
       "      <td>47026</td>\n",
       "      <td>0</td>\n",
       "      <td>+40.8309816</td>\n",
       "      <td>-073.9050870</td>\n",
       "      <td>POLYGON ((-73.90584 40.83106, -73.90505 40.832...</td>\n",
       "    </tr>\n",
       "    <tr>\n",
       "      <th>3</th>\n",
       "      <td>36</td>\n",
       "      <td>005</td>\n",
       "      <td>007500</td>\n",
       "      <td>2</td>\n",
       "      <td>360050075002</td>\n",
       "      <td>Block Group 2</td>\n",
       "      <td>G5030</td>\n",
       "      <td>S</td>\n",
       "      <td>109058</td>\n",
       "      <td>0</td>\n",
       "      <td>+40.8202395</td>\n",
       "      <td>-073.9080678</td>\n",
       "      <td>POLYGON ((-73.91035 40.81995, -73.91022 40.820...</td>\n",
       "    </tr>\n",
       "    <tr>\n",
       "      <th>4</th>\n",
       "      <td>36</td>\n",
       "      <td>005</td>\n",
       "      <td>041800</td>\n",
       "      <td>1</td>\n",
       "      <td>360050418001</td>\n",
       "      <td>Block Group 1</td>\n",
       "      <td>G5030</td>\n",
       "      <td>S</td>\n",
       "      <td>140793</td>\n",
       "      <td>0</td>\n",
       "      <td>+40.8989195</td>\n",
       "      <td>-073.8564428</td>\n",
       "      <td>POLYGON ((-73.86288 40.89515, -73.86146 40.897...</td>\n",
       "    </tr>\n",
       "  </tbody>\n",
       "</table>\n",
       "</div>"
      ],
      "text/plain": [
       "  STATEFP COUNTYFP TRACTCE BLKGRPCE         GEOID       NAMELSAD  MTFCC  \\\n",
       "0      36      005  017500        2  360050175002  Block Group 2  G5030   \n",
       "1      36      005  014100        1  360050141001  Block Group 1  G5030   \n",
       "2      36      005  014500        1  360050145001  Block Group 1  G5030   \n",
       "3      36      005  007500        2  360050075002  Block Group 2  G5030   \n",
       "4      36      005  041800        1  360050418001  Block Group 1  G5030   \n",
       "\n",
       "  FUNCSTAT   ALAND  AWATER     INTPTLAT      INTPTLON  \\\n",
       "0        S   23694       0  +40.8296335  -073.9152037   \n",
       "1        S   55934       0  +40.8245444  -073.9131209   \n",
       "2        S   47026       0  +40.8309816  -073.9050870   \n",
       "3        S  109058       0  +40.8202395  -073.9080678   \n",
       "4        S  140793       0  +40.8989195  -073.8564428   \n",
       "\n",
       "                                            geometry  \n",
       "0  POLYGON ((-73.91570 40.83054, -73.91485 40.830...  \n",
       "1  POLYGON ((-73.91661 40.82499, -73.91592 40.825...  \n",
       "2  POLYGON ((-73.90584 40.83106, -73.90505 40.832...  \n",
       "3  POLYGON ((-73.91035 40.81995, -73.91022 40.820...  \n",
       "4  POLYGON ((-73.86288 40.89515, -73.86146 40.897...  "
      ]
     },
     "execution_count": 12,
     "metadata": {},
     "output_type": "execute_result"
    }
   ],
   "source": [
    "shp_df.head()"
   ]
  },
  {
   "cell_type": "code",
   "execution_count": 13,
   "metadata": {},
   "outputs": [],
   "source": [
    "cbg_info = {}\n",
    "cbg_id = shp_df['GEOID'].tolist()\n",
    "cbg_geo = shp_df['geometry'].tolist()\n",
    "for i in range(len(cbg_id)):\n",
    "    cbg_info[cbg_id[i]] = cbg_geo[i]"
   ]
  },
  {
   "cell_type": "code",
   "execution_count": 14,
   "metadata": {},
   "outputs": [],
   "source": [
    "for k,v in df_list.items():\n",
    "    v['cbg_geometry'] = v['id'].apply(lambda x: cbg_info[str(x)])"
   ]
  },
  {
   "cell_type": "code",
   "execution_count": null,
   "metadata": {},
   "outputs": [],
   "source": [
    "def get_image(store, time):\n",
    "    p = GeoDataFrame(df_list[time],geometry = 'cbg_geometry')\n",
    "    fig, ax = plt.subplots(1, 1, figsize=[15,10])\n",
    "    base = p.plot(column = store,legend = True,ax=ax,\n",
    "                  cmap = matplotlib.colors.LinearSegmentedColormap.from_list(\"\", [\"white\",\"red\"]),edgecolor='black',linewidth=0.2)\n",
    "    temp = info_gdf[info_gdf['safegraph_place_id'] == store]\n",
    "    temp.plot(ax=ax,marker='*', color = 'blue', markersize=30,label='Target')\n",
    "    plt.suptitle('Number of Visits',size = 20)\n",
    "    plt.title(store+', '+time,size = 12, pad=20, loc='center')\n",
    "    for x, y, label in zip(temp.geometry.x, temp.geometry.y, temp.safegraph_place_id):\n",
    "        ax.annotate('Target Store', xy=(x, y), xytext=(3, 3), textcoords=\"offset points\")\n",
    "    plt.axis('off')\n",
    "    if 'aggregated' in store:\n",
    "        save_path = '/Volumes/xuyilun/课题/Human Dynamics/safegraph/GOOGLEDRIVES/figures/Yearly_visits/image/'+store+\"/\"+time+'.png'\n",
    "    else:\n",
    "        save_path = '/Volumes/xuyilun/课题/Human Dynamics/safegraph/GOOGLEDRIVES/figures/Yearly_visits/image/'+store[3:]+\"/\"+time+'.png'\n",
    "    plt.savefig(save_path, dpi=100)\n",
    "    #plt.show()\n",
    "    #return fig"
   ]
  },
  {
   "cell_type": "code",
   "execution_count": null,
   "metadata": {},
   "outputs": [],
   "source": [
    "for store in stores:\n",
    "    for time in times:\n",
    "        image_temp = get_image(store, time)\n",
    "    print(store +' finished')"
   ]
  },
  {
   "cell_type": "markdown",
   "metadata": {},
   "source": [
    "## yearly"
   ]
  },
  {
   "cell_type": "code",
   "execution_count": 15,
   "metadata": {},
   "outputs": [],
   "source": [
    "def get_yearly_df(year, store):\n",
    "    select_files = [i for i in files if year in i]\n",
    "    select_dfs = []\n",
    "    for i in select_files:\n",
    "        temp_df = pd.read_csv(i)\n",
    "        temp_df = temp_df.rename(columns={'Unnamed: 0.1': 'id'})\n",
    "        temp_df = temp_df[['id', store]]\n",
    "        temp_df = temp_df.set_index('id')\n",
    "        select_dfs.append(temp_df)\n",
    "    final_df = sum(select_dfs)\n",
    "    final_df = final_df.reset_index()\n",
    "    final_df['cbg_geometry'] = final_df['id'].apply(lambda x: cbg_info[str(x)])\n",
    "    final_df = GeoDataFrame(final_df,geometry = 'cbg_geometry')\n",
    "    return final_df"
   ]
  },
  {
   "cell_type": "code",
   "execution_count": null,
   "metadata": {},
   "outputs": [],
   "source": [
    "def save_yearly_df(year, store):\n",
    "    df = get_yearly_df(year, store)\n",
    "    if 'aggregated' in store:\n",
    "        path = '/Volumes/xuyilun/课题/Human Dynamics/safegraph/GOOGLEDRIVES/data/yearly_tables/'+year+'/'+store+'_'+year+'.csv'\n",
    "    else:\n",
    "        path = '/Volumes/xuyilun/课题/Human Dynamics/safegraph/GOOGLEDRIVES/data/yearly_tables/'+year+'/'+store[3:]+'_'+year+'.csv'\n",
    "    df.to_csv(path)"
   ]
  },
  {
   "cell_type": "code",
   "execution_count": null,
   "metadata": {},
   "outputs": [],
   "source": [
    "years = ['2018', '2019', '2020']\n",
    "for y in years:\n",
    "    for u in stores:\n",
    "        save_yearly_df(y,u)"
   ]
  },
  {
   "cell_type": "code",
   "execution_count": null,
   "metadata": {},
   "outputs": [],
   "source": [
    "def get_yearly_figure(year, store):\n",
    "    df_here = get_yearly_df(year, store)\n",
    "    fig, ax = plt.subplots(1, 1, figsize=[15,10])\n",
    "    base = df_here.plot(column = store,legend = True,ax=ax, cmap = matplotlib.colors.LinearSegmentedColormap.from_list(\"\", [\"white\",\"red\"]),\n",
    "                        edgecolor='black',linewidth=0.2,k=6)\n",
    "    temp = info_gdf[info_gdf['safegraph_place_id'] == store]\n",
    "    temp.plot(ax=ax,marker='*', color = 'blue', markersize=30,label='Target')\n",
    "    plt.suptitle('Number of Visits',size = 20)\n",
    "    plt.title(store+', '+str(year),size = 12, pad=20, loc='center')\n",
    "    for x, y, label in zip(temp.geometry.x, temp.geometry.y, temp.safegraph_place_id):\n",
    "        ax.annotate('Target Store', xy=(x, y), xytext=(3, 3), textcoords=\"offset points\")\n",
    "    plt.axis('off')\n",
    "    if 'aggregated' in store:\n",
    "        save_path = '/Volumes/xuyilun/课题/Human Dynamics/safegraph/GOOGLEDRIVES/figures/Yearly_visits/yearly_image/'+year+'/'+store+\"_\"+year+'.png'\n",
    "    else:\n",
    "        save_path = '/Volumes/xuyilun/课题/Human Dynamics/safegraph/GOOGLEDRIVES/figures/Yearly_visits/yearly_image/'+year+'/'+store[3:]+\"_\"+year+'.png'\n",
    "    plt.savefig(save_path,dpi=100)"
   ]
  },
  {
   "cell_type": "code",
   "execution_count": null,
   "metadata": {},
   "outputs": [],
   "source": [
    "years = ['2018','2019','2020']\n",
    "for year in years:\n",
    "    for store in stores:\n",
    "        get_yearly_figure(year, store)"
   ]
  },
  {
   "cell_type": "markdown",
   "metadata": {},
   "source": [
    "## gif"
   ]
  },
  {
   "cell_type": "code",
   "execution_count": null,
   "metadata": {},
   "outputs": [],
   "source": [
    "abs_path = '/Volumes/xuyilun/课题/Human Dynamics/safegraph/GOOGLEDRIVES/figures/Yearly_visits/image'\n",
    "numbers = os.listdir(abs_path)\n",
    "abs_directories = [abs_path+'/'+i for i in numbers if '.DS_Store' not in i]"
   ]
  },
  {
   "cell_type": "code",
   "execution_count": null,
   "metadata": {},
   "outputs": [],
   "source": [
    "def get_gif(directory):\n",
    "    image_list = []\n",
    "    image_names = os.listdir(directory)\n",
    "    images = [directory+'/'+ i for i in image_names if '.DS_Store' not in i]\n",
    "    for i in images:\n",
    "        image_list.append(imageio.imread(i))\n",
    "    gif_save_path = '/Volumes/xuyilun/课题/Human Dynamics/safegraph/GOOGLEDRIVES/figures/Yearly_visits/gif/'+directory.split('/')[-1]+'.gif'\n",
    "    imageio.mimsave(gif_save_path, image_list,duration=1.2)"
   ]
  },
  {
   "cell_type": "code",
   "execution_count": null,
   "metadata": {},
   "outputs": [],
   "source": [
    "for p in abs_directories:\n",
    "    get_gif(p)"
   ]
  }
 ],
 "metadata": {
  "kernelspec": {
   "display_name": "Python 3",
   "language": "python",
   "name": "python3"
  },
  "language_info": {
   "codemirror_mode": {
    "name": "ipython",
    "version": 3
   },
   "file_extension": ".py",
   "mimetype": "text/x-python",
   "name": "python",
   "nbconvert_exporter": "python",
   "pygments_lexer": "ipython3",
   "version": "3.8.5"
  }
 },
 "nbformat": 4,
 "nbformat_minor": 4
}
