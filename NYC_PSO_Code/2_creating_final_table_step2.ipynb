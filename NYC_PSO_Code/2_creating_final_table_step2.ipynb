{
 "cells": [
  {
   "cell_type": "code",
   "execution_count": 1,
   "metadata": {},
   "outputs": [],
   "source": [
    "import pandas as pd\n",
    "import os\n",
    "import gzip\n",
    "import numpy as np\n",
    "import json\n",
    "import ast\n",
    "import geopandas\n",
    "from geopandas import GeoDataFrame\n",
    "from shapely.geometry import Point, Polygon, MultiPolygon\n",
    "from haversine import haversine, Unit\n",
    "from shapely import wkt\n",
    "import warnings\n",
    "warnings.filterwarnings(\"ignore\")\n",
    "from sklearn.metrics.pairwise import cosine_similarity\n",
    "\n",
    "year = 2018"
   ]
  },
  {
   "cell_type": "code",
   "execution_count": 2,
   "metadata": {},
   "outputs": [],
   "source": [
    "table = pd.read_csv(r'F:\\safegraph\\presentation_1105\\table_comprehensive.csv').drop(columns = 'Unnamed: 0')"
   ]
  },
  {
   "cell_type": "code",
   "execution_count": 3,
   "metadata": {},
   "outputs": [],
   "source": [
    "census_data = pd.read_csv(r'F:\\safegraph\\census data\\census_data_by_cbg.csv').drop(columns  = 'Unnamed: 0')\n",
    "census_data['cbg_geometry'] = census_data['cbg_geometry'].apply(wkt.loads)\n",
    "census_gdf = geopandas.GeoDataFrame(census_data, geometry = 'cbg_geometry')"
   ]
  },
  {
   "cell_type": "code",
   "execution_count": 4,
   "metadata": {},
   "outputs": [],
   "source": [
    "census_similarity = pd.read_csv(r'F:\\safegraph\\presentation_1105\\NY_cbg_census.csv').drop(columns = ['Unnamed: 0',\n",
    "                                                                                                                            'NAME'])"
   ]
  },
  {
   "cell_type": "code",
   "execution_count": 5,
   "metadata": {},
   "outputs": [],
   "source": [
    "cbgs = census_data.census_block_group.tolist()"
   ]
  },
  {
   "cell_type": "code",
   "execution_count": 6,
   "metadata": {},
   "outputs": [],
   "source": [
    "census_similarity = census_similarity.rename(columns = {'GEOID': 'cbg'})\n",
    "census_similarity = census_similarity[census_similarity['cbg'].isin(cbgs)]"
   ]
  },
  {
   "cell_type": "code",
   "execution_count": 7,
   "metadata": {},
   "outputs": [],
   "source": [
    "census_similarity = census_similarity.fillna(0)"
   ]
  },
  {
   "cell_type": "code",
   "execution_count": 8,
   "metadata": {},
   "outputs": [],
   "source": [
    "def get_pro(part):\n",
    "    total_list = census_similarity.populationE.tolist()\n",
    "    part_list = census_similarity[part].tolist()\n",
    "    ans = []\n",
    "    for i,num in enumerate(total_list):\n",
    "        if num == 0:\n",
    "            ans.append(0)\n",
    "        else:\n",
    "            ans.append(part_list[i]/num)\n",
    "    return ans"
   ]
  },
  {
   "cell_type": "code",
   "execution_count": 9,
   "metadata": {},
   "outputs": [],
   "source": [
    "change = ['bachelor_degree_25E', 'whiteE', 'blackE', 'asianE', 'hispanicE']\n",
    "for i in change:\n",
    "    census_similarity[i] = get_pro(i)"
   ]
  },
  {
   "cell_type": "code",
   "execution_count": 10,
   "metadata": {},
   "outputs": [
    {
     "data": {
      "text/html": [
       "<div>\n",
       "<style scoped>\n",
       "    .dataframe tbody tr th:only-of-type {\n",
       "        vertical-align: middle;\n",
       "    }\n",
       "\n",
       "    .dataframe tbody tr th {\n",
       "        vertical-align: top;\n",
       "    }\n",
       "\n",
       "    .dataframe thead th {\n",
       "        text-align: right;\n",
       "    }\n",
       "</style>\n",
       "<table border=\"1\" class=\"dataframe\">\n",
       "  <thead>\n",
       "    <tr style=\"text-align: right;\">\n",
       "      <th></th>\n",
       "      <th>cbg</th>\n",
       "      <th>populationE</th>\n",
       "      <th>med_ageE</th>\n",
       "      <th>bachelor_degree_25E</th>\n",
       "      <th>med_hh_incomeE</th>\n",
       "      <th>whiteE</th>\n",
       "      <th>blackE</th>\n",
       "      <th>asianE</th>\n",
       "      <th>hispanicE</th>\n",
       "    </tr>\n",
       "  </thead>\n",
       "  <tbody>\n",
       "    <tr>\n",
       "      <th>0</th>\n",
       "      <td>360050245023</td>\n",
       "      <td>1886</td>\n",
       "      <td>28.9</td>\n",
       "      <td>0.042418</td>\n",
       "      <td>30500.0</td>\n",
       "      <td>0.154295</td>\n",
       "      <td>0.239130</td>\n",
       "      <td>0.000000</td>\n",
       "      <td>0.873807</td>\n",
       "    </tr>\n",
       "    <tr>\n",
       "      <th>1</th>\n",
       "      <td>360050247002</td>\n",
       "      <td>1318</td>\n",
       "      <td>35.4</td>\n",
       "      <td>0.080425</td>\n",
       "      <td>44524.0</td>\n",
       "      <td>0.045524</td>\n",
       "      <td>0.523520</td>\n",
       "      <td>0.004552</td>\n",
       "      <td>0.502276</td>\n",
       "    </tr>\n",
       "    <tr>\n",
       "      <th>2</th>\n",
       "      <td>360050253004</td>\n",
       "      <td>1222</td>\n",
       "      <td>26.6</td>\n",
       "      <td>0.044190</td>\n",
       "      <td>36250.0</td>\n",
       "      <td>0.094108</td>\n",
       "      <td>0.036825</td>\n",
       "      <td>0.000000</td>\n",
       "      <td>0.945172</td>\n",
       "    </tr>\n",
       "    <tr>\n",
       "      <th>3</th>\n",
       "      <td>360050263005</td>\n",
       "      <td>1941</td>\n",
       "      <td>63.8</td>\n",
       "      <td>0.156620</td>\n",
       "      <td>12351.0</td>\n",
       "      <td>0.311180</td>\n",
       "      <td>0.220505</td>\n",
       "      <td>0.000000</td>\n",
       "      <td>0.459042</td>\n",
       "    </tr>\n",
       "    <tr>\n",
       "      <th>4</th>\n",
       "      <td>360050265004</td>\n",
       "      <td>1191</td>\n",
       "      <td>28.2</td>\n",
       "      <td>0.073048</td>\n",
       "      <td>38099.0</td>\n",
       "      <td>0.028547</td>\n",
       "      <td>0.223342</td>\n",
       "      <td>0.073887</td>\n",
       "      <td>0.748950</td>\n",
       "    </tr>\n",
       "    <tr>\n",
       "      <th>...</th>\n",
       "      <td>...</td>\n",
       "      <td>...</td>\n",
       "      <td>...</td>\n",
       "      <td>...</td>\n",
       "      <td>...</td>\n",
       "      <td>...</td>\n",
       "      <td>...</td>\n",
       "      <td>...</td>\n",
       "      <td>...</td>\n",
       "    </tr>\n",
       "    <tr>\n",
       "      <th>14060</th>\n",
       "      <td>360850207000</td>\n",
       "      <td>0</td>\n",
       "      <td>0.0</td>\n",
       "      <td>0.000000</td>\n",
       "      <td>0.0</td>\n",
       "      <td>0.000000</td>\n",
       "      <td>0.000000</td>\n",
       "      <td>0.000000</td>\n",
       "      <td>0.000000</td>\n",
       "    </tr>\n",
       "    <tr>\n",
       "      <th>14061</th>\n",
       "      <td>360850208013</td>\n",
       "      <td>2110</td>\n",
       "      <td>51.9</td>\n",
       "      <td>0.176777</td>\n",
       "      <td>54978.0</td>\n",
       "      <td>0.933175</td>\n",
       "      <td>0.000000</td>\n",
       "      <td>0.066825</td>\n",
       "      <td>0.045498</td>\n",
       "    </tr>\n",
       "    <tr>\n",
       "      <th>14062</th>\n",
       "      <td>360850003000</td>\n",
       "      <td>0</td>\n",
       "      <td>0.0</td>\n",
       "      <td>0.000000</td>\n",
       "      <td>0.0</td>\n",
       "      <td>0.000000</td>\n",
       "      <td>0.000000</td>\n",
       "      <td>0.000000</td>\n",
       "      <td>0.000000</td>\n",
       "    </tr>\n",
       "    <tr>\n",
       "      <th>14063</th>\n",
       "      <td>360850006002</td>\n",
       "      <td>1995</td>\n",
       "      <td>55.4</td>\n",
       "      <td>0.306767</td>\n",
       "      <td>51964.0</td>\n",
       "      <td>0.696241</td>\n",
       "      <td>0.117293</td>\n",
       "      <td>0.112281</td>\n",
       "      <td>0.198997</td>\n",
       "    </tr>\n",
       "    <tr>\n",
       "      <th>14064</th>\n",
       "      <td>360850251002</td>\n",
       "      <td>1510</td>\n",
       "      <td>44.8</td>\n",
       "      <td>0.233775</td>\n",
       "      <td>102798.0</td>\n",
       "      <td>0.925828</td>\n",
       "      <td>0.046358</td>\n",
       "      <td>0.027815</td>\n",
       "      <td>0.147682</td>\n",
       "    </tr>\n",
       "  </tbody>\n",
       "</table>\n",
       "<p>6493 rows × 9 columns</p>\n",
       "</div>"
      ],
      "text/plain": [
       "                cbg  populationE  med_ageE  bachelor_degree_25E  \\\n",
       "0      360050245023         1886      28.9             0.042418   \n",
       "1      360050247002         1318      35.4             0.080425   \n",
       "2      360050253004         1222      26.6             0.044190   \n",
       "3      360050263005         1941      63.8             0.156620   \n",
       "4      360050265004         1191      28.2             0.073048   \n",
       "...             ...          ...       ...                  ...   \n",
       "14060  360850207000            0       0.0             0.000000   \n",
       "14061  360850208013         2110      51.9             0.176777   \n",
       "14062  360850003000            0       0.0             0.000000   \n",
       "14063  360850006002         1995      55.4             0.306767   \n",
       "14064  360850251002         1510      44.8             0.233775   \n",
       "\n",
       "       med_hh_incomeE    whiteE    blackE    asianE  hispanicE  \n",
       "0             30500.0  0.154295  0.239130  0.000000   0.873807  \n",
       "1             44524.0  0.045524  0.523520  0.004552   0.502276  \n",
       "2             36250.0  0.094108  0.036825  0.000000   0.945172  \n",
       "3             12351.0  0.311180  0.220505  0.000000   0.459042  \n",
       "4             38099.0  0.028547  0.223342  0.073887   0.748950  \n",
       "...               ...       ...       ...       ...        ...  \n",
       "14060             0.0  0.000000  0.000000  0.000000   0.000000  \n",
       "14061         54978.0  0.933175  0.000000  0.066825   0.045498  \n",
       "14062             0.0  0.000000  0.000000  0.000000   0.000000  \n",
       "14063         51964.0  0.696241  0.117293  0.112281   0.198997  \n",
       "14064        102798.0  0.925828  0.046358  0.027815   0.147682  \n",
       "\n",
       "[6493 rows x 9 columns]"
      ]
     },
     "execution_count": 10,
     "metadata": {},
     "output_type": "execute_result"
    }
   ],
   "source": [
    "census_similarity"
   ]
  },
  {
   "cell_type": "code",
   "execution_count": 11,
   "metadata": {},
   "outputs": [],
   "source": [
    "census_similarity_compute = census_similarity.drop(columns = ['cbg', 'populationE'])"
   ]
  },
  {
   "cell_type": "code",
   "execution_count": 12,
   "metadata": {},
   "outputs": [],
   "source": [
    "similarities = pd.DataFrame(cosine_similarity(census_similarity_compute, census_similarity_compute))"
   ]
  },
  {
   "cell_type": "code",
   "execution_count": 13,
   "metadata": {},
   "outputs": [],
   "source": [
    "cbgs_in_queue = census_similarity.cbg.tolist()\n",
    "def get_cos_sim(cbg_1, cbg_2):\n",
    "    index_1 = cbgs_in_queue.index(cbg_1)\n",
    "    index_2 = cbgs_in_queue.index(cbg_2)\n",
    "    return similarities.iloc[index_1, index_2]"
   ]
  },
  {
   "cell_type": "code",
   "execution_count": 14,
   "metadata": {},
   "outputs": [],
   "source": [
    "with open('F:\\\\safegraph\\\\nyc_cbgs.json') as f:\n",
    "    data = json.load(f)\n",
    "nyc_list = data['features']\n",
    "nyc_cbg = []\n",
    "for i in nyc_list:\n",
    "    nyc_cbg.append(i['properties']['GEOID'])\n",
    "    \n",
    "def get_stores_foot(group, y):\n",
    "    if group == 'Target':\n",
    "        walk_path_filtered = r'F:\\safegraph\\matrix_0920_Target'\n",
    "    else:\n",
    "        walk_path_filtered = r'F:\\safegraph\\competitors_1030\\matrix'\n",
    "    datapath_all_filtered = os.listdir(walk_path_filtered)\n",
    "    datapath_all_filtered = [walk_path_filtered +'\\\\'+i for i in datapath_all_filtered]\n",
    "    todo_list = [i for i in datapath_all_filtered if str(y) in i]\n",
    "    if group == 'Target':\n",
    "        data_filtered = [pd.read_csv(i).rename(columns = {'Unnamed: 0.1': 'cbg'}).set_index('cbg').drop(columns = ['Unnamed: 0']) \n",
    "                         for i in todo_list]\n",
    "    else:\n",
    "        data_filtered = [pd.read_csv(i).rename(columns = {'Unnamed: 0': 'cbg'}). set_index('cbg') for i in todo_list]\n",
    "    final_data = sum(data_filtered).reset_index()\n",
    "    return final_data\n",
    "\n",
    "target_visitors = get_stores_foot('Target', year)\n",
    "competitors_visitors = get_stores_foot('c', year)\n",
    "visitors = pd.merge(target_visitors, competitors_visitors, on='cbg')"
   ]
  },
  {
   "cell_type": "code",
   "execution_count": 15,
   "metadata": {},
   "outputs": [],
   "source": [
    "shp_path = 'F:\\\\safegraph\\\\tl_2017_36_bg\\\\tl_2017_36_bg.shp'\n",
    "shp_df = geopandas.GeoDataFrame.from_file(shp_path,encoding = 'gb18030')\n",
    "cbg_info = {}\n",
    "cbg_id = shp_df['GEOID'].tolist()\n",
    "cbg_geo = shp_df['geometry'].tolist()\n",
    "for i in range(len(cbg_id)):\n",
    "    if int(cbg_id[i]) in cbgs:\n",
    "        cbg_info[cbg_id[i]] = cbg_geo[i]"
   ]
  },
  {
   "cell_type": "code",
   "execution_count": 16,
   "metadata": {},
   "outputs": [],
   "source": [
    "poi_nyc = pd.read_csv('F:\\safegraph\\sample_data\\core_USA\\poi_NYC.csv')\n",
    "square_data = pd.read_csv(r'F:\\safegraph\\sample_data\\SafeGraphPlacesGeoSupplementSquareFeet.csv')\n",
    "stores_with_poi_data = poi_nyc[poi_nyc['safegraph_place_id'].isin(visitors.columns.tolist())][['safegraph_place_id', 'longitude', 'latitude']]\n",
    "square_data = square_data[square_data['safegraph_place_id'].isin(visitors.columns.tolist())][['safegraph_place_id', 'area_square_feet']]\n",
    "geo_area_stores = pd.merge(stores_with_poi_data, square_data, on = 'safegraph_place_id')\n",
    "geo_area_stores = geo_area_stores.append({'safegraph_place_id':'aggregated_517E','longitude': -73.93100799999999, 'latitude': 40.795408,\n",
    "                                          'area_square_feet':169356}, ignore_index=True)\n",
    "geo_area_stores = geo_area_stores.append({'safegraph_place_id':'aggregated_4024_College','longitude': -73.834744, 'latitude': 40.757749,\n",
    "                                          'area_square_feet':214735}, ignore_index=True)\n",
    "geo_area_stores = geo_area_stores.append({'safegraph_place_id':'aggregated_40W','longitude': -73.907558, 'latitude': 40.872776, \n",
    "                                          'area_square_feet':183593}, ignore_index=True)\n",
    "def get_cbg(p1):\n",
    "    for k,v in cbg_info.items():\n",
    "        if p1.within(v):\n",
    "            return k\n",
    "    return 'No'\n",
    "geometry_poi = [Point(xy) for xy in zip(geo_area_stores.longitude, geo_area_stores.latitude)]\n",
    "geo_area_stores_gdf = GeoDataFrame(geo_area_stores, crs=\"EPSG:4326\", geometry=geometry_poi)\n",
    "geo_area_stores_gdf['geo'] = geo_area_stores_gdf['geometry'].apply(lambda x: (x.y, x.x))\n",
    "geo_area_stores_gdf['cbg'] = geo_area_stores['geometry'].apply(lambda x: get_cbg(x))\n",
    "geo_area_stores_gdf = geo_area_stores_gdf[geo_area_stores_gdf['cbg'] != 'No']\n",
    "geo_area_stores_gdf['cbg'] = geo_area_stores_gdf['cbg'].astype('int64')"
   ]
  },
  {
   "cell_type": "code",
   "execution_count": 17,
   "metadata": {},
   "outputs": [],
   "source": [
    "store_cbg_dict = {}\n",
    "for i, cont in geo_area_stores_gdf.iterrows():\n",
    "    store_cbg_dict[cont.safegraph_place_id] = cont.cbg"
   ]
  },
  {
   "cell_type": "code",
   "execution_count": 18,
   "metadata": {},
   "outputs": [],
   "source": [
    "table['Demographic_similarity'] = table.apply(lambda row: get_cos_sim(row.cbg, store_cbg_dict[row.safegraph_place_id]), axis=1)"
   ]
  },
  {
   "cell_type": "code",
   "execution_count": 19,
   "metadata": {},
   "outputs": [],
   "source": [
    "table.to_csv(r'F:\\safegraph\\presentation_1105\\table_comprehensive_updated.csv')"
   ]
  }
 ],
 "metadata": {
  "kernelspec": {
   "display_name": "Python 3",
   "language": "python",
   "name": "python3"
  },
  "language_info": {
   "codemirror_mode": {
    "name": "ipython",
    "version": 3
   },
   "file_extension": ".py",
   "mimetype": "text/x-python",
   "name": "python",
   "nbconvert_exporter": "python",
   "pygments_lexer": "ipython3",
   "version": "3.8.5"
  }
 },
 "nbformat": 4,
 "nbformat_minor": 4
}
