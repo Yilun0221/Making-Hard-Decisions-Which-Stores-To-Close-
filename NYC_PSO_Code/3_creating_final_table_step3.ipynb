{
 "cells": [
  {
   "cell_type": "code",
   "execution_count": 1,
   "metadata": {},
   "outputs": [],
   "source": [
    "import pandas as pd"
   ]
  },
  {
   "cell_type": "code",
   "execution_count": 2,
   "metadata": {},
   "outputs": [],
   "source": [
    "data = pd.read_csv(r'F:\\safegraph\\presentation_1105\\table_comprehensive_updated.csv').drop(columns = 'Unnamed: 0')"
   ]
  },
  {
   "cell_type": "code",
   "execution_count": 3,
   "metadata": {},
   "outputs": [],
   "source": [
    "#loyalty = pd.read_csv(r'F:\\safegraph\\presentation_1105\\cbg_brand_loyalty.csv')"
   ]
  },
  {
   "cell_type": "code",
   "execution_count": 4,
   "metadata": {},
   "outputs": [],
   "source": [
    "#loyalty.cbg.nunique()"
   ]
  },
  {
   "cell_type": "code",
   "execution_count": 6,
   "metadata": {},
   "outputs": [],
   "source": [
    "def get_table(year):\n",
    "    if year == 2018:\n",
    "        delete = 2019\n",
    "    else:\n",
    "        delete = 2018\n",
    "    temp = data.copy()\n",
    "    cols = temp.columns.tolist()\n",
    "    cols = [i for i in cols if str(delete) not in i]\n",
    "    temp = temp[cols]\n",
    "    \n",
    "    change_dict = {'cbg': 'A_cbg', 'safegraph_place_id': 'B_store', 'Percentage_of_Visits_'+str(year): 'C_Percentage_of_Visits_'+str(year), \n",
    "                  'Number_of_Visits_'+str(year): 'D_ Number_of_Visits_'+str(year), 'Population_in_this_cbg': 'E_Population_in_this_cbg', \n",
    "                  'Population_where_store_is': 'F_Population_where_store_is', \n",
    "                   'Distance_between_cbg_and_store': 'G_ Distance_between_cbg_and_store', 'Area_of_store': 'H_Area_of_store',\n",
    "                  'Includes_parking_lot': 'I_Includes_parking_lot', \n",
    "                   'POI_count_where_store_is': 'J_POI_count_where_store_is',\n",
    "                  'POI_diversity_where_store_is': 'K_POI_diversity_where_store_is', 'Demographic_similarity': 'L_Demographic_similarity',\n",
    "                  'Median_Income_in_this_cbg': 'M_Median_Income_in_this_cbg', \n",
    "                   'Median_Income_where_store_is': 'N_Median_Income_where_store_is', 'Brand_name': 'O_Brand_name',\n",
    "                  'safegraph_brand_id': 'P_safegraph_brand_id', \n",
    "                   'Number_of_Visits_by_brand_' + str(year): 'Q_Number_of_Visits_by_brand_' + str(year),\n",
    "                  'Percentage_of_Visits_by_brand_' + str(year): 'R_Percentage_of_Visits_by_brand_' + str(year)}\n",
    "    \n",
    "    temp = temp.rename(columns = change_dict).sort_index(axis=1)\n",
    "    return temp"
   ]
  },
  {
   "cell_type": "code",
   "execution_count": 7,
   "metadata": {},
   "outputs": [],
   "source": [
    "table_2018 = get_table(2018)\n",
    "table_2019 = get_table(2019)"
   ]
  },
  {
   "cell_type": "code",
   "execution_count": 8,
   "metadata": {},
   "outputs": [],
   "source": [
    "table_2018.to_csv(r'F:\\safegraph\\presentation_1105\\table_2018.csv')\n",
    "table_2019.to_csv(r'F:\\safegraph\\presentation_1105\\table_2019.csv')"
   ]
  }
 ],
 "metadata": {
  "kernelspec": {
   "display_name": "Python 3",
   "language": "python",
   "name": "python3"
  },
  "language_info": {
   "codemirror_mode": {
    "name": "ipython",
    "version": 3
   },
   "file_extension": ".py",
   "mimetype": "text/x-python",
   "name": "python",
   "nbconvert_exporter": "python",
   "pygments_lexer": "ipython3",
   "version": "3.8.5"
  }
 },
 "nbformat": 4,
 "nbformat_minor": 4
}
