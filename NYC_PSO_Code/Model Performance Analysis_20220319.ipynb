{
 "cells": [
  {
   "cell_type": "code",
   "execution_count": 1,
   "id": "191d045c-f663-49cd-b1a1-9b88d3e94857",
   "metadata": {
    "tags": []
   },
   "outputs": [],
   "source": [
    "import pandas as pd\n",
    "import matplotlib.pyplot as plt\n",
    "import seaborn as sns\n",
    "from matplotlib import cm\n",
    "import matplotlib\n",
    "pd.set_option('display.max_columns', None)\n",
    "from six.moves import reduce\n",
    "import scipy\n",
    "from sklearn.metrics import r2_score\n",
    "#scipy.stats.pearsonr\n",
    "import scipy.stats as stats\n",
    "plt.rcParams.update({'font.family': 'Arial'})\n",
    "import warnings\n",
    "warnings.filterwarnings(\"ignore\")"
   ]
  },
  {
   "cell_type": "code",
   "execution_count": 2,
   "id": "64b9dbbf-c634-4f28-9b25-689e49bd4117",
   "metadata": {},
   "outputs": [
    {
     "data": {
      "text/plain": [
       "(1831026, 13)"
      ]
     },
     "execution_count": 2,
     "metadata": {},
     "output_type": "execute_result"
    }
   ],
   "source": [
    "df = pd.read_csv('pred_visits_2019pred_2018params.csv')\n",
    "df.shape"
   ]
  },
  {
   "cell_type": "code",
   "execution_count": 3,
   "id": "8396e58a-a5b0-451c-a4d5-8ea825f69247",
   "metadata": {},
   "outputs": [
    {
     "data": {
      "text/html": [
       "<div>\n",
       "<style scoped>\n",
       "    .dataframe tbody tr th:only-of-type {\n",
       "        vertical-align: middle;\n",
       "    }\n",
       "\n",
       "    .dataframe tbody tr th {\n",
       "        vertical-align: top;\n",
       "    }\n",
       "\n",
       "    .dataframe thead th {\n",
       "        text-align: right;\n",
       "    }\n",
       "</style>\n",
       "<table border=\"1\" class=\"dataframe\">\n",
       "  <thead>\n",
       "    <tr style=\"text-align: right;\">\n",
       "      <th></th>\n",
       "      <th>B_store</th>\n",
       "      <th>I_Includes_parking_lot</th>\n",
       "      <th>C_Percentage_of_Visits</th>\n",
       "      <th>D_Number_of_Visits</th>\n",
       "      <th>H_Area_of_store</th>\n",
       "      <th>R_Percentage_of_Visits_by_brand</th>\n",
       "      <th>G_Distance_between_cbg_and_store</th>\n",
       "      <th>J_POI_count_where_store_is</th>\n",
       "      <th>K_POI_diversity_where_store_is</th>\n",
       "      <th>L_Demographic_similarity</th>\n",
       "      <th>assumed_utility</th>\n",
       "      <th>assumed_visits</th>\n",
       "      <th>A_cbg</th>\n",
       "    </tr>\n",
       "  </thead>\n",
       "  <tbody>\n",
       "    <tr>\n",
       "      <th>0</th>\n",
       "      <td>sg:51c8d943ff72400ab86e7e8896f4b5af</td>\n",
       "      <td>0.0</td>\n",
       "      <td>0.000000</td>\n",
       "      <td>0</td>\n",
       "      <td>2.767137</td>\n",
       "      <td>3.889299</td>\n",
       "      <td>2.791104</td>\n",
       "      <td>1.750881</td>\n",
       "      <td>8.368568</td>\n",
       "      <td>9.999995</td>\n",
       "      <td>5.886651316644441e-12</td>\n",
       "      <td>1.5952825068106435e-09</td>\n",
       "      <td>360610042001</td>\n",
       "    </tr>\n",
       "    <tr>\n",
       "      <th>1</th>\n",
       "      <td>sg:f189f91419974d03a20257132d73da58</td>\n",
       "      <td>1.0</td>\n",
       "      <td>0.000000</td>\n",
       "      <td>0</td>\n",
       "      <td>2.946087</td>\n",
       "      <td>3.889299</td>\n",
       "      <td>3.170047</td>\n",
       "      <td>1.719154</td>\n",
       "      <td>7.646898</td>\n",
       "      <td>9.999999</td>\n",
       "      <td>2.742908415935087e-12</td>\n",
       "      <td>7.433281807184085e-10</td>\n",
       "      <td>360610042001</td>\n",
       "    </tr>\n",
       "    <tr>\n",
       "      <th>2</th>\n",
       "      <td>sg:c7222887b3834a58a6bc40c168cdb38a</td>\n",
       "      <td>0.0</td>\n",
       "      <td>0.000000</td>\n",
       "      <td>0</td>\n",
       "      <td>1.040490</td>\n",
       "      <td>3.889299</td>\n",
       "      <td>1.212747</td>\n",
       "      <td>1.052879</td>\n",
       "      <td>4.730157</td>\n",
       "      <td>1.001538</td>\n",
       "      <td>1.101013548365782e-35</td>\n",
       "      <td>2.9837467160712688e-33</td>\n",
       "      <td>360610042001</td>\n",
       "    </tr>\n",
       "    <tr>\n",
       "      <th>3</th>\n",
       "      <td>sg:e2543bebe82742a1941c21660d9f4168</td>\n",
       "      <td>0.0</td>\n",
       "      <td>0.225092</td>\n",
       "      <td>61</td>\n",
       "      <td>1.391982</td>\n",
       "      <td>3.889299</td>\n",
       "      <td>1.135197</td>\n",
       "      <td>1.401880</td>\n",
       "      <td>7.512664</td>\n",
       "      <td>10.000000</td>\n",
       "      <td>0.4660513866575965</td>\n",
       "      <td>126.29992578420868</td>\n",
       "      <td>360610042001</td>\n",
       "    </tr>\n",
       "    <tr>\n",
       "      <th>4</th>\n",
       "      <td>sg:3275834c58d241baacdb9965f5003af6</td>\n",
       "      <td>1.0</td>\n",
       "      <td>0.000000</td>\n",
       "      <td>0</td>\n",
       "      <td>1.072624</td>\n",
       "      <td>3.889299</td>\n",
       "      <td>3.643312</td>\n",
       "      <td>1.401880</td>\n",
       "      <td>8.002375</td>\n",
       "      <td>9.999999</td>\n",
       "      <td>3.2486804366113063e-16</td>\n",
       "      <td>8.803923983216643e-14</td>\n",
       "      <td>360610042001</td>\n",
       "    </tr>\n",
       "    <tr>\n",
       "      <th>...</th>\n",
       "      <td>...</td>\n",
       "      <td>...</td>\n",
       "      <td>...</td>\n",
       "      <td>...</td>\n",
       "      <td>...</td>\n",
       "      <td>...</td>\n",
       "      <td>...</td>\n",
       "      <td>...</td>\n",
       "      <td>...</td>\n",
       "      <td>...</td>\n",
       "      <td>...</td>\n",
       "      <td>...</td>\n",
       "      <td>...</td>\n",
       "    </tr>\n",
       "    <tr>\n",
       "      <th>1831021</th>\n",
       "      <td>sg:5aa2ec5e377c486ca69da4542b6e4307</td>\n",
       "      <td>1.0</td>\n",
       "      <td>0.000000</td>\n",
       "      <td>0</td>\n",
       "      <td>1.035848</td>\n",
       "      <td>1.000000</td>\n",
       "      <td>1.906477</td>\n",
       "      <td>3.707403</td>\n",
       "      <td>8.843649</td>\n",
       "      <td>10.000000</td>\n",
       "      <td>3.868501831742314e-24</td>\n",
       "      <td>2.321101099045389e-22</td>\n",
       "      <td>360610171006</td>\n",
       "    </tr>\n",
       "    <tr>\n",
       "      <th>1831022</th>\n",
       "      <td>sg:07fafdb3637c46e88d42a8fc2dce529a</td>\n",
       "      <td>1.0</td>\n",
       "      <td>0.000000</td>\n",
       "      <td>0</td>\n",
       "      <td>1.600084</td>\n",
       "      <td>1.000000</td>\n",
       "      <td>3.612197</td>\n",
       "      <td>1.327850</td>\n",
       "      <td>6.933696</td>\n",
       "      <td>9.999999</td>\n",
       "      <td>9.488247779169983e-32</td>\n",
       "      <td>5.692948667501989e-30</td>\n",
       "      <td>360610171006</td>\n",
       "    </tr>\n",
       "    <tr>\n",
       "      <th>1831023</th>\n",
       "      <td>sg:9bbf6c92e7cf4768a8cfdccab7bfb693</td>\n",
       "      <td>1.0</td>\n",
       "      <td>0.000000</td>\n",
       "      <td>0</td>\n",
       "      <td>1.743539</td>\n",
       "      <td>1.000000</td>\n",
       "      <td>2.822336</td>\n",
       "      <td>1.285546</td>\n",
       "      <td>7.416431</td>\n",
       "      <td>1.000000</td>\n",
       "      <td>4.242731403591763e-47</td>\n",
       "      <td>2.5456388421550575e-45</td>\n",
       "      <td>360610171006</td>\n",
       "    </tr>\n",
       "    <tr>\n",
       "      <th>1831024</th>\n",
       "      <td>sg:e4019da3119b4ebfac7b8f9907d68d7c</td>\n",
       "      <td>1.0</td>\n",
       "      <td>0.000000</td>\n",
       "      <td>0</td>\n",
       "      <td>1.005375</td>\n",
       "      <td>1.000000</td>\n",
       "      <td>1.425220</td>\n",
       "      <td>1.454759</td>\n",
       "      <td>7.115848</td>\n",
       "      <td>1.001588</td>\n",
       "      <td>3.537778705346861e-41</td>\n",
       "      <td>2.1226672232081162e-39</td>\n",
       "      <td>360610171006</td>\n",
       "    </tr>\n",
       "    <tr>\n",
       "      <th>1831025</th>\n",
       "      <td>sg:a15937b5adf141d891dd06a9c81347f6</td>\n",
       "      <td>1.0</td>\n",
       "      <td>0.000000</td>\n",
       "      <td>0</td>\n",
       "      <td>1.249625</td>\n",
       "      <td>1.000000</td>\n",
       "      <td>1.554553</td>\n",
       "      <td>5.336075</td>\n",
       "      <td>8.553128</td>\n",
       "      <td>10.000000</td>\n",
       "      <td>1.985451151772556e-21</td>\n",
       "      <td>1.1912706910635336e-19</td>\n",
       "      <td>360610171006</td>\n",
       "    </tr>\n",
       "  </tbody>\n",
       "</table>\n",
       "<p>1831026 rows × 13 columns</p>\n",
       "</div>"
      ],
      "text/plain": [
       "                                     B_store  I_Includes_parking_lot  \\\n",
       "0        sg:51c8d943ff72400ab86e7e8896f4b5af                     0.0   \n",
       "1        sg:f189f91419974d03a20257132d73da58                     1.0   \n",
       "2        sg:c7222887b3834a58a6bc40c168cdb38a                     0.0   \n",
       "3        sg:e2543bebe82742a1941c21660d9f4168                     0.0   \n",
       "4        sg:3275834c58d241baacdb9965f5003af6                     1.0   \n",
       "...                                      ...                     ...   \n",
       "1831021  sg:5aa2ec5e377c486ca69da4542b6e4307                     1.0   \n",
       "1831022  sg:07fafdb3637c46e88d42a8fc2dce529a                     1.0   \n",
       "1831023  sg:9bbf6c92e7cf4768a8cfdccab7bfb693                     1.0   \n",
       "1831024  sg:e4019da3119b4ebfac7b8f9907d68d7c                     1.0   \n",
       "1831025  sg:a15937b5adf141d891dd06a9c81347f6                     1.0   \n",
       "\n",
       "         C_Percentage_of_Visits  D_Number_of_Visits  H_Area_of_store  \\\n",
       "0                      0.000000                   0         2.767137   \n",
       "1                      0.000000                   0         2.946087   \n",
       "2                      0.000000                   0         1.040490   \n",
       "3                      0.225092                  61         1.391982   \n",
       "4                      0.000000                   0         1.072624   \n",
       "...                         ...                 ...              ...   \n",
       "1831021                0.000000                   0         1.035848   \n",
       "1831022                0.000000                   0         1.600084   \n",
       "1831023                0.000000                   0         1.743539   \n",
       "1831024                0.000000                   0         1.005375   \n",
       "1831025                0.000000                   0         1.249625   \n",
       "\n",
       "         R_Percentage_of_Visits_by_brand  G_Distance_between_cbg_and_store  \\\n",
       "0                               3.889299                          2.791104   \n",
       "1                               3.889299                          3.170047   \n",
       "2                               3.889299                          1.212747   \n",
       "3                               3.889299                          1.135197   \n",
       "4                               3.889299                          3.643312   \n",
       "...                                  ...                               ...   \n",
       "1831021                         1.000000                          1.906477   \n",
       "1831022                         1.000000                          3.612197   \n",
       "1831023                         1.000000                          2.822336   \n",
       "1831024                         1.000000                          1.425220   \n",
       "1831025                         1.000000                          1.554553   \n",
       "\n",
       "         J_POI_count_where_store_is  K_POI_diversity_where_store_is  \\\n",
       "0                          1.750881                        8.368568   \n",
       "1                          1.719154                        7.646898   \n",
       "2                          1.052879                        4.730157   \n",
       "3                          1.401880                        7.512664   \n",
       "4                          1.401880                        8.002375   \n",
       "...                             ...                             ...   \n",
       "1831021                    3.707403                        8.843649   \n",
       "1831022                    1.327850                        6.933696   \n",
       "1831023                    1.285546                        7.416431   \n",
       "1831024                    1.454759                        7.115848   \n",
       "1831025                    5.336075                        8.553128   \n",
       "\n",
       "         L_Demographic_similarity         assumed_utility  \\\n",
       "0                        9.999995   5.886651316644441e-12   \n",
       "1                        9.999999   2.742908415935087e-12   \n",
       "2                        1.001538   1.101013548365782e-35   \n",
       "3                       10.000000      0.4660513866575965   \n",
       "4                        9.999999  3.2486804366113063e-16   \n",
       "...                           ...                     ...   \n",
       "1831021                 10.000000   3.868501831742314e-24   \n",
       "1831022                  9.999999   9.488247779169983e-32   \n",
       "1831023                  1.000000   4.242731403591763e-47   \n",
       "1831024                  1.001588   3.537778705346861e-41   \n",
       "1831025                 10.000000   1.985451151772556e-21   \n",
       "\n",
       "                 assumed_visits         A_cbg  \n",
       "0        1.5952825068106435e-09  360610042001  \n",
       "1         7.433281807184085e-10  360610042001  \n",
       "2        2.9837467160712688e-33  360610042001  \n",
       "3            126.29992578420868  360610042001  \n",
       "4         8.803923983216643e-14  360610042001  \n",
       "...                         ...           ...  \n",
       "1831021   2.321101099045389e-22  360610171006  \n",
       "1831022   5.692948667501989e-30  360610171006  \n",
       "1831023  2.5456388421550575e-45  360610171006  \n",
       "1831024  2.1226672232081162e-39  360610171006  \n",
       "1831025  1.1912706910635336e-19  360610171006  \n",
       "\n",
       "[1831026 rows x 13 columns]"
      ]
     },
     "execution_count": 3,
     "metadata": {},
     "output_type": "execute_result"
    }
   ],
   "source": [
    "df"
   ]
  },
  {
   "cell_type": "code",
   "execution_count": 4,
   "id": "4c76fa56-704b-4b53-9c1a-ea5bf841791e",
   "metadata": {},
   "outputs": [],
   "source": [
    "df = df[~df.eq('no visitors in 2018').any(1)]"
   ]
  },
  {
   "cell_type": "code",
   "execution_count": 5,
   "id": "9d3284f1-ecc8-45a7-af10-bf756ab23ff8",
   "metadata": {},
   "outputs": [
    {
     "data": {
      "text/plain": [
       "6298"
      ]
     },
     "execution_count": 5,
     "metadata": {},
     "output_type": "execute_result"
    }
   ],
   "source": [
    "df['A_cbg'].nunique()"
   ]
  },
  {
   "cell_type": "code",
   "execution_count": 6,
   "id": "cc66f143-3aa0-4f96-ab22-ff170352bbd9",
   "metadata": {},
   "outputs": [
    {
     "data": {
      "text/plain": [
       "Index(['B_store', 'I_Includes_parking_lot', 'C_Percentage_of_Visits',\n",
       "       'D_Number_of_Visits', 'H_Area_of_store',\n",
       "       'R_Percentage_of_Visits_by_brand', 'G_Distance_between_cbg_and_store',\n",
       "       'J_POI_count_where_store_is', 'K_POI_diversity_where_store_is',\n",
       "       'L_Demographic_similarity', 'assumed_utility', 'assumed_visits',\n",
       "       'A_cbg'],\n",
       "      dtype='object')"
      ]
     },
     "execution_count": 6,
     "metadata": {},
     "output_type": "execute_result"
    }
   ],
   "source": [
    "df.columns"
   ]
  },
  {
   "cell_type": "code",
   "execution_count": 7,
   "id": "d7a9fb8c-133e-4bf8-948d-11dd7b2723a6",
   "metadata": {},
   "outputs": [
    {
     "data": {
      "text/html": [
       "<div>\n",
       "<style scoped>\n",
       "    .dataframe tbody tr th:only-of-type {\n",
       "        vertical-align: middle;\n",
       "    }\n",
       "\n",
       "    .dataframe tbody tr th {\n",
       "        vertical-align: top;\n",
       "    }\n",
       "\n",
       "    .dataframe thead th {\n",
       "        text-align: right;\n",
       "    }\n",
       "</style>\n",
       "<table border=\"1\" class=\"dataframe\">\n",
       "  <thead>\n",
       "    <tr style=\"text-align: right;\">\n",
       "      <th></th>\n",
       "      <th>B_store</th>\n",
       "      <th>I_Includes_parking_lot</th>\n",
       "      <th>C_Percentage_of_Visits</th>\n",
       "      <th>D_Number_of_Visits</th>\n",
       "      <th>H_Area_of_store</th>\n",
       "      <th>R_Percentage_of_Visits_by_brand</th>\n",
       "      <th>G_Distance_between_cbg_and_store</th>\n",
       "      <th>J_POI_count_where_store_is</th>\n",
       "      <th>K_POI_diversity_where_store_is</th>\n",
       "      <th>L_Demographic_similarity</th>\n",
       "      <th>assumed_utility</th>\n",
       "      <th>assumed_visits</th>\n",
       "      <th>A_cbg</th>\n",
       "    </tr>\n",
       "  </thead>\n",
       "  <tbody>\n",
       "    <tr>\n",
       "      <th>0</th>\n",
       "      <td>sg:51c8d943ff72400ab86e7e8896f4b5af</td>\n",
       "      <td>0.0</td>\n",
       "      <td>0.000000</td>\n",
       "      <td>0</td>\n",
       "      <td>2.767137</td>\n",
       "      <td>3.889299</td>\n",
       "      <td>2.791104</td>\n",
       "      <td>1.750881</td>\n",
       "      <td>8.368568</td>\n",
       "      <td>9.999995</td>\n",
       "      <td>5.886651316644441e-12</td>\n",
       "      <td>1.5952825068106435e-09</td>\n",
       "      <td>360610042001</td>\n",
       "    </tr>\n",
       "    <tr>\n",
       "      <th>1</th>\n",
       "      <td>sg:f189f91419974d03a20257132d73da58</td>\n",
       "      <td>1.0</td>\n",
       "      <td>0.000000</td>\n",
       "      <td>0</td>\n",
       "      <td>2.946087</td>\n",
       "      <td>3.889299</td>\n",
       "      <td>3.170047</td>\n",
       "      <td>1.719154</td>\n",
       "      <td>7.646898</td>\n",
       "      <td>9.999999</td>\n",
       "      <td>2.742908415935087e-12</td>\n",
       "      <td>7.433281807184085e-10</td>\n",
       "      <td>360610042001</td>\n",
       "    </tr>\n",
       "    <tr>\n",
       "      <th>2</th>\n",
       "      <td>sg:c7222887b3834a58a6bc40c168cdb38a</td>\n",
       "      <td>0.0</td>\n",
       "      <td>0.000000</td>\n",
       "      <td>0</td>\n",
       "      <td>1.040490</td>\n",
       "      <td>3.889299</td>\n",
       "      <td>1.212747</td>\n",
       "      <td>1.052879</td>\n",
       "      <td>4.730157</td>\n",
       "      <td>1.001538</td>\n",
       "      <td>1.101013548365782e-35</td>\n",
       "      <td>2.9837467160712688e-33</td>\n",
       "      <td>360610042001</td>\n",
       "    </tr>\n",
       "    <tr>\n",
       "      <th>3</th>\n",
       "      <td>sg:e2543bebe82742a1941c21660d9f4168</td>\n",
       "      <td>0.0</td>\n",
       "      <td>0.225092</td>\n",
       "      <td>61</td>\n",
       "      <td>1.391982</td>\n",
       "      <td>3.889299</td>\n",
       "      <td>1.135197</td>\n",
       "      <td>1.401880</td>\n",
       "      <td>7.512664</td>\n",
       "      <td>10.000000</td>\n",
       "      <td>0.4660513866575965</td>\n",
       "      <td>126.29992578420868</td>\n",
       "      <td>360610042001</td>\n",
       "    </tr>\n",
       "    <tr>\n",
       "      <th>4</th>\n",
       "      <td>sg:3275834c58d241baacdb9965f5003af6</td>\n",
       "      <td>1.0</td>\n",
       "      <td>0.000000</td>\n",
       "      <td>0</td>\n",
       "      <td>1.072624</td>\n",
       "      <td>3.889299</td>\n",
       "      <td>3.643312</td>\n",
       "      <td>1.401880</td>\n",
       "      <td>8.002375</td>\n",
       "      <td>9.999999</td>\n",
       "      <td>3.2486804366113063e-16</td>\n",
       "      <td>8.803923983216643e-14</td>\n",
       "      <td>360610042001</td>\n",
       "    </tr>\n",
       "    <tr>\n",
       "      <th>...</th>\n",
       "      <td>...</td>\n",
       "      <td>...</td>\n",
       "      <td>...</td>\n",
       "      <td>...</td>\n",
       "      <td>...</td>\n",
       "      <td>...</td>\n",
       "      <td>...</td>\n",
       "      <td>...</td>\n",
       "      <td>...</td>\n",
       "      <td>...</td>\n",
       "      <td>...</td>\n",
       "      <td>...</td>\n",
       "      <td>...</td>\n",
       "    </tr>\n",
       "    <tr>\n",
       "      <th>1831021</th>\n",
       "      <td>sg:5aa2ec5e377c486ca69da4542b6e4307</td>\n",
       "      <td>1.0</td>\n",
       "      <td>0.000000</td>\n",
       "      <td>0</td>\n",
       "      <td>1.035848</td>\n",
       "      <td>1.000000</td>\n",
       "      <td>1.906477</td>\n",
       "      <td>3.707403</td>\n",
       "      <td>8.843649</td>\n",
       "      <td>10.000000</td>\n",
       "      <td>3.868501831742314e-24</td>\n",
       "      <td>2.321101099045389e-22</td>\n",
       "      <td>360610171006</td>\n",
       "    </tr>\n",
       "    <tr>\n",
       "      <th>1831022</th>\n",
       "      <td>sg:07fafdb3637c46e88d42a8fc2dce529a</td>\n",
       "      <td>1.0</td>\n",
       "      <td>0.000000</td>\n",
       "      <td>0</td>\n",
       "      <td>1.600084</td>\n",
       "      <td>1.000000</td>\n",
       "      <td>3.612197</td>\n",
       "      <td>1.327850</td>\n",
       "      <td>6.933696</td>\n",
       "      <td>9.999999</td>\n",
       "      <td>9.488247779169983e-32</td>\n",
       "      <td>5.692948667501989e-30</td>\n",
       "      <td>360610171006</td>\n",
       "    </tr>\n",
       "    <tr>\n",
       "      <th>1831023</th>\n",
       "      <td>sg:9bbf6c92e7cf4768a8cfdccab7bfb693</td>\n",
       "      <td>1.0</td>\n",
       "      <td>0.000000</td>\n",
       "      <td>0</td>\n",
       "      <td>1.743539</td>\n",
       "      <td>1.000000</td>\n",
       "      <td>2.822336</td>\n",
       "      <td>1.285546</td>\n",
       "      <td>7.416431</td>\n",
       "      <td>1.000000</td>\n",
       "      <td>4.242731403591763e-47</td>\n",
       "      <td>2.5456388421550575e-45</td>\n",
       "      <td>360610171006</td>\n",
       "    </tr>\n",
       "    <tr>\n",
       "      <th>1831024</th>\n",
       "      <td>sg:e4019da3119b4ebfac7b8f9907d68d7c</td>\n",
       "      <td>1.0</td>\n",
       "      <td>0.000000</td>\n",
       "      <td>0</td>\n",
       "      <td>1.005375</td>\n",
       "      <td>1.000000</td>\n",
       "      <td>1.425220</td>\n",
       "      <td>1.454759</td>\n",
       "      <td>7.115848</td>\n",
       "      <td>1.001588</td>\n",
       "      <td>3.537778705346861e-41</td>\n",
       "      <td>2.1226672232081162e-39</td>\n",
       "      <td>360610171006</td>\n",
       "    </tr>\n",
       "    <tr>\n",
       "      <th>1831025</th>\n",
       "      <td>sg:a15937b5adf141d891dd06a9c81347f6</td>\n",
       "      <td>1.0</td>\n",
       "      <td>0.000000</td>\n",
       "      <td>0</td>\n",
       "      <td>1.249625</td>\n",
       "      <td>1.000000</td>\n",
       "      <td>1.554553</td>\n",
       "      <td>5.336075</td>\n",
       "      <td>8.553128</td>\n",
       "      <td>10.000000</td>\n",
       "      <td>1.985451151772556e-21</td>\n",
       "      <td>1.1912706910635336e-19</td>\n",
       "      <td>360610171006</td>\n",
       "    </tr>\n",
       "  </tbody>\n",
       "</table>\n",
       "<p>1776036 rows × 13 columns</p>\n",
       "</div>"
      ],
      "text/plain": [
       "                                     B_store  I_Includes_parking_lot  \\\n",
       "0        sg:51c8d943ff72400ab86e7e8896f4b5af                     0.0   \n",
       "1        sg:f189f91419974d03a20257132d73da58                     1.0   \n",
       "2        sg:c7222887b3834a58a6bc40c168cdb38a                     0.0   \n",
       "3        sg:e2543bebe82742a1941c21660d9f4168                     0.0   \n",
       "4        sg:3275834c58d241baacdb9965f5003af6                     1.0   \n",
       "...                                      ...                     ...   \n",
       "1831021  sg:5aa2ec5e377c486ca69da4542b6e4307                     1.0   \n",
       "1831022  sg:07fafdb3637c46e88d42a8fc2dce529a                     1.0   \n",
       "1831023  sg:9bbf6c92e7cf4768a8cfdccab7bfb693                     1.0   \n",
       "1831024  sg:e4019da3119b4ebfac7b8f9907d68d7c                     1.0   \n",
       "1831025  sg:a15937b5adf141d891dd06a9c81347f6                     1.0   \n",
       "\n",
       "         C_Percentage_of_Visits  D_Number_of_Visits  H_Area_of_store  \\\n",
       "0                      0.000000                   0         2.767137   \n",
       "1                      0.000000                   0         2.946087   \n",
       "2                      0.000000                   0         1.040490   \n",
       "3                      0.225092                  61         1.391982   \n",
       "4                      0.000000                   0         1.072624   \n",
       "...                         ...                 ...              ...   \n",
       "1831021                0.000000                   0         1.035848   \n",
       "1831022                0.000000                   0         1.600084   \n",
       "1831023                0.000000                   0         1.743539   \n",
       "1831024                0.000000                   0         1.005375   \n",
       "1831025                0.000000                   0         1.249625   \n",
       "\n",
       "         R_Percentage_of_Visits_by_brand  G_Distance_between_cbg_and_store  \\\n",
       "0                               3.889299                          2.791104   \n",
       "1                               3.889299                          3.170047   \n",
       "2                               3.889299                          1.212747   \n",
       "3                               3.889299                          1.135197   \n",
       "4                               3.889299                          3.643312   \n",
       "...                                  ...                               ...   \n",
       "1831021                         1.000000                          1.906477   \n",
       "1831022                         1.000000                          3.612197   \n",
       "1831023                         1.000000                          2.822336   \n",
       "1831024                         1.000000                          1.425220   \n",
       "1831025                         1.000000                          1.554553   \n",
       "\n",
       "         J_POI_count_where_store_is  K_POI_diversity_where_store_is  \\\n",
       "0                          1.750881                        8.368568   \n",
       "1                          1.719154                        7.646898   \n",
       "2                          1.052879                        4.730157   \n",
       "3                          1.401880                        7.512664   \n",
       "4                          1.401880                        8.002375   \n",
       "...                             ...                             ...   \n",
       "1831021                    3.707403                        8.843649   \n",
       "1831022                    1.327850                        6.933696   \n",
       "1831023                    1.285546                        7.416431   \n",
       "1831024                    1.454759                        7.115848   \n",
       "1831025                    5.336075                        8.553128   \n",
       "\n",
       "         L_Demographic_similarity         assumed_utility  \\\n",
       "0                        9.999995   5.886651316644441e-12   \n",
       "1                        9.999999   2.742908415935087e-12   \n",
       "2                        1.001538   1.101013548365782e-35   \n",
       "3                       10.000000      0.4660513866575965   \n",
       "4                        9.999999  3.2486804366113063e-16   \n",
       "...                           ...                     ...   \n",
       "1831021                 10.000000   3.868501831742314e-24   \n",
       "1831022                  9.999999   9.488247779169983e-32   \n",
       "1831023                  1.000000   4.242731403591763e-47   \n",
       "1831024                  1.001588   3.537778705346861e-41   \n",
       "1831025                 10.000000   1.985451151772556e-21   \n",
       "\n",
       "                 assumed_visits         A_cbg  \n",
       "0        1.5952825068106435e-09  360610042001  \n",
       "1         7.433281807184085e-10  360610042001  \n",
       "2        2.9837467160712688e-33  360610042001  \n",
       "3            126.29992578420868  360610042001  \n",
       "4         8.803923983216643e-14  360610042001  \n",
       "...                         ...           ...  \n",
       "1831021   2.321101099045389e-22  360610171006  \n",
       "1831022   5.692948667501989e-30  360610171006  \n",
       "1831023  2.5456388421550575e-45  360610171006  \n",
       "1831024  2.1226672232081162e-39  360610171006  \n",
       "1831025  1.1912706910635336e-19  360610171006  \n",
       "\n",
       "[1776036 rows x 13 columns]"
      ]
     },
     "execution_count": 7,
     "metadata": {},
     "output_type": "execute_result"
    }
   ],
   "source": [
    "df"
   ]
  },
  {
   "cell_type": "code",
   "execution_count": 8,
   "id": "afb6279d-1a5a-464e-8b08-38d44ee61b4d",
   "metadata": {},
   "outputs": [
    {
     "data": {
      "text/plain": [
       "<AxesSubplot:xlabel='H_Area_of_store', ylabel='C_Percentage_of_Visits'>"
      ]
     },
     "execution_count": 8,
     "metadata": {},
     "output_type": "execute_result"
    },
    {
     "data": {
      "image/png": "[encoded data removed]",
      "text/plain": [
       "<Figure size 432x288 with 1 Axes>"
      ]
     },
     "metadata": {
      "needs_background": "light"
     },
     "output_type": "display_data"
    }
   ],
   "source": [
    "df.plot.scatter(x = 'H_Area_of_store', y = 'C_Percentage_of_Visits')"
   ]
  },
  {
   "cell_type": "code",
   "execution_count": 9,
   "id": "360f18c9-f329-4c89-b8a3-9d0352d00bde",
   "metadata": {},
   "outputs": [
    {
     "data": {
      "text/plain": [
       "<AxesSubplot:xlabel='I_Includes_parking_lot', ylabel='C_Percentage_of_Visits'>"
      ]
     },
     "execution_count": 9,
     "metadata": {},
     "output_type": "execute_result"
    },
    {
     "data": {
      "image/png": "[encoded data removed]",
      "text/plain": [
       "<Figure size 432x288 with 1 Axes>"
      ]
     },
     "metadata": {
      "needs_background": "light"
     },
     "output_type": "display_data"
    }
   ],
   "source": [
    "df.plot.scatter(x = 'I_Includes_parking_lot', y = 'C_Percentage_of_Visits')"
   ]
  },
  {
   "cell_type": "code",
   "execution_count": 10,
   "id": "898ad604-915b-4558-8fe5-4bb3db8f484e",
   "metadata": {},
   "outputs": [
    {
     "data": {
      "text/plain": [
       "<AxesSubplot:xlabel='R_Percentage_of_Visits_by_brand', ylabel='C_Percentage_of_Visits'>"
      ]
     },
     "execution_count": 10,
     "metadata": {},
     "output_type": "execute_result"
    },
    {
     "data": {
      "image/png": "[encoded data removed]",
      "text/plain": [
       "<Figure size 432x288 with 1 Axes>"
      ]
     },
     "metadata": {
      "needs_background": "light"
     },
     "output_type": "display_data"
    }
   ],
   "source": [
    "df.plot.scatter(x = 'R_Percentage_of_Visits_by_brand', y = 'C_Percentage_of_Visits')"
   ]
  },
  {
   "cell_type": "code",
   "execution_count": 11,
   "id": "48ff50e4-ec9e-46e8-9b1d-7826eeb0293f",
   "metadata": {},
   "outputs": [
    {
     "data": {
      "text/plain": [
       "<AxesSubplot:xlabel='J_POI_count_where_store_is', ylabel='C_Percentage_of_Visits'>"
      ]
     },
     "execution_count": 11,
     "metadata": {},
     "output_type": "execute_result"
    },
    {
     "data": {
      "image/png": "[encoded data removed]",
      "text/plain": [
       "<Figure size 432x288 with 1 Axes>"
      ]
     },
     "metadata": {
      "needs_background": "light"
     },
     "output_type": "display_data"
    }
   ],
   "source": [
    "df.plot.scatter(x = 'J_POI_count_where_store_is', y = 'C_Percentage_of_Visits')"
   ]
  },
  {
   "cell_type": "code",
   "execution_count": 12,
   "id": "cb967b98-204a-4ba3-9c12-0a3bbc7e418f",
   "metadata": {},
   "outputs": [
    {
     "data": {
      "text/plain": [
       "<AxesSubplot:xlabel='K_POI_diversity_where_store_is', ylabel='C_Percentage_of_Visits'>"
      ]
     },
     "execution_count": 12,
     "metadata": {},
     "output_type": "execute_result"
    },
    {
     "data": {
      "image/png": "[encoded data removed]",
      "text/plain": [
       "<Figure size 432x288 with 1 Axes>"
      ]
     },
     "metadata": {
      "needs_background": "light"
     },
     "output_type": "display_data"
    }
   ],
   "source": [
    "df.plot.scatter(x = 'K_POI_diversity_where_store_is', y = 'C_Percentage_of_Visits')"
   ]
  },
  {
   "cell_type": "code",
   "execution_count": 13,
   "id": "430b7ed5-0929-43cd-8d16-0c850d3d492c",
   "metadata": {},
   "outputs": [
    {
     "data": {
      "text/plain": [
       "<AxesSubplot:xlabel='L_Demographic_similarity', ylabel='C_Percentage_of_Visits'>"
      ]
     },
     "execution_count": 13,
     "metadata": {},
     "output_type": "execute_result"
    },
    {
     "data": {
      "image/png": "[encoded data removed]",
      "text/plain": [
       "<Figure size 432x288 with 1 Axes>"
      ]
     },
     "metadata": {
      "needs_background": "light"
     },
     "output_type": "display_data"
    }
   ],
   "source": [
    "df.plot.scatter(x = 'L_Demographic_similarity', y = 'C_Percentage_of_Visits')"
   ]
  },
  {
   "cell_type": "code",
   "execution_count": 14,
   "id": "6e802e4f-b183-4867-8550-94eae31dc1bc",
   "metadata": {},
   "outputs": [
    {
     "data": {
      "text/plain": [
       "<AxesSubplot:xlabel='G_Distance_between_cbg_and_store', ylabel='C_Percentage_of_Visits'>"
      ]
     },
     "execution_count": 14,
     "metadata": {},
     "output_type": "execute_result"
    },
    {
     "data": {
      "image/png": "[encoded data removed]",
      "text/plain": [
       "<Figure size 432x288 with 1 Axes>"
      ]
     },
     "metadata": {
      "needs_background": "light"
     },
     "output_type": "display_data"
    }
   ],
   "source": [
    "df.plot.scatter(x = 'G_Distance_between_cbg_and_store', y = 'C_Percentage_of_Visits')"
   ]
  },
  {
   "cell_type": "markdown",
   "id": "9100558d-2e20-4196-97a5-d17191345f5e",
   "metadata": {},
   "source": [
    "# distribution of Parameters"
   ]
  },
  {
   "cell_type": "code",
   "execution_count": 15,
   "id": "693e49a8-1449-4abe-8bd8-3c11b16d9e8a",
   "metadata": {},
   "outputs": [
    {
     "data": {
      "text/plain": [
       "(6493, 9)"
      ]
     },
     "execution_count": 15,
     "metadata": {},
     "output_type": "execute_result"
    }
   ],
   "source": [
    "param = pd.read_csv('PSO_7params_NYC_20210616_2018.csv')\n",
    "param.shape"
   ]
  },
  {
   "cell_type": "code",
   "execution_count": 16,
   "id": "43b5ba4b-c507-430c-aa79-e6e031cc63fd",
   "metadata": {},
   "outputs": [
    {
     "data": {
      "text/plain": [
       "Index(['cbg', 'cost', 'H_Area_of_store', 'I_Includes_parking_lot',\n",
       "       'R_Percentage_of_Visits_by_brand', 'J_POI_count_where_store_is',\n",
       "       'K_POI_diversity_where_store_is', 'L_Demographic_similarity',\n",
       "       'G_Distance_between_cbg_and_store'],\n",
       "      dtype='object')"
      ]
     },
     "execution_count": 16,
     "metadata": {},
     "output_type": "execute_result"
    }
   ],
   "source": [
    "param.columns"
   ]
  },
  {
   "cell_type": "code",
   "execution_count": 17,
   "id": "e241ac03-0662-48d9-90c9-19e57a4eb20d",
   "metadata": {},
   "outputs": [],
   "source": [
    "param_plotting = param[['H_Area_of_store', 'I_Includes_parking_lot',\n",
    "       'R_Percentage_of_Visits_by_brand', 'J_POI_count_where_store_is',\n",
    "       'K_POI_diversity_where_store_is', 'L_Demographic_similarity',\n",
    "       'G_Distance_between_cbg_and_store']]"
   ]
  },
  {
   "cell_type": "code",
   "execution_count": 18,
   "id": "7ec351fa-3206-43c2-8329-ca9f7efb807d",
   "metadata": {},
   "outputs": [
    {
     "data": {
      "image/png": "[encoded data removed]",
      "text/plain": [
       "<Figure size 1080x720 with 1 Axes>"
      ]
     },
     "metadata": {
      "needs_background": "light"
     },
     "output_type": "display_data"
    }
   ],
   "source": [
    "\n",
    "param_plotting[~param_plotting.eq('no visitors').any(1)].astype(float).plot.kde(figsize=(15,10),lw=3,\n",
    "                                                                                colormap=cm.tab20b)\n",
    "#plt.title('Parameter Distributions',size = 30,y=1.02)\n",
    "plt.legend(title = 'Calibrated Parameters', fontsize = 14, \n",
    "           title_fontsize = 16,\n",
    "           labels = ['Store area', 'Parking lot', 'Chain loyalty', 'POI count', 'POI diversity', \n",
    "                     'Demographic similarity', 'CBG-store Distance'])\n",
    "plt.xticks(fontsize = 14)\n",
    "plt.yticks(fontsize = 14)\n",
    "plt.ylabel('Density', fontsize = 16)\n",
    "plt.savefig('Figure Reproduction/figures/Value Distribution of Calibrated Parameters.png', dpi=1000,bbox_inches='tight')\n",
    "#plt.show()"
   ]
  },
  {
   "cell_type": "code",
   "execution_count": 19,
   "id": "364494c3-3189-4c72-9aeb-29553570c2ae",
   "metadata": {},
   "outputs": [
    {
     "data": {
      "text/plain": [
       "<AxesSubplot:ylabel='Density'>"
      ]
     },
     "execution_count": 19,
     "metadata": {},
     "output_type": "execute_result"
    },
    {
     "data": {
      "image/png": "[encoded data removed]",
      "text/plain": [
       "<Figure size 1080x720 with 1 Axes>"
      ]
     },
     "metadata": {
      "needs_background": "light"
     },
     "output_type": "display_data"
    }
   ],
   "source": [
    "# this chunk is just to double check whether the legend labels are correct\n",
    "param_plotting[~param_plotting.eq('no visitors').any(1)].astype(float).plot.kde(figsize=(15,10),lw=3,\n",
    "                                                                                colormap=cm.tab20b)"
   ]
  },
  {
   "cell_type": "code",
   "execution_count": 20,
   "id": "8700a514-b899-46fd-908a-111874787052",
   "metadata": {},
   "outputs": [
    {
     "data": {
      "text/plain": [
       "(6298, 9)"
      ]
     },
     "execution_count": 20,
     "metadata": {},
     "output_type": "execute_result"
    }
   ],
   "source": [
    "param = param[~param.eq('no visitors').any(1)]\n",
    "param.shape"
   ]
  },
  {
   "cell_type": "code",
   "execution_count": 21,
   "id": "0bc8eb59-e4e5-4833-bb2c-3fc9ccdbd10d",
   "metadata": {},
   "outputs": [],
   "source": [
    "param[['cost', 'H_Area_of_store', 'I_Includes_parking_lot',\n",
    "       'R_Percentage_of_Visits_by_brand', 'J_POI_count_where_store_is',\n",
    "       'K_POI_diversity_where_store_is', 'L_Demographic_similarity',\n",
    "       'G_Distance_between_cbg_and_store']] = param[['cost', 'H_Area_of_store', 'I_Includes_parking_lot',\n",
    "       'R_Percentage_of_Visits_by_brand', 'J_POI_count_where_store_is',\n",
    "       'K_POI_diversity_where_store_is', 'L_Demographic_similarity',\n",
    "       'G_Distance_between_cbg_and_store']].astype(float)"
   ]
  },
  {
   "cell_type": "code",
   "execution_count": 22,
   "id": "9fdb6ddb-1645-4329-94c3-920392a66281",
   "metadata": {},
   "outputs": [
    {
     "data": {
      "text/html": [
       "<div>\n",
       "<style scoped>\n",
       "    .dataframe tbody tr th:only-of-type {\n",
       "        vertical-align: middle;\n",
       "    }\n",
       "\n",
       "    .dataframe tbody tr th {\n",
       "        vertical-align: top;\n",
       "    }\n",
       "\n",
       "    .dataframe thead th {\n",
       "        text-align: right;\n",
       "    }\n",
       "</style>\n",
       "<table border=\"1\" class=\"dataframe\">\n",
       "  <thead>\n",
       "    <tr style=\"text-align: right;\">\n",
       "      <th></th>\n",
       "      <th>cbg</th>\n",
       "      <th>cost</th>\n",
       "      <th>H_Area_of_store</th>\n",
       "      <th>I_Includes_parking_lot</th>\n",
       "      <th>R_Percentage_of_Visits_by_brand</th>\n",
       "      <th>J_POI_count_where_store_is</th>\n",
       "      <th>K_POI_diversity_where_store_is</th>\n",
       "      <th>L_Demographic_similarity</th>\n",
       "      <th>G_Distance_between_cbg_and_store</th>\n",
       "    </tr>\n",
       "  </thead>\n",
       "  <tbody>\n",
       "    <tr>\n",
       "      <th>0</th>\n",
       "      <td>360471214001</td>\n",
       "      <td>0.027073</td>\n",
       "      <td>10.601947</td>\n",
       "      <td>5.323526</td>\n",
       "      <td>12.750215</td>\n",
       "      <td>15.079083</td>\n",
       "      <td>13.190062</td>\n",
       "      <td>25.832631</td>\n",
       "      <td>28.608641</td>\n",
       "    </tr>\n",
       "    <tr>\n",
       "      <th>1</th>\n",
       "      <td>360471220001</td>\n",
       "      <td>0.354500</td>\n",
       "      <td>5.846828</td>\n",
       "      <td>15.395847</td>\n",
       "      <td>16.519337</td>\n",
       "      <td>9.922379</td>\n",
       "      <td>26.377720</td>\n",
       "      <td>39.380953</td>\n",
       "      <td>37.604922</td>\n",
       "    </tr>\n",
       "    <tr>\n",
       "      <th>2</th>\n",
       "      <td>360471220002</td>\n",
       "      <td>0.103589</td>\n",
       "      <td>2.088900</td>\n",
       "      <td>38.368921</td>\n",
       "      <td>17.006861</td>\n",
       "      <td>14.653217</td>\n",
       "      <td>32.867343</td>\n",
       "      <td>20.665333</td>\n",
       "      <td>38.492082</td>\n",
       "    </tr>\n",
       "    <tr>\n",
       "      <th>3</th>\n",
       "      <td>360470546001</td>\n",
       "      <td>0.264455</td>\n",
       "      <td>9.666614</td>\n",
       "      <td>17.207457</td>\n",
       "      <td>31.633992</td>\n",
       "      <td>2.199153</td>\n",
       "      <td>18.298050</td>\n",
       "      <td>24.201564</td>\n",
       "      <td>23.352351</td>\n",
       "    </tr>\n",
       "    <tr>\n",
       "      <th>4</th>\n",
       "      <td>360470546003</td>\n",
       "      <td>0.218131</td>\n",
       "      <td>1.615208</td>\n",
       "      <td>31.583352</td>\n",
       "      <td>28.440904</td>\n",
       "      <td>1.641019</td>\n",
       "      <td>37.431833</td>\n",
       "      <td>36.048171</td>\n",
       "      <td>19.014460</td>\n",
       "    </tr>\n",
       "    <tr>\n",
       "      <th>...</th>\n",
       "      <td>...</td>\n",
       "      <td>...</td>\n",
       "      <td>...</td>\n",
       "      <td>...</td>\n",
       "      <td>...</td>\n",
       "      <td>...</td>\n",
       "      <td>...</td>\n",
       "      <td>...</td>\n",
       "      <td>...</td>\n",
       "    </tr>\n",
       "    <tr>\n",
       "      <th>6488</th>\n",
       "      <td>360610060001</td>\n",
       "      <td>0.171671</td>\n",
       "      <td>5.866356</td>\n",
       "      <td>22.616331</td>\n",
       "      <td>16.182237</td>\n",
       "      <td>6.671559</td>\n",
       "      <td>25.595195</td>\n",
       "      <td>9.337777</td>\n",
       "      <td>33.476106</td>\n",
       "    </tr>\n",
       "    <tr>\n",
       "      <th>6489</th>\n",
       "      <td>360610077003</td>\n",
       "      <td>0.223377</td>\n",
       "      <td>5.355199</td>\n",
       "      <td>31.030269</td>\n",
       "      <td>12.256551</td>\n",
       "      <td>1.577805</td>\n",
       "      <td>21.327420</td>\n",
       "      <td>8.405546</td>\n",
       "      <td>28.871557</td>\n",
       "    </tr>\n",
       "    <tr>\n",
       "      <th>6490</th>\n",
       "      <td>360610226002</td>\n",
       "      <td>0.369487</td>\n",
       "      <td>16.178367</td>\n",
       "      <td>19.537266</td>\n",
       "      <td>18.296621</td>\n",
       "      <td>13.299002</td>\n",
       "      <td>10.308289</td>\n",
       "      <td>10.381503</td>\n",
       "      <td>25.229657</td>\n",
       "    </tr>\n",
       "    <tr>\n",
       "      <th>6491</th>\n",
       "      <td>360610090003</td>\n",
       "      <td>0.631850</td>\n",
       "      <td>1.259607</td>\n",
       "      <td>24.867940</td>\n",
       "      <td>15.920292</td>\n",
       "      <td>2.965167</td>\n",
       "      <td>17.539245</td>\n",
       "      <td>6.103239</td>\n",
       "      <td>32.988885</td>\n",
       "    </tr>\n",
       "    <tr>\n",
       "      <th>6492</th>\n",
       "      <td>360610130001</td>\n",
       "      <td>0.495660</td>\n",
       "      <td>1.263309</td>\n",
       "      <td>37.340220</td>\n",
       "      <td>30.658005</td>\n",
       "      <td>14.114900</td>\n",
       "      <td>14.046476</td>\n",
       "      <td>20.377766</td>\n",
       "      <td>37.680622</td>\n",
       "    </tr>\n",
       "  </tbody>\n",
       "</table>\n",
       "<p>6298 rows × 9 columns</p>\n",
       "</div>"
      ],
      "text/plain": [
       "               cbg      cost  H_Area_of_store  I_Includes_parking_lot  \\\n",
       "0     360471214001  0.027073        10.601947                5.323526   \n",
       "1     360471220001  0.354500         5.846828               15.395847   \n",
       "2     360471220002  0.103589         2.088900               38.368921   \n",
       "3     360470546001  0.264455         9.666614               17.207457   \n",
       "4     360470546003  0.218131         1.615208               31.583352   \n",
       "...            ...       ...              ...                     ...   \n",
       "6488  360610060001  0.171671         5.866356               22.616331   \n",
       "6489  360610077003  0.223377         5.355199               31.030269   \n",
       "6490  360610226002  0.369487        16.178367               19.537266   \n",
       "6491  360610090003  0.631850         1.259607               24.867940   \n",
       "6492  360610130001  0.495660         1.263309               37.340220   \n",
       "\n",
       "      R_Percentage_of_Visits_by_brand  J_POI_count_where_store_is  \\\n",
       "0                           12.750215                   15.079083   \n",
       "1                           16.519337                    9.922379   \n",
       "2                           17.006861                   14.653217   \n",
       "3                           31.633992                    2.199153   \n",
       "4                           28.440904                    1.641019   \n",
       "...                               ...                         ...   \n",
       "6488                        16.182237                    6.671559   \n",
       "6489                        12.256551                    1.577805   \n",
       "6490                        18.296621                   13.299002   \n",
       "6491                        15.920292                    2.965167   \n",
       "6492                        30.658005                   14.114900   \n",
       "\n",
       "      K_POI_diversity_where_store_is  L_Demographic_similarity  \\\n",
       "0                          13.190062                 25.832631   \n",
       "1                          26.377720                 39.380953   \n",
       "2                          32.867343                 20.665333   \n",
       "3                          18.298050                 24.201564   \n",
       "4                          37.431833                 36.048171   \n",
       "...                              ...                       ...   \n",
       "6488                       25.595195                  9.337777   \n",
       "6489                       21.327420                  8.405546   \n",
       "6490                       10.308289                 10.381503   \n",
       "6491                       17.539245                  6.103239   \n",
       "6492                       14.046476                 20.377766   \n",
       "\n",
       "      G_Distance_between_cbg_and_store  \n",
       "0                            28.608641  \n",
       "1                            37.604922  \n",
       "2                            38.492082  \n",
       "3                            23.352351  \n",
       "4                            19.014460  \n",
       "...                                ...  \n",
       "6488                         33.476106  \n",
       "6489                         28.871557  \n",
       "6490                         25.229657  \n",
       "6491                         32.988885  \n",
       "6492                         37.680622  \n",
       "\n",
       "[6298 rows x 9 columns]"
      ]
     },
     "execution_count": 22,
     "metadata": {},
     "output_type": "execute_result"
    }
   ],
   "source": [
    "param"
   ]
  },
  {
   "cell_type": "code",
   "execution_count": 23,
   "id": "c4d53492-93b5-4584-a6d6-332e7f5df6cf",
   "metadata": {},
   "outputs": [
    {
     "data": {
      "text/plain": [
       "<AxesSubplot:ylabel='Density'>"
      ]
     },
     "execution_count": 23,
     "metadata": {},
     "output_type": "execute_result"
    },
    {
     "data": {
      "image/png": "[encoded data removed]",
      "text/plain": [
       "<Figure size 432x288 with 1 Axes>"
      ]
     },
     "metadata": {
      "needs_background": "light"
     },
     "output_type": "display_data"
    }
   ],
   "source": [
    "param['cost'].plot.kde()"
   ]
  },
  {
   "cell_type": "markdown",
   "id": "ca7674af-1ddf-42e3-9828-07badab4c6c5",
   "metadata": {},
   "source": [
    "# Performance"
   ]
  },
  {
   "cell_type": "code",
   "execution_count": 24,
   "id": "5c1a539d-bba7-4326-928e-9805fdacae37",
   "metadata": {},
   "outputs": [],
   "source": [
    "for i in ['H_Area_of_store', 'I_Includes_parking_lot',\n",
    "       'R_Percentage_of_Visits_by_brand', 'J_POI_count_where_store_is',\n",
    "       'K_POI_diversity_where_store_is', 'L_Demographic_similarity',\n",
    "       'G_Distance_between_cbg_and_store']:\n",
    "    param = param.rename(columns = {i:i + '_param'})"
   ]
  },
  {
   "cell_type": "code",
   "execution_count": 25,
   "id": "a7e229e1-6283-4bd7-8f1b-e591d59fc94e",
   "metadata": {},
   "outputs": [
    {
     "data": {
      "text/plain": [
       "Index(['cbg', 'cost', 'H_Area_of_store_param', 'I_Includes_parking_lot_param',\n",
       "       'R_Percentage_of_Visits_by_brand_param',\n",
       "       'J_POI_count_where_store_is_param',\n",
       "       'K_POI_diversity_where_store_is_param',\n",
       "       'L_Demographic_similarity_param',\n",
       "       'G_Distance_between_cbg_and_store_param'],\n",
       "      dtype='object')"
      ]
     },
     "execution_count": 25,
     "metadata": {},
     "output_type": "execute_result"
    }
   ],
   "source": [
    "param.columns"
   ]
  },
  {
   "cell_type": "code",
   "execution_count": 26,
   "id": "d862c469-ee32-4601-9e1e-686e3f4c71d0",
   "metadata": {},
   "outputs": [],
   "source": [
    "variables = ['H_Area_of_store', 'I_Includes_parking_lot',\n",
    "       'R_Percentage_of_Visits_by_brand',\n",
    "       'J_POI_count_where_store_is',\n",
    "       'K_POI_diversity_where_store_is',\n",
    "       'L_Demographic_similarity',\n",
    "       'G_Distance_between_cbg_and_store']"
   ]
  },
  {
   "cell_type": "code",
   "execution_count": 27,
   "id": "3360e36e-41b8-4461-adf8-bb030974ff49",
   "metadata": {},
   "outputs": [],
   "source": [
    "table_2019 = pd.read_csv('table_2019.csv')"
   ]
  },
  {
   "cell_type": "code",
   "execution_count": 28,
   "id": "20c33b39-2a87-443f-a65f-ad2a867ac18e",
   "metadata": {},
   "outputs": [],
   "source": [
    "#table_2019[(table_2019['B_store'] == 'sg:e2543bebe82742a1941c21660d9f4168') & (table_2019['A_cbg'] ==360610042001)]"
   ]
  },
  {
   "cell_type": "code",
   "execution_count": 29,
   "id": "9478ca70-4c4f-4ae3-824f-6c0faaf5876f",
   "metadata": {},
   "outputs": [
    {
     "data": {
      "text/html": [
       "<div>\n",
       "<style scoped>\n",
       "    .dataframe tbody tr th:only-of-type {\n",
       "        vertical-align: middle;\n",
       "    }\n",
       "\n",
       "    .dataframe tbody tr th {\n",
       "        vertical-align: top;\n",
       "    }\n",
       "\n",
       "    .dataframe thead th {\n",
       "        text-align: right;\n",
       "    }\n",
       "</style>\n",
       "<table border=\"1\" class=\"dataframe\">\n",
       "  <thead>\n",
       "    <tr style=\"text-align: right;\">\n",
       "      <th></th>\n",
       "      <th>B_store</th>\n",
       "      <th>I_Includes_parking_lot</th>\n",
       "      <th>C_Percentage_of_Visits</th>\n",
       "      <th>D_Number_of_Visits</th>\n",
       "      <th>H_Area_of_store</th>\n",
       "      <th>R_Percentage_of_Visits_by_brand</th>\n",
       "      <th>G_Distance_between_cbg_and_store</th>\n",
       "      <th>J_POI_count_where_store_is</th>\n",
       "      <th>K_POI_diversity_where_store_is</th>\n",
       "      <th>L_Demographic_similarity</th>\n",
       "      <th>assumed_utility</th>\n",
       "      <th>assumed_visits</th>\n",
       "      <th>A_cbg</th>\n",
       "      <th>cbg</th>\n",
       "      <th>H_Area_of_store_param</th>\n",
       "      <th>I_Includes_parking_lot_param</th>\n",
       "      <th>R_Percentage_of_Visits_by_brand_param</th>\n",
       "      <th>J_POI_count_where_store_is_param</th>\n",
       "      <th>K_POI_diversity_where_store_is_param</th>\n",
       "      <th>L_Demographic_similarity_param</th>\n",
       "      <th>G_Distance_between_cbg_and_store_param</th>\n",
       "    </tr>\n",
       "  </thead>\n",
       "  <tbody>\n",
       "    <tr>\n",
       "      <th>0</th>\n",
       "      <td>sg:51c8d943ff72400ab86e7e8896f4b5af</td>\n",
       "      <td>0.0</td>\n",
       "      <td>0.000000</td>\n",
       "      <td>0</td>\n",
       "      <td>2.767137</td>\n",
       "      <td>3.889299</td>\n",
       "      <td>2.791104</td>\n",
       "      <td>1.750881</td>\n",
       "      <td>8.368568</td>\n",
       "      <td>9.999995</td>\n",
       "      <td>5.886651316644441e-12</td>\n",
       "      <td>1.5952825068106435e-09</td>\n",
       "      <td>360610042001</td>\n",
       "      <td>360610042001</td>\n",
       "      <td>3.189537</td>\n",
       "      <td>35.745498</td>\n",
       "      <td>12.982317</td>\n",
       "      <td>7.106672</td>\n",
       "      <td>3.344489</td>\n",
       "      <td>31.756765</td>\n",
       "      <td>32.487792</td>\n",
       "    </tr>\n",
       "    <tr>\n",
       "      <th>1</th>\n",
       "      <td>sg:f189f91419974d03a20257132d73da58</td>\n",
       "      <td>1.0</td>\n",
       "      <td>0.000000</td>\n",
       "      <td>0</td>\n",
       "      <td>2.946087</td>\n",
       "      <td>3.889299</td>\n",
       "      <td>3.170047</td>\n",
       "      <td>1.719154</td>\n",
       "      <td>7.646898</td>\n",
       "      <td>9.999999</td>\n",
       "      <td>2.742908415935087e-12</td>\n",
       "      <td>7.433281807184085e-10</td>\n",
       "      <td>360610042001</td>\n",
       "      <td>360610042001</td>\n",
       "      <td>3.189537</td>\n",
       "      <td>35.745498</td>\n",
       "      <td>12.982317</td>\n",
       "      <td>7.106672</td>\n",
       "      <td>3.344489</td>\n",
       "      <td>31.756765</td>\n",
       "      <td>32.487792</td>\n",
       "    </tr>\n",
       "    <tr>\n",
       "      <th>2</th>\n",
       "      <td>sg:c7222887b3834a58a6bc40c168cdb38a</td>\n",
       "      <td>0.0</td>\n",
       "      <td>0.000000</td>\n",
       "      <td>0</td>\n",
       "      <td>1.040490</td>\n",
       "      <td>3.889299</td>\n",
       "      <td>1.212747</td>\n",
       "      <td>1.052879</td>\n",
       "      <td>4.730157</td>\n",
       "      <td>1.001538</td>\n",
       "      <td>1.101013548365782e-35</td>\n",
       "      <td>2.9837467160712688e-33</td>\n",
       "      <td>360610042001</td>\n",
       "      <td>360610042001</td>\n",
       "      <td>3.189537</td>\n",
       "      <td>35.745498</td>\n",
       "      <td>12.982317</td>\n",
       "      <td>7.106672</td>\n",
       "      <td>3.344489</td>\n",
       "      <td>31.756765</td>\n",
       "      <td>32.487792</td>\n",
       "    </tr>\n",
       "    <tr>\n",
       "      <th>3</th>\n",
       "      <td>sg:e2543bebe82742a1941c21660d9f4168</td>\n",
       "      <td>0.0</td>\n",
       "      <td>0.225092</td>\n",
       "      <td>61</td>\n",
       "      <td>1.391982</td>\n",
       "      <td>3.889299</td>\n",
       "      <td>1.135197</td>\n",
       "      <td>1.401880</td>\n",
       "      <td>7.512664</td>\n",
       "      <td>10.000000</td>\n",
       "      <td>0.4660513866575965</td>\n",
       "      <td>126.29992578420868</td>\n",
       "      <td>360610042001</td>\n",
       "      <td>360610042001</td>\n",
       "      <td>3.189537</td>\n",
       "      <td>35.745498</td>\n",
       "      <td>12.982317</td>\n",
       "      <td>7.106672</td>\n",
       "      <td>3.344489</td>\n",
       "      <td>31.756765</td>\n",
       "      <td>32.487792</td>\n",
       "    </tr>\n",
       "    <tr>\n",
       "      <th>4</th>\n",
       "      <td>sg:3275834c58d241baacdb9965f5003af6</td>\n",
       "      <td>1.0</td>\n",
       "      <td>0.000000</td>\n",
       "      <td>0</td>\n",
       "      <td>1.072624</td>\n",
       "      <td>3.889299</td>\n",
       "      <td>3.643312</td>\n",
       "      <td>1.401880</td>\n",
       "      <td>8.002375</td>\n",
       "      <td>9.999999</td>\n",
       "      <td>3.2486804366113063e-16</td>\n",
       "      <td>8.803923983216643e-14</td>\n",
       "      <td>360610042001</td>\n",
       "      <td>360610042001</td>\n",
       "      <td>3.189537</td>\n",
       "      <td>35.745498</td>\n",
       "      <td>12.982317</td>\n",
       "      <td>7.106672</td>\n",
       "      <td>3.344489</td>\n",
       "      <td>31.756765</td>\n",
       "      <td>32.487792</td>\n",
       "    </tr>\n",
       "    <tr>\n",
       "      <th>...</th>\n",
       "      <td>...</td>\n",
       "      <td>...</td>\n",
       "      <td>...</td>\n",
       "      <td>...</td>\n",
       "      <td>...</td>\n",
       "      <td>...</td>\n",
       "      <td>...</td>\n",
       "      <td>...</td>\n",
       "      <td>...</td>\n",
       "      <td>...</td>\n",
       "      <td>...</td>\n",
       "      <td>...</td>\n",
       "      <td>...</td>\n",
       "      <td>...</td>\n",
       "      <td>...</td>\n",
       "      <td>...</td>\n",
       "      <td>...</td>\n",
       "      <td>...</td>\n",
       "      <td>...</td>\n",
       "      <td>...</td>\n",
       "      <td>...</td>\n",
       "    </tr>\n",
       "    <tr>\n",
       "      <th>1776031</th>\n",
       "      <td>sg:5aa2ec5e377c486ca69da4542b6e4307</td>\n",
       "      <td>1.0</td>\n",
       "      <td>0.000000</td>\n",
       "      <td>0</td>\n",
       "      <td>1.035848</td>\n",
       "      <td>1.000000</td>\n",
       "      <td>1.906477</td>\n",
       "      <td>3.707403</td>\n",
       "      <td>8.843649</td>\n",
       "      <td>10.000000</td>\n",
       "      <td>3.868501831742314e-24</td>\n",
       "      <td>2.321101099045389e-22</td>\n",
       "      <td>360610171006</td>\n",
       "      <td>360610171006</td>\n",
       "      <td>5.366132</td>\n",
       "      <td>18.014995</td>\n",
       "      <td>36.367090</td>\n",
       "      <td>1.553968</td>\n",
       "      <td>10.471150</td>\n",
       "      <td>18.468852</td>\n",
       "      <td>24.588668</td>\n",
       "    </tr>\n",
       "    <tr>\n",
       "      <th>1776032</th>\n",
       "      <td>sg:07fafdb3637c46e88d42a8fc2dce529a</td>\n",
       "      <td>1.0</td>\n",
       "      <td>0.000000</td>\n",
       "      <td>0</td>\n",
       "      <td>1.600084</td>\n",
       "      <td>1.000000</td>\n",
       "      <td>3.612197</td>\n",
       "      <td>1.327850</td>\n",
       "      <td>6.933696</td>\n",
       "      <td>9.999999</td>\n",
       "      <td>9.488247779169983e-32</td>\n",
       "      <td>5.692948667501989e-30</td>\n",
       "      <td>360610171006</td>\n",
       "      <td>360610171006</td>\n",
       "      <td>5.366132</td>\n",
       "      <td>18.014995</td>\n",
       "      <td>36.367090</td>\n",
       "      <td>1.553968</td>\n",
       "      <td>10.471150</td>\n",
       "      <td>18.468852</td>\n",
       "      <td>24.588668</td>\n",
       "    </tr>\n",
       "    <tr>\n",
       "      <th>1776033</th>\n",
       "      <td>sg:9bbf6c92e7cf4768a8cfdccab7bfb693</td>\n",
       "      <td>1.0</td>\n",
       "      <td>0.000000</td>\n",
       "      <td>0</td>\n",
       "      <td>1.743539</td>\n",
       "      <td>1.000000</td>\n",
       "      <td>2.822336</td>\n",
       "      <td>1.285546</td>\n",
       "      <td>7.416431</td>\n",
       "      <td>1.000000</td>\n",
       "      <td>4.242731403591763e-47</td>\n",
       "      <td>2.5456388421550575e-45</td>\n",
       "      <td>360610171006</td>\n",
       "      <td>360610171006</td>\n",
       "      <td>5.366132</td>\n",
       "      <td>18.014995</td>\n",
       "      <td>36.367090</td>\n",
       "      <td>1.553968</td>\n",
       "      <td>10.471150</td>\n",
       "      <td>18.468852</td>\n",
       "      <td>24.588668</td>\n",
       "    </tr>\n",
       "    <tr>\n",
       "      <th>1776034</th>\n",
       "      <td>sg:e4019da3119b4ebfac7b8f9907d68d7c</td>\n",
       "      <td>1.0</td>\n",
       "      <td>0.000000</td>\n",
       "      <td>0</td>\n",
       "      <td>1.005375</td>\n",
       "      <td>1.000000</td>\n",
       "      <td>1.425220</td>\n",
       "      <td>1.454759</td>\n",
       "      <td>7.115848</td>\n",
       "      <td>1.001588</td>\n",
       "      <td>3.537778705346861e-41</td>\n",
       "      <td>2.1226672232081162e-39</td>\n",
       "      <td>360610171006</td>\n",
       "      <td>360610171006</td>\n",
       "      <td>5.366132</td>\n",
       "      <td>18.014995</td>\n",
       "      <td>36.367090</td>\n",
       "      <td>1.553968</td>\n",
       "      <td>10.471150</td>\n",
       "      <td>18.468852</td>\n",
       "      <td>24.588668</td>\n",
       "    </tr>\n",
       "    <tr>\n",
       "      <th>1776035</th>\n",
       "      <td>sg:a15937b5adf141d891dd06a9c81347f6</td>\n",
       "      <td>1.0</td>\n",
       "      <td>0.000000</td>\n",
       "      <td>0</td>\n",
       "      <td>1.249625</td>\n",
       "      <td>1.000000</td>\n",
       "      <td>1.554553</td>\n",
       "      <td>5.336075</td>\n",
       "      <td>8.553128</td>\n",
       "      <td>10.000000</td>\n",
       "      <td>1.985451151772556e-21</td>\n",
       "      <td>1.1912706910635336e-19</td>\n",
       "      <td>360610171006</td>\n",
       "      <td>360610171006</td>\n",
       "      <td>5.366132</td>\n",
       "      <td>18.014995</td>\n",
       "      <td>36.367090</td>\n",
       "      <td>1.553968</td>\n",
       "      <td>10.471150</td>\n",
       "      <td>18.468852</td>\n",
       "      <td>24.588668</td>\n",
       "    </tr>\n",
       "  </tbody>\n",
       "</table>\n",
       "<p>1776036 rows × 21 columns</p>\n",
       "</div>"
      ],
      "text/plain": [
       "                                     B_store  I_Includes_parking_lot  \\\n",
       "0        sg:51c8d943ff72400ab86e7e8896f4b5af                     0.0   \n",
       "1        sg:f189f91419974d03a20257132d73da58                     1.0   \n",
       "2        sg:c7222887b3834a58a6bc40c168cdb38a                     0.0   \n",
       "3        sg:e2543bebe82742a1941c21660d9f4168                     0.0   \n",
       "4        sg:3275834c58d241baacdb9965f5003af6                     1.0   \n",
       "...                                      ...                     ...   \n",
       "1776031  sg:5aa2ec5e377c486ca69da4542b6e4307                     1.0   \n",
       "1776032  sg:07fafdb3637c46e88d42a8fc2dce529a                     1.0   \n",
       "1776033  sg:9bbf6c92e7cf4768a8cfdccab7bfb693                     1.0   \n",
       "1776034  sg:e4019da3119b4ebfac7b8f9907d68d7c                     1.0   \n",
       "1776035  sg:a15937b5adf141d891dd06a9c81347f6                     1.0   \n",
       "\n",
       "         C_Percentage_of_Visits  D_Number_of_Visits  H_Area_of_store  \\\n",
       "0                      0.000000                   0         2.767137   \n",
       "1                      0.000000                   0         2.946087   \n",
       "2                      0.000000                   0         1.040490   \n",
       "3                      0.225092                  61         1.391982   \n",
       "4                      0.000000                   0         1.072624   \n",
       "...                         ...                 ...              ...   \n",
       "1776031                0.000000                   0         1.035848   \n",
       "1776032                0.000000                   0         1.600084   \n",
       "1776033                0.000000                   0         1.743539   \n",
       "1776034                0.000000                   0         1.005375   \n",
       "1776035                0.000000                   0         1.249625   \n",
       "\n",
       "         R_Percentage_of_Visits_by_brand  G_Distance_between_cbg_and_store  \\\n",
       "0                               3.889299                          2.791104   \n",
       "1                               3.889299                          3.170047   \n",
       "2                               3.889299                          1.212747   \n",
       "3                               3.889299                          1.135197   \n",
       "4                               3.889299                          3.643312   \n",
       "...                                  ...                               ...   \n",
       "1776031                         1.000000                          1.906477   \n",
       "1776032                         1.000000                          3.612197   \n",
       "1776033                         1.000000                          2.822336   \n",
       "1776034                         1.000000                          1.425220   \n",
       "1776035                         1.000000                          1.554553   \n",
       "\n",
       "         J_POI_count_where_store_is  K_POI_diversity_where_store_is  \\\n",
       "0                          1.750881                        8.368568   \n",
       "1                          1.719154                        7.646898   \n",
       "2                          1.052879                        4.730157   \n",
       "3                          1.401880                        7.512664   \n",
       "4                          1.401880                        8.002375   \n",
       "...                             ...                             ...   \n",
       "1776031                    3.707403                        8.843649   \n",
       "1776032                    1.327850                        6.933696   \n",
       "1776033                    1.285546                        7.416431   \n",
       "1776034                    1.454759                        7.115848   \n",
       "1776035                    5.336075                        8.553128   \n",
       "\n",
       "         L_Demographic_similarity         assumed_utility  \\\n",
       "0                        9.999995   5.886651316644441e-12   \n",
       "1                        9.999999   2.742908415935087e-12   \n",
       "2                        1.001538   1.101013548365782e-35   \n",
       "3                       10.000000      0.4660513866575965   \n",
       "4                        9.999999  3.2486804366113063e-16   \n",
       "...                           ...                     ...   \n",
       "1776031                 10.000000   3.868501831742314e-24   \n",
       "1776032                  9.999999   9.488247779169983e-32   \n",
       "1776033                  1.000000   4.242731403591763e-47   \n",
       "1776034                  1.001588   3.537778705346861e-41   \n",
       "1776035                 10.000000   1.985451151772556e-21   \n",
       "\n",
       "                 assumed_visits         A_cbg           cbg  \\\n",
       "0        1.5952825068106435e-09  360610042001  360610042001   \n",
       "1         7.433281807184085e-10  360610042001  360610042001   \n",
       "2        2.9837467160712688e-33  360610042001  360610042001   \n",
       "3            126.29992578420868  360610042001  360610042001   \n",
       "4         8.803923983216643e-14  360610042001  360610042001   \n",
       "...                         ...           ...           ...   \n",
       "1776031   2.321101099045389e-22  360610171006  360610171006   \n",
       "1776032   5.692948667501989e-30  360610171006  360610171006   \n",
       "1776033  2.5456388421550575e-45  360610171006  360610171006   \n",
       "1776034  2.1226672232081162e-39  360610171006  360610171006   \n",
       "1776035  1.1912706910635336e-19  360610171006  360610171006   \n",
       "\n",
       "         H_Area_of_store_param  I_Includes_parking_lot_param  \\\n",
       "0                     3.189537                     35.745498   \n",
       "1                     3.189537                     35.745498   \n",
       "2                     3.189537                     35.745498   \n",
       "3                     3.189537                     35.745498   \n",
       "4                     3.189537                     35.745498   \n",
       "...                        ...                           ...   \n",
       "1776031               5.366132                     18.014995   \n",
       "1776032               5.366132                     18.014995   \n",
       "1776033               5.366132                     18.014995   \n",
       "1776034               5.366132                     18.014995   \n",
       "1776035               5.366132                     18.014995   \n",
       "\n",
       "         R_Percentage_of_Visits_by_brand_param  \\\n",
       "0                                    12.982317   \n",
       "1                                    12.982317   \n",
       "2                                    12.982317   \n",
       "3                                    12.982317   \n",
       "4                                    12.982317   \n",
       "...                                        ...   \n",
       "1776031                              36.367090   \n",
       "1776032                              36.367090   \n",
       "1776033                              36.367090   \n",
       "1776034                              36.367090   \n",
       "1776035                              36.367090   \n",
       "\n",
       "         J_POI_count_where_store_is_param  \\\n",
       "0                                7.106672   \n",
       "1                                7.106672   \n",
       "2                                7.106672   \n",
       "3                                7.106672   \n",
       "4                                7.106672   \n",
       "...                                   ...   \n",
       "1776031                          1.553968   \n",
       "1776032                          1.553968   \n",
       "1776033                          1.553968   \n",
       "1776034                          1.553968   \n",
       "1776035                          1.553968   \n",
       "\n",
       "         K_POI_diversity_where_store_is_param  L_Demographic_similarity_param  \\\n",
       "0                                    3.344489                       31.756765   \n",
       "1                                    3.344489                       31.756765   \n",
       "2                                    3.344489                       31.756765   \n",
       "3                                    3.344489                       31.756765   \n",
       "4                                    3.344489                       31.756765   \n",
       "...                                       ...                             ...   \n",
       "1776031                             10.471150                       18.468852   \n",
       "1776032                             10.471150                       18.468852   \n",
       "1776033                             10.471150                       18.468852   \n",
       "1776034                             10.471150                       18.468852   \n",
       "1776035                             10.471150                       18.468852   \n",
       "\n",
       "         G_Distance_between_cbg_and_store_param  \n",
       "0                                     32.487792  \n",
       "1                                     32.487792  \n",
       "2                                     32.487792  \n",
       "3                                     32.487792  \n",
       "4                                     32.487792  \n",
       "...                                         ...  \n",
       "1776031                               24.588668  \n",
       "1776032                               24.588668  \n",
       "1776033                               24.588668  \n",
       "1776034                               24.588668  \n",
       "1776035                               24.588668  \n",
       "\n",
       "[1776036 rows x 21 columns]"
      ]
     },
     "execution_count": 29,
     "metadata": {},
     "output_type": "execute_result"
    }
   ],
   "source": [
    "df_pm = pd.merge(df,param.drop(columns = ['cost']), left_on = 'A_cbg', right_on = 'cbg', how='left').dropna()\n",
    "df_pm"
   ]
  },
  {
   "cell_type": "code",
   "execution_count": 30,
   "id": "a42f1cca-70d4-473a-b232-9cc1ae5c1cb0",
   "metadata": {},
   "outputs": [],
   "source": [
    "def get_predicted_raw_visit_share(vars_list, row_here):\n",
    "    share_here = 0\n",
    "    up_here, down_here = [], []\n",
    "    \n",
    "    if 'H_Area_of_store' in vars_list:\n",
    "        up_here.append(row_here['H_Area_of_store']**row_here['H_Area_of_store_param'])\n",
    "    if 'I_Includes_parking_lot' in vars_list:\n",
    "        up_here.append((1+row_here['I_Includes_parking_lot_param'])**row_here['I_Includes_parking_lot'])\n",
    "    if 'R_Percentage_of_Visits_by_brand' in vars_list:\n",
    "        up_here.append(row_here['R_Percentage_of_Visits_by_brand']**row_here['R_Percentage_of_Visits_by_brand_param'])\n",
    "    if 'J_POI_count_where_store_is' in vars_list:\n",
    "        up_here.append(row_here['J_POI_count_where_store_is']**row_here['J_POI_count_where_store_is_param'])\n",
    "    if 'K_POI_diversity_where_store_is' in vars_list:\n",
    "        up_here.append(row_here['K_POI_diversity_where_store_is']**row_here['K_POI_diversity_where_store_is_param'])\n",
    "    if 'L_Demographic_similarity' in vars_list:\n",
    "        up_here.append(row_here['L_Demographic_similarity']**row_here['L_Demographic_similarity_param'])\n",
    "    if 'G_Distance_between_cbg_and_store' in vars_list:\n",
    "        down_here.append(row_here['G_Distance_between_cbg_and_store']**row_here['G_Distance_between_cbg_and_store_param'])\n",
    "        \n",
    "    if len(up_here) > 0:\n",
    "        up_value = reduce(lambda x, y: x*y, up_here)\n",
    "    else:\n",
    "        up_value = 0\n",
    "        \n",
    "    if len(down_here) > 0:\n",
    "        down_value = reduce(lambda x, y: x*y, down_here)\n",
    "    else:\n",
    "        down_value = 0\n",
    "        \n",
    "    if up_value != 0 and down_value == 0:\n",
    "        return up_value\n",
    "    if up_value == 0 and down_value != 0:\n",
    "        return 1/down_value\n",
    "    if up_value != 0 and down_value != 0:\n",
    "        return up_value\n",
    "    if up_value != 0 and down_value != 0:\n",
    "        return up_value/down_value"
   ]
  },
  {
   "cell_type": "code",
   "execution_count": 31,
   "id": "2ee68981-1ce6-4c8d-b793-bc18c1be9157",
   "metadata": {},
   "outputs": [],
   "source": [
    "variable_explaination = {'H_Area_of_store':'Store area', \n",
    "                         'I_Includes_parking_lot': 'Parking lot', \n",
    "                         'R_Percentage_of_Visits_by_brand': 'Chain loyalty', \n",
    "                         'J_POI_count_where_store_is': 'POI count', \n",
    "                         'K_POI_diversity_where_store_is': 'POI diversity',\n",
    "                         'L_Demographic_similarity': 'Demographic similarity', \n",
    "                         'G_Distance_between_cbg_and_store': 'CBG-store Distance'}"
   ]
  },
  {
   "cell_type": "code",
   "execution_count": 32,
   "id": "ca5f825a-2d35-484d-8569-5d20b39327d8",
   "metadata": {},
   "outputs": [
    {
     "data": {
      "text/html": [
       "<div>\n",
       "<style scoped>\n",
       "    .dataframe tbody tr th:only-of-type {\n",
       "        vertical-align: middle;\n",
       "    }\n",
       "\n",
       "    .dataframe tbody tr th {\n",
       "        vertical-align: top;\n",
       "    }\n",
       "\n",
       "    .dataframe thead th {\n",
       "        text-align: right;\n",
       "    }\n",
       "</style>\n",
       "<table border=\"1\" class=\"dataframe\">\n",
       "  <thead>\n",
       "    <tr style=\"text-align: right;\">\n",
       "      <th></th>\n",
       "      <th>A_cbg</th>\n",
       "      <th>C_Percentage_of_Visits</th>\n",
       "      <th>D_Number_of_Visits</th>\n",
       "    </tr>\n",
       "  </thead>\n",
       "  <tbody>\n",
       "    <tr>\n",
       "      <th>0</th>\n",
       "      <td>360050001001</td>\n",
       "      <td>1.0</td>\n",
       "      <td>37</td>\n",
       "    </tr>\n",
       "    <tr>\n",
       "      <th>1</th>\n",
       "      <td>360050002001</td>\n",
       "      <td>1.0</td>\n",
       "      <td>596</td>\n",
       "    </tr>\n",
       "    <tr>\n",
       "      <th>2</th>\n",
       "      <td>360050002002</td>\n",
       "      <td>1.0</td>\n",
       "      <td>1045</td>\n",
       "    </tr>\n",
       "    <tr>\n",
       "      <th>3</th>\n",
       "      <td>360050002003</td>\n",
       "      <td>1.0</td>\n",
       "      <td>541</td>\n",
       "    </tr>\n",
       "    <tr>\n",
       "      <th>4</th>\n",
       "      <td>360050004000</td>\n",
       "      <td>1.0</td>\n",
       "      <td>12</td>\n",
       "    </tr>\n",
       "    <tr>\n",
       "      <th>...</th>\n",
       "      <td>...</td>\n",
       "      <td>...</td>\n",
       "      <td>...</td>\n",
       "    </tr>\n",
       "    <tr>\n",
       "      <th>6293</th>\n",
       "      <td>360850319012</td>\n",
       "      <td>1.0</td>\n",
       "      <td>952</td>\n",
       "    </tr>\n",
       "    <tr>\n",
       "      <th>6294</th>\n",
       "      <td>360850319021</td>\n",
       "      <td>1.0</td>\n",
       "      <td>988</td>\n",
       "    </tr>\n",
       "    <tr>\n",
       "      <th>6295</th>\n",
       "      <td>360850319022</td>\n",
       "      <td>1.0</td>\n",
       "      <td>1596</td>\n",
       "    </tr>\n",
       "    <tr>\n",
       "      <th>6296</th>\n",
       "      <td>360850319023</td>\n",
       "      <td>1.0</td>\n",
       "      <td>1245</td>\n",
       "    </tr>\n",
       "    <tr>\n",
       "      <th>6297</th>\n",
       "      <td>360850323001</td>\n",
       "      <td>1.0</td>\n",
       "      <td>1200</td>\n",
       "    </tr>\n",
       "  </tbody>\n",
       "</table>\n",
       "<p>6298 rows × 3 columns</p>\n",
       "</div>"
      ],
      "text/plain": [
       "             A_cbg  C_Percentage_of_Visits  D_Number_of_Visits\n",
       "0     360050001001                     1.0                  37\n",
       "1     360050002001                     1.0                 596\n",
       "2     360050002002                     1.0                1045\n",
       "3     360050002003                     1.0                 541\n",
       "4     360050004000                     1.0                  12\n",
       "...            ...                     ...                 ...\n",
       "6293  360850319012                     1.0                 952\n",
       "6294  360850319021                     1.0                 988\n",
       "6295  360850319022                     1.0                1596\n",
       "6296  360850319023                     1.0                1245\n",
       "6297  360850323001                     1.0                1200\n",
       "\n",
       "[6298 rows x 3 columns]"
      ]
     },
     "execution_count": 32,
     "metadata": {},
     "output_type": "execute_result"
    }
   ],
   "source": [
    "df_pm.groupby('A_cbg')[['C_Percentage_of_Visits', 'D_Number_of_Visits']].sum().reset_index()"
   ]
  },
  {
   "cell_type": "code",
   "execution_count": 33,
   "id": "689b3b58-79dd-41c3-adf3-f45498cd1457",
   "metadata": {},
   "outputs": [],
   "source": [
    "def get_predicted_visits(vars_list, calibrated_params_here):\n",
    "    #computed_df = df_pm.copy()\n",
    "    \n",
    "    for i in ['H_Area_of_store', 'I_Includes_parking_lot',\n",
    "       'R_Percentage_of_Visits_by_brand', 'J_POI_count_where_store_is',\n",
    "       'K_POI_diversity_where_store_is', 'L_Demographic_similarity',\n",
    "       'G_Distance_between_cbg_and_store']:\n",
    "        if i in calibrated_params_here:\n",
    "            \n",
    "            calibrated_params_here = calibrated_params_here[calibrated_params_here[i] != 'no visitors']            \n",
    "            calibrated_params_here[i] = calibrated_params_here[i].astype(float)\n",
    "            calibrated_params_here = calibrated_params_here.rename(columns = {i:i + '_param'})\n",
    "    \n",
    "    computed_df = pd.merge(df, calibrated_params_here.drop(columns = ['cost']), left_on = 'A_cbg', \n",
    "                           right_on = 'cbg', how='left').dropna()\n",
    "    #vars_here = [i.split('_')[0] for i in vars_list]\n",
    "    computed_df['result_before_norm'] = computed_df.apply(lambda x: get_predicted_raw_visit_share(vars_list, x), axis = 1)\n",
    "    cbg_sum = computed_df.groupby('A_cbg')[['result_before_norm','D_Number_of_Visits']].sum().reset_index().rename(\n",
    "        columns = {'result_before_norm':'result_cbg_sum', 'D_Number_of_Visits': 'Number_of_Visits_in_this_cbg'})\n",
    "    computed_df_general = pd.merge(computed_df, cbg_sum, on = 'A_cbg', how = 'left')\n",
    "    #return computed_df_general\n",
    "    new_col_names = [variable_explaination[v] for v in vars_list]\n",
    "    new_col = '_'.join(new_col_names)+'_pred_visits'\n",
    "    computed_df_general[new_col] = computed_df_general.apply(\n",
    "        lambda x: x['result_before_norm']/x['result_cbg_sum']*x['Number_of_Visits_in_this_cbg'], \n",
    "        axis = 1)\n",
    "    #return pd.merge(df_pm, computed_df_general[['A_cbg', 'B_store', new_col]], on = ['A_cbg', 'B_store'], how = 'left')\n",
    "    return computed_df_general[['A_cbg', 'B_store', 'D_Number_of_Visits', 'assumed_visits', new_col]]"
   ]
  },
  {
   "cell_type": "markdown",
   "id": "6f9a0e2a-6ed8-4c68-8a5d-84bea7364a54",
   "metadata": {},
   "source": [
    "# Pearson Correlations"
   ]
  },
  {
   "cell_type": "code",
   "execution_count": 34,
   "id": "c916ae98-a548-4633-86b9-c947a2693057",
   "metadata": {},
   "outputs": [],
   "source": [
    "df_pm['D_Number_of_Visits'] = df_pm['D_Number_of_Visits'].astype(int)\n",
    "df_pm['assumed_visits'] = df_pm['assumed_visits'].astype(float)"
   ]
  },
  {
   "cell_type": "markdown",
   "id": "9ee51d83-5d0f-435d-a327-e13367db6f30",
   "metadata": {},
   "source": [
    "## General"
   ]
  },
  {
   "cell_type": "code",
   "execution_count": 35,
   "id": "0f7482d7-8dea-4fb8-82f3-0e9e3c162297",
   "metadata": {},
   "outputs": [
    {
     "data": {
      "text/plain": [
       "(0.6535149467929174, 0.0)"
      ]
     },
     "execution_count": 35,
     "metadata": {},
     "output_type": "execute_result"
    }
   ],
   "source": [
    "scipy.stats.pearsonr(df_pm['D_Number_of_Visits'], df_pm['assumed_visits'])"
   ]
  },
  {
   "cell_type": "markdown",
   "id": "b9d5d321-7eb5-48d3-ae14-c334858403fe",
   "metadata": {},
   "source": [
    "## Brand Visits correlation"
   ]
  },
  {
   "cell_type": "code",
   "execution_count": 36,
   "id": "4b8912ee-c803-4b93-bda4-9ae735eb77d5",
   "metadata": {},
   "outputs": [
    {
     "data": {
      "text/html": [
       "<div>\n",
       "<style scoped>\n",
       "    .dataframe tbody tr th:only-of-type {\n",
       "        vertical-align: middle;\n",
       "    }\n",
       "\n",
       "    .dataframe tbody tr th {\n",
       "        vertical-align: top;\n",
       "    }\n",
       "\n",
       "    .dataframe thead th {\n",
       "        text-align: right;\n",
       "    }\n",
       "</style>\n",
       "<table border=\"1\" class=\"dataframe\">\n",
       "  <thead>\n",
       "    <tr style=\"text-align: right;\">\n",
       "      <th></th>\n",
       "      <th>B_store</th>\n",
       "      <th>O_Brand_name</th>\n",
       "    </tr>\n",
       "  </thead>\n",
       "  <tbody>\n",
       "    <tr>\n",
       "      <th>0</th>\n",
       "      <td>sg:51c8d943ff72400ab86e7e8896f4b5af</td>\n",
       "      <td>Target</td>\n",
       "    </tr>\n",
       "    <tr>\n",
       "      <th>1</th>\n",
       "      <td>sg:f189f91419974d03a20257132d73da58</td>\n",
       "      <td>Target</td>\n",
       "    </tr>\n",
       "    <tr>\n",
       "      <th>2</th>\n",
       "      <td>sg:c7222887b3834a58a6bc40c168cdb38a</td>\n",
       "      <td>Target</td>\n",
       "    </tr>\n",
       "    <tr>\n",
       "      <th>3</th>\n",
       "      <td>sg:e2543bebe82742a1941c21660d9f4168</td>\n",
       "      <td>Target</td>\n",
       "    </tr>\n",
       "    <tr>\n",
       "      <th>4</th>\n",
       "      <td>sg:3275834c58d241baacdb9965f5003af6</td>\n",
       "      <td>Target</td>\n",
       "    </tr>\n",
       "    <tr>\n",
       "      <th>...</th>\n",
       "      <td>...</td>\n",
       "      <td>...</td>\n",
       "    </tr>\n",
       "    <tr>\n",
       "      <th>1798561</th>\n",
       "      <td>sg:5aa2ec5e377c486ca69da4542b6e4307</td>\n",
       "      <td>Lou &amp; Grey</td>\n",
       "    </tr>\n",
       "    <tr>\n",
       "      <th>1805054</th>\n",
       "      <td>sg:07fafdb3637c46e88d42a8fc2dce529a</td>\n",
       "      <td>Sears</td>\n",
       "    </tr>\n",
       "    <tr>\n",
       "      <th>1805055</th>\n",
       "      <td>sg:9bbf6c92e7cf4768a8cfdccab7bfb693</td>\n",
       "      <td>Sears</td>\n",
       "    </tr>\n",
       "    <tr>\n",
       "      <th>1818040</th>\n",
       "      <td>sg:e4019da3119b4ebfac7b8f9907d68d7c</td>\n",
       "      <td>Bottega Veneta</td>\n",
       "    </tr>\n",
       "    <tr>\n",
       "      <th>1824533</th>\n",
       "      <td>sg:a15937b5adf141d891dd06a9c81347f6</td>\n",
       "      <td>Saks Fifth Avenue</td>\n",
       "    </tr>\n",
       "  </tbody>\n",
       "</table>\n",
       "<p>282 rows × 2 columns</p>\n",
       "</div>"
      ],
      "text/plain": [
       "                                     B_store       O_Brand_name\n",
       "0        sg:51c8d943ff72400ab86e7e8896f4b5af             Target\n",
       "1        sg:f189f91419974d03a20257132d73da58             Target\n",
       "2        sg:c7222887b3834a58a6bc40c168cdb38a             Target\n",
       "3        sg:e2543bebe82742a1941c21660d9f4168             Target\n",
       "4        sg:3275834c58d241baacdb9965f5003af6             Target\n",
       "...                                      ...                ...\n",
       "1798561  sg:5aa2ec5e377c486ca69da4542b6e4307         Lou & Grey\n",
       "1805054  sg:07fafdb3637c46e88d42a8fc2dce529a              Sears\n",
       "1805055  sg:9bbf6c92e7cf4768a8cfdccab7bfb693              Sears\n",
       "1818040  sg:e4019da3119b4ebfac7b8f9907d68d7c     Bottega Veneta\n",
       "1824533  sg:a15937b5adf141d891dd06a9c81347f6  Saks Fifth Avenue\n",
       "\n",
       "[282 rows x 2 columns]"
      ]
     },
     "execution_count": 36,
     "metadata": {},
     "output_type": "execute_result"
    }
   ],
   "source": [
    "store_brands = table_2019[['B_store', 'O_Brand_name']].drop_duplicates()\n",
    "store_brands"
   ]
  },
  {
   "cell_type": "code",
   "execution_count": 37,
   "id": "0301510a-17bc-454c-95ed-fc591ad1d26a",
   "metadata": {},
   "outputs": [],
   "source": [
    "brand_df = pd.merge(df_pm, store_brands, on = 'B_store', how = 'left')"
   ]
  },
  {
   "cell_type": "code",
   "execution_count": 38,
   "id": "31245aef-d53a-4fb8-b40b-d87de96ae25b",
   "metadata": {},
   "outputs": [
    {
     "data": {
      "text/html": [
       "<div>\n",
       "<style scoped>\n",
       "    .dataframe tbody tr th:only-of-type {\n",
       "        vertical-align: middle;\n",
       "    }\n",
       "\n",
       "    .dataframe tbody tr th {\n",
       "        vertical-align: top;\n",
       "    }\n",
       "\n",
       "    .dataframe thead th {\n",
       "        text-align: right;\n",
       "    }\n",
       "</style>\n",
       "<table border=\"1\" class=\"dataframe\">\n",
       "  <thead>\n",
       "    <tr style=\"text-align: right;\">\n",
       "      <th></th>\n",
       "      <th>B_store</th>\n",
       "      <th>I_Includes_parking_lot</th>\n",
       "      <th>C_Percentage_of_Visits</th>\n",
       "      <th>D_Number_of_Visits</th>\n",
       "      <th>H_Area_of_store</th>\n",
       "      <th>R_Percentage_of_Visits_by_brand</th>\n",
       "      <th>G_Distance_between_cbg_and_store</th>\n",
       "      <th>J_POI_count_where_store_is</th>\n",
       "      <th>K_POI_diversity_where_store_is</th>\n",
       "      <th>L_Demographic_similarity</th>\n",
       "      <th>assumed_utility</th>\n",
       "      <th>assumed_visits</th>\n",
       "      <th>A_cbg</th>\n",
       "      <th>cbg</th>\n",
       "      <th>H_Area_of_store_param</th>\n",
       "      <th>I_Includes_parking_lot_param</th>\n",
       "      <th>R_Percentage_of_Visits_by_brand_param</th>\n",
       "      <th>J_POI_count_where_store_is_param</th>\n",
       "      <th>K_POI_diversity_where_store_is_param</th>\n",
       "      <th>L_Demographic_similarity_param</th>\n",
       "      <th>G_Distance_between_cbg_and_store_param</th>\n",
       "      <th>O_Brand_name</th>\n",
       "    </tr>\n",
       "  </thead>\n",
       "  <tbody>\n",
       "    <tr>\n",
       "      <th>0</th>\n",
       "      <td>sg:51c8d943ff72400ab86e7e8896f4b5af</td>\n",
       "      <td>0.0</td>\n",
       "      <td>0.000000</td>\n",
       "      <td>0</td>\n",
       "      <td>2.767137</td>\n",
       "      <td>3.889299</td>\n",
       "      <td>2.791104</td>\n",
       "      <td>1.750881</td>\n",
       "      <td>8.368568</td>\n",
       "      <td>9.999995</td>\n",
       "      <td>5.886651316644441e-12</td>\n",
       "      <td>1.595283e-09</td>\n",
       "      <td>360610042001</td>\n",
       "      <td>360610042001</td>\n",
       "      <td>3.189537</td>\n",
       "      <td>35.745498</td>\n",
       "      <td>12.982317</td>\n",
       "      <td>7.106672</td>\n",
       "      <td>3.344489</td>\n",
       "      <td>31.756765</td>\n",
       "      <td>32.487792</td>\n",
       "      <td>Target</td>\n",
       "    </tr>\n",
       "    <tr>\n",
       "      <th>1</th>\n",
       "      <td>sg:f189f91419974d03a20257132d73da58</td>\n",
       "      <td>1.0</td>\n",
       "      <td>0.000000</td>\n",
       "      <td>0</td>\n",
       "      <td>2.946087</td>\n",
       "      <td>3.889299</td>\n",
       "      <td>3.170047</td>\n",
       "      <td>1.719154</td>\n",
       "      <td>7.646898</td>\n",
       "      <td>9.999999</td>\n",
       "      <td>2.742908415935087e-12</td>\n",
       "      <td>7.433282e-10</td>\n",
       "      <td>360610042001</td>\n",
       "      <td>360610042001</td>\n",
       "      <td>3.189537</td>\n",
       "      <td>35.745498</td>\n",
       "      <td>12.982317</td>\n",
       "      <td>7.106672</td>\n",
       "      <td>3.344489</td>\n",
       "      <td>31.756765</td>\n",
       "      <td>32.487792</td>\n",
       "      <td>Target</td>\n",
       "    </tr>\n",
       "    <tr>\n",
       "      <th>2</th>\n",
       "      <td>sg:c7222887b3834a58a6bc40c168cdb38a</td>\n",
       "      <td>0.0</td>\n",
       "      <td>0.000000</td>\n",
       "      <td>0</td>\n",
       "      <td>1.040490</td>\n",
       "      <td>3.889299</td>\n",
       "      <td>1.212747</td>\n",
       "      <td>1.052879</td>\n",
       "      <td>4.730157</td>\n",
       "      <td>1.001538</td>\n",
       "      <td>1.101013548365782e-35</td>\n",
       "      <td>2.983747e-33</td>\n",
       "      <td>360610042001</td>\n",
       "      <td>360610042001</td>\n",
       "      <td>3.189537</td>\n",
       "      <td>35.745498</td>\n",
       "      <td>12.982317</td>\n",
       "      <td>7.106672</td>\n",
       "      <td>3.344489</td>\n",
       "      <td>31.756765</td>\n",
       "      <td>32.487792</td>\n",
       "      <td>Target</td>\n",
       "    </tr>\n",
       "    <tr>\n",
       "      <th>3</th>\n",
       "      <td>sg:e2543bebe82742a1941c21660d9f4168</td>\n",
       "      <td>0.0</td>\n",
       "      <td>0.225092</td>\n",
       "      <td>61</td>\n",
       "      <td>1.391982</td>\n",
       "      <td>3.889299</td>\n",
       "      <td>1.135197</td>\n",
       "      <td>1.401880</td>\n",
       "      <td>7.512664</td>\n",
       "      <td>10.000000</td>\n",
       "      <td>0.4660513866575965</td>\n",
       "      <td>1.262999e+02</td>\n",
       "      <td>360610042001</td>\n",
       "      <td>360610042001</td>\n",
       "      <td>3.189537</td>\n",
       "      <td>35.745498</td>\n",
       "      <td>12.982317</td>\n",
       "      <td>7.106672</td>\n",
       "      <td>3.344489</td>\n",
       "      <td>31.756765</td>\n",
       "      <td>32.487792</td>\n",
       "      <td>Target</td>\n",
       "    </tr>\n",
       "    <tr>\n",
       "      <th>4</th>\n",
       "      <td>sg:3275834c58d241baacdb9965f5003af6</td>\n",
       "      <td>1.0</td>\n",
       "      <td>0.000000</td>\n",
       "      <td>0</td>\n",
       "      <td>1.072624</td>\n",
       "      <td>3.889299</td>\n",
       "      <td>3.643312</td>\n",
       "      <td>1.401880</td>\n",
       "      <td>8.002375</td>\n",
       "      <td>9.999999</td>\n",
       "      <td>3.2486804366113063e-16</td>\n",
       "      <td>8.803924e-14</td>\n",
       "      <td>360610042001</td>\n",
       "      <td>360610042001</td>\n",
       "      <td>3.189537</td>\n",
       "      <td>35.745498</td>\n",
       "      <td>12.982317</td>\n",
       "      <td>7.106672</td>\n",
       "      <td>3.344489</td>\n",
       "      <td>31.756765</td>\n",
       "      <td>32.487792</td>\n",
       "      <td>Target</td>\n",
       "    </tr>\n",
       "  </tbody>\n",
       "</table>\n",
       "</div>"
      ],
      "text/plain": [
       "                               B_store  I_Includes_parking_lot  \\\n",
       "0  sg:51c8d943ff72400ab86e7e8896f4b5af                     0.0   \n",
       "1  sg:f189f91419974d03a20257132d73da58                     1.0   \n",
       "2  sg:c7222887b3834a58a6bc40c168cdb38a                     0.0   \n",
       "3  sg:e2543bebe82742a1941c21660d9f4168                     0.0   \n",
       "4  sg:3275834c58d241baacdb9965f5003af6                     1.0   \n",
       "\n",
       "   C_Percentage_of_Visits  D_Number_of_Visits  H_Area_of_store  \\\n",
       "0                0.000000                   0         2.767137   \n",
       "1                0.000000                   0         2.946087   \n",
       "2                0.000000                   0         1.040490   \n",
       "3                0.225092                  61         1.391982   \n",
       "4                0.000000                   0         1.072624   \n",
       "\n",
       "   R_Percentage_of_Visits_by_brand  G_Distance_between_cbg_and_store  \\\n",
       "0                         3.889299                          2.791104   \n",
       "1                         3.889299                          3.170047   \n",
       "2                         3.889299                          1.212747   \n",
       "3                         3.889299                          1.135197   \n",
       "4                         3.889299                          3.643312   \n",
       "\n",
       "   J_POI_count_where_store_is  K_POI_diversity_where_store_is  \\\n",
       "0                    1.750881                        8.368568   \n",
       "1                    1.719154                        7.646898   \n",
       "2                    1.052879                        4.730157   \n",
       "3                    1.401880                        7.512664   \n",
       "4                    1.401880                        8.002375   \n",
       "\n",
       "   L_Demographic_similarity         assumed_utility  assumed_visits  \\\n",
       "0                  9.999995   5.886651316644441e-12    1.595283e-09   \n",
       "1                  9.999999   2.742908415935087e-12    7.433282e-10   \n",
       "2                  1.001538   1.101013548365782e-35    2.983747e-33   \n",
       "3                 10.000000      0.4660513866575965    1.262999e+02   \n",
       "4                  9.999999  3.2486804366113063e-16    8.803924e-14   \n",
       "\n",
       "          A_cbg           cbg  H_Area_of_store_param  \\\n",
       "0  360610042001  360610042001               3.189537   \n",
       "1  360610042001  360610042001               3.189537   \n",
       "2  360610042001  360610042001               3.189537   \n",
       "3  360610042001  360610042001               3.189537   \n",
       "4  360610042001  360610042001               3.189537   \n",
       "\n",
       "   I_Includes_parking_lot_param  R_Percentage_of_Visits_by_brand_param  \\\n",
       "0                     35.745498                              12.982317   \n",
       "1                     35.745498                              12.982317   \n",
       "2                     35.745498                              12.982317   \n",
       "3                     35.745498                              12.982317   \n",
       "4                     35.745498                              12.982317   \n",
       "\n",
       "   J_POI_count_where_store_is_param  K_POI_diversity_where_store_is_param  \\\n",
       "0                          7.106672                              3.344489   \n",
       "1                          7.106672                              3.344489   \n",
       "2                          7.106672                              3.344489   \n",
       "3                          7.106672                              3.344489   \n",
       "4                          7.106672                              3.344489   \n",
       "\n",
       "   L_Demographic_similarity_param  G_Distance_between_cbg_and_store_param  \\\n",
       "0                       31.756765                               32.487792   \n",
       "1                       31.756765                               32.487792   \n",
       "2                       31.756765                               32.487792   \n",
       "3                       31.756765                               32.487792   \n",
       "4                       31.756765                               32.487792   \n",
       "\n",
       "  O_Brand_name  \n",
       "0       Target  \n",
       "1       Target  \n",
       "2       Target  \n",
       "3       Target  \n",
       "4       Target  "
      ]
     },
     "execution_count": 38,
     "metadata": {},
     "output_type": "execute_result"
    }
   ],
   "source": [
    "brand_df.head()"
   ]
  },
  {
   "cell_type": "code",
   "execution_count": 39,
   "id": "677d3ccb-b0a6-4b80-b9fe-d9c68d0be841",
   "metadata": {},
   "outputs": [
    {
     "data": {
      "text/html": [
       "<div>\n",
       "<style scoped>\n",
       "    .dataframe tbody tr th:only-of-type {\n",
       "        vertical-align: middle;\n",
       "    }\n",
       "\n",
       "    .dataframe tbody tr th {\n",
       "        vertical-align: top;\n",
       "    }\n",
       "\n",
       "    .dataframe thead th {\n",
       "        text-align: right;\n",
       "    }\n",
       "</style>\n",
       "<table border=\"1\" class=\"dataframe\">\n",
       "  <thead>\n",
       "    <tr style=\"text-align: right;\">\n",
       "      <th></th>\n",
       "      <th>O_Brand_name</th>\n",
       "      <th>assumed_visits</th>\n",
       "      <th>D_Number_of_Visits</th>\n",
       "    </tr>\n",
       "  </thead>\n",
       "  <tbody>\n",
       "    <tr>\n",
       "      <th>0</th>\n",
       "      <td>Amazon 4-Star</td>\n",
       "      <td>228.032335</td>\n",
       "      <td>1503</td>\n",
       "    </tr>\n",
       "    <tr>\n",
       "      <th>1</th>\n",
       "      <td>BJ's Wholesale Club</td>\n",
       "      <td>159536.187923</td>\n",
       "      <td>173815</td>\n",
       "    </tr>\n",
       "    <tr>\n",
       "      <th>2</th>\n",
       "      <td>Barneys New York</td>\n",
       "      <td>2361.296113</td>\n",
       "      <td>10314</td>\n",
       "    </tr>\n",
       "    <tr>\n",
       "      <th>3</th>\n",
       "      <td>Bloomingdale's</td>\n",
       "      <td>41387.146564</td>\n",
       "      <td>47925</td>\n",
       "    </tr>\n",
       "    <tr>\n",
       "      <th>4</th>\n",
       "      <td>Bottega Veneta</td>\n",
       "      <td>2.159021</td>\n",
       "      <td>635</td>\n",
       "    </tr>\n",
       "    <tr>\n",
       "      <th>5</th>\n",
       "      <td>Costco Wholesale Corp.</td>\n",
       "      <td>197854.797106</td>\n",
       "      <td>190020</td>\n",
       "    </tr>\n",
       "    <tr>\n",
       "      <th>6</th>\n",
       "      <td>DAISO</td>\n",
       "      <td>25139.028201</td>\n",
       "      <td>28075</td>\n",
       "    </tr>\n",
       "    <tr>\n",
       "      <th>7</th>\n",
       "      <td>Dollar General</td>\n",
       "      <td>49880.015834</td>\n",
       "      <td>103653</td>\n",
       "    </tr>\n",
       "    <tr>\n",
       "      <th>8</th>\n",
       "      <td>Dollar Tree</td>\n",
       "      <td>354056.494565</td>\n",
       "      <td>375495</td>\n",
       "    </tr>\n",
       "    <tr>\n",
       "      <th>9</th>\n",
       "      <td>Family Dollar Stores</td>\n",
       "      <td>201450.133298</td>\n",
       "      <td>197309</td>\n",
       "    </tr>\n",
       "    <tr>\n",
       "      <th>10</th>\n",
       "      <td>Five Below</td>\n",
       "      <td>31397.176009</td>\n",
       "      <td>66267</td>\n",
       "    </tr>\n",
       "    <tr>\n",
       "      <th>11</th>\n",
       "      <td>Hermès</td>\n",
       "      <td>1754.836930</td>\n",
       "      <td>8829</td>\n",
       "    </tr>\n",
       "    <tr>\n",
       "      <th>12</th>\n",
       "      <td>JCPenney</td>\n",
       "      <td>15366.674434</td>\n",
       "      <td>59387</td>\n",
       "    </tr>\n",
       "    <tr>\n",
       "      <th>13</th>\n",
       "      <td>Kmart</td>\n",
       "      <td>27275.651606</td>\n",
       "      <td>22636</td>\n",
       "    </tr>\n",
       "    <tr>\n",
       "      <th>14</th>\n",
       "      <td>Kohl's</td>\n",
       "      <td>45704.369550</td>\n",
       "      <td>55079</td>\n",
       "    </tr>\n",
       "    <tr>\n",
       "      <th>15</th>\n",
       "      <td>Lou &amp; Grey</td>\n",
       "      <td>192.867407</td>\n",
       "      <td>754</td>\n",
       "    </tr>\n",
       "    <tr>\n",
       "      <th>16</th>\n",
       "      <td>Macy's</td>\n",
       "      <td>273567.291492</td>\n",
       "      <td>224716</td>\n",
       "    </tr>\n",
       "    <tr>\n",
       "      <th>17</th>\n",
       "      <td>Neiman Marcus</td>\n",
       "      <td>1513.334241</td>\n",
       "      <td>6580</td>\n",
       "    </tr>\n",
       "    <tr>\n",
       "      <th>18</th>\n",
       "      <td>Saks Fifth Avenue</td>\n",
       "      <td>416.856208</td>\n",
       "      <td>743</td>\n",
       "    </tr>\n",
       "    <tr>\n",
       "      <th>19</th>\n",
       "      <td>Saks Off Fifth</td>\n",
       "      <td>891.312672</td>\n",
       "      <td>7277</td>\n",
       "    </tr>\n",
       "    <tr>\n",
       "      <th>20</th>\n",
       "      <td>Sears</td>\n",
       "      <td>4826.942580</td>\n",
       "      <td>12034</td>\n",
       "    </tr>\n",
       "    <tr>\n",
       "      <th>21</th>\n",
       "      <td>Sears Home Services</td>\n",
       "      <td>43314.346222</td>\n",
       "      <td>88106</td>\n",
       "    </tr>\n",
       "    <tr>\n",
       "      <th>22</th>\n",
       "      <td>T.J. Maxx</td>\n",
       "      <td>94346.823341</td>\n",
       "      <td>192531</td>\n",
       "    </tr>\n",
       "    <tr>\n",
       "      <th>23</th>\n",
       "      <td>Target</td>\n",
       "      <td>685220.226346</td>\n",
       "      <td>384001</td>\n",
       "    </tr>\n",
       "  </tbody>\n",
       "</table>\n",
       "</div>"
      ],
      "text/plain": [
       "              O_Brand_name  assumed_visits  D_Number_of_Visits\n",
       "0            Amazon 4-Star      228.032335                1503\n",
       "1      BJ's Wholesale Club   159536.187923              173815\n",
       "2         Barneys New York     2361.296113               10314\n",
       "3           Bloomingdale's    41387.146564               47925\n",
       "4           Bottega Veneta        2.159021                 635\n",
       "5   Costco Wholesale Corp.   197854.797106              190020\n",
       "6                    DAISO    25139.028201               28075\n",
       "7           Dollar General    49880.015834              103653\n",
       "8              Dollar Tree   354056.494565              375495\n",
       "9     Family Dollar Stores   201450.133298              197309\n",
       "10              Five Below    31397.176009               66267\n",
       "11                  Hermès     1754.836930                8829\n",
       "12                JCPenney    15366.674434               59387\n",
       "13                   Kmart    27275.651606               22636\n",
       "14                  Kohl's    45704.369550               55079\n",
       "15              Lou & Grey      192.867407                 754\n",
       "16                  Macy's   273567.291492              224716\n",
       "17           Neiman Marcus     1513.334241                6580\n",
       "18       Saks Fifth Avenue      416.856208                 743\n",
       "19          Saks Off Fifth      891.312672                7277\n",
       "20                   Sears     4826.942580               12034\n",
       "21     Sears Home Services    43314.346222               88106\n",
       "22               T.J. Maxx    94346.823341              192531\n",
       "23                  Target   685220.226346              384001"
      ]
     },
     "execution_count": 39,
     "metadata": {},
     "output_type": "execute_result"
    }
   ],
   "source": [
    "brand_visit_comparison = brand_df.groupby(['O_Brand_name'])['assumed_visits','D_Number_of_Visits'].sum().reset_index()\n",
    "brand_visit_comparison\n",
    "#brand_df.groupby(['O_Brand_name']).agg({'assumed_visits':'sum','D_Number_of_Visits':'sum'})"
   ]
  },
  {
   "cell_type": "code",
   "execution_count": 40,
   "id": "047907e2",
   "metadata": {},
   "outputs": [
    {
     "data": {
      "text/plain": [
       "(0.9207363012913898, 1.8468289466080073e-10)"
      ]
     },
     "execution_count": 40,
     "metadata": {},
     "output_type": "execute_result"
    }
   ],
   "source": [
    "scipy.stats.pearsonr(brand_visit_comparison['D_Number_of_Visits'], brand_visit_comparison['assumed_visits'])"
   ]
  },
  {
   "cell_type": "markdown",
   "id": "498f4c9b",
   "metadata": {},
   "source": [
    "## Store Visits correlation"
   ]
  },
  {
   "cell_type": "code",
   "execution_count": 41,
   "id": "962ef1fd",
   "metadata": {},
   "outputs": [
    {
     "data": {
      "text/html": [
       "<div>\n",
       "<style scoped>\n",
       "    .dataframe tbody tr th:only-of-type {\n",
       "        vertical-align: middle;\n",
       "    }\n",
       "\n",
       "    .dataframe tbody tr th {\n",
       "        vertical-align: top;\n",
       "    }\n",
       "\n",
       "    .dataframe thead th {\n",
       "        text-align: right;\n",
       "    }\n",
       "</style>\n",
       "<table border=\"1\" class=\"dataframe\">\n",
       "  <thead>\n",
       "    <tr style=\"text-align: right;\">\n",
       "      <th></th>\n",
       "      <th>B_store</th>\n",
       "      <th>assumed_visits</th>\n",
       "      <th>D_Number_of_Visits</th>\n",
       "    </tr>\n",
       "  </thead>\n",
       "  <tbody>\n",
       "    <tr>\n",
       "      <th>0</th>\n",
       "      <td>aggregated_4024_College</td>\n",
       "      <td>74863.823496</td>\n",
       "      <td>21740</td>\n",
       "    </tr>\n",
       "    <tr>\n",
       "      <th>1</th>\n",
       "      <td>aggregated_40W</td>\n",
       "      <td>59432.215788</td>\n",
       "      <td>30511</td>\n",
       "    </tr>\n",
       "    <tr>\n",
       "      <th>2</th>\n",
       "      <td>aggregated_517E</td>\n",
       "      <td>15185.662913</td>\n",
       "      <td>4490</td>\n",
       "    </tr>\n",
       "    <tr>\n",
       "      <th>3</th>\n",
       "      <td>sg:0031a04b56d64aecab115f342a98234b</td>\n",
       "      <td>9080.099707</td>\n",
       "      <td>39591</td>\n",
       "    </tr>\n",
       "    <tr>\n",
       "      <th>4</th>\n",
       "      <td>sg:00e39e94fa1a403d8314f5e251deb299</td>\n",
       "      <td>5981.854802</td>\n",
       "      <td>4609</td>\n",
       "    </tr>\n",
       "    <tr>\n",
       "      <th>...</th>\n",
       "      <td>...</td>\n",
       "      <td>...</td>\n",
       "      <td>...</td>\n",
       "    </tr>\n",
       "    <tr>\n",
       "      <th>277</th>\n",
       "      <td>sg:fcee52f5e49b4a02b4d161b6e12dfb4c</td>\n",
       "      <td>621.825622</td>\n",
       "      <td>3717</td>\n",
       "    </tr>\n",
       "    <tr>\n",
       "      <th>278</th>\n",
       "      <td>sg:fd4bf1e165794ab99140ca0bb2d5e022</td>\n",
       "      <td>11074.442625</td>\n",
       "      <td>11190</td>\n",
       "    </tr>\n",
       "    <tr>\n",
       "      <th>279</th>\n",
       "      <td>sg:fd79ecc3453c44e8922dbd22594aebd2</td>\n",
       "      <td>51065.815966</td>\n",
       "      <td>44065</td>\n",
       "    </tr>\n",
       "    <tr>\n",
       "      <th>280</th>\n",
       "      <td>sg:fe5e273c7b7f42e5b26636f524ac0b72</td>\n",
       "      <td>4015.491923</td>\n",
       "      <td>2531</td>\n",
       "    </tr>\n",
       "    <tr>\n",
       "      <th>281</th>\n",
       "      <td>sg:fea0697046444a639424021f7357fa0a</td>\n",
       "      <td>68811.189486</td>\n",
       "      <td>62283</td>\n",
       "    </tr>\n",
       "  </tbody>\n",
       "</table>\n",
       "<p>282 rows × 3 columns</p>\n",
       "</div>"
      ],
      "text/plain": [
       "                                 B_store  assumed_visits  D_Number_of_Visits\n",
       "0                aggregated_4024_College    74863.823496               21740\n",
       "1                         aggregated_40W    59432.215788               30511\n",
       "2                        aggregated_517E    15185.662913                4490\n",
       "3    sg:0031a04b56d64aecab115f342a98234b     9080.099707               39591\n",
       "4    sg:00e39e94fa1a403d8314f5e251deb299     5981.854802                4609\n",
       "..                                   ...             ...                 ...\n",
       "277  sg:fcee52f5e49b4a02b4d161b6e12dfb4c      621.825622                3717\n",
       "278  sg:fd4bf1e165794ab99140ca0bb2d5e022    11074.442625               11190\n",
       "279  sg:fd79ecc3453c44e8922dbd22594aebd2    51065.815966               44065\n",
       "280  sg:fe5e273c7b7f42e5b26636f524ac0b72     4015.491923                2531\n",
       "281  sg:fea0697046444a639424021f7357fa0a    68811.189486               62283\n",
       "\n",
       "[282 rows x 3 columns]"
      ]
     },
     "execution_count": 41,
     "metadata": {},
     "output_type": "execute_result"
    }
   ],
   "source": [
    "store_visit_comparison = brand_df.groupby(['B_store'])['assumed_visits','D_Number_of_Visits'].sum().reset_index()\n",
    "store_visit_comparison"
   ]
  },
  {
   "cell_type": "code",
   "execution_count": 42,
   "id": "499fb5d3",
   "metadata": {},
   "outputs": [
    {
     "data": {
      "text/plain": [
       "(0.7738405818910183, 1.7963588772223607e-57)"
      ]
     },
     "execution_count": 42,
     "metadata": {},
     "output_type": "execute_result"
    }
   ],
   "source": [
    "scipy.stats.pearsonr(store_visit_comparison['D_Number_of_Visits'], store_visit_comparison['assumed_visits'])"
   ]
  },
  {
   "cell_type": "markdown",
   "id": "a2bb01d0-e3d0-4331-8bee-74eaea58cbbd",
   "metadata": {},
   "source": [
    "# Sensitivity Analysis"
   ]
  },
  {
   "cell_type": "markdown",
   "id": "63b25ff0-fbd8-4241-85d8-cba461bae54a",
   "metadata": {},
   "source": [
    "## 1. With all parameters"
   ]
  },
  {
   "cell_type": "code",
   "execution_count": 43,
   "id": "d650c5a4-d33e-46a9-8c22-4d0340b69e2a",
   "metadata": {},
   "outputs": [
    {
     "data": {
      "text/plain": [
       "(0.6535149467929174, 0.0)"
      ]
     },
     "execution_count": 43,
     "metadata": {},
     "output_type": "execute_result"
    }
   ],
   "source": [
    "scipy.stats.pearsonr(df_pm['D_Number_of_Visits'], df_pm['assumed_visits'])"
   ]
  },
  {
   "cell_type": "markdown",
   "id": "5e074a0a-612c-4783-afdc-b2e56f8b9330",
   "metadata": {},
   "source": [
    "## 2. 'G_Distance_between_cbg_and_store' + 'H_Area_of_store'"
   ]
  },
  {
   "cell_type": "code",
   "execution_count": 44,
   "id": "458ccd72-97d9-403d-bb6a-617aa0fd5751",
   "metadata": {},
   "outputs": [
    {
     "data": {
      "text/plain": [
       "(0.046300407772561, 0.0)"
      ]
     },
     "execution_count": 44,
     "metadata": {},
     "output_type": "execute_result"
    }
   ],
   "source": [
    "param_G_H = pd.read_csv(\n",
    "    '/Users/yixu/Dropbox (LISH)/store_closure/calibrations/G_H/PSO_2params_NYC_G_H.csv')\n",
    "\n",
    "sens_G_H_retrain = get_predicted_visits(['G_Distance_between_cbg_and_store','H_Area_of_store'], \n",
    "                                        param_G_H)\n",
    "\n",
    "scipy.stats.pearsonr(sens_G_H_retrain['D_Number_of_Visits'], \n",
    "                     sens_G_H_retrain['CBG-store Distance_Store area_pred_visits'])"
   ]
  },
  {
   "cell_type": "markdown",
   "id": "beff66c2-c662-49cf-adc8-8b7faaa546d0",
   "metadata": {},
   "source": [
    "## 3. 'G_Distance_between_cbg_and_store' + 'I_Includes_parking_lot'"
   ]
  },
  {
   "cell_type": "code",
   "execution_count": 45,
   "id": "4b087354-1232-454e-bde7-f89dbbdc328d",
   "metadata": {},
   "outputs": [
    {
     "data": {
      "text/plain": [
       "(0.1119916754852909, 0.0)"
      ]
     },
     "execution_count": 45,
     "metadata": {},
     "output_type": "execute_result"
    }
   ],
   "source": [
    "param_G_I = pd.read_csv(\n",
    "    '/Users/yixu/Dropbox (LISH)/store_closure/calibrations/G_I/PSO_2params_NYC_G_I.csv')\n",
    "\n",
    "sens_G_I_retrain = get_predicted_visits(['G_Distance_between_cbg_and_store',\n",
    "                                         'I_Includes_parking_lot'], \n",
    "                                        param_G_I)\n",
    "\n",
    "scipy.stats.pearsonr(sens_G_I_retrain['D_Number_of_Visits'], \n",
    "                     sens_G_I_retrain['CBG-store Distance_Parking lot_pred_visits'])"
   ]
  },
  {
   "cell_type": "markdown",
   "id": "b97b554a-7b57-4f45-bb23-d270c1862fd6",
   "metadata": {},
   "source": [
    "## 4. 'G_Distance_between_cbg_and_store' + 'R_Percentage_of_Visits_by_brand'"
   ]
  },
  {
   "cell_type": "code",
   "execution_count": 46,
   "id": "60fe41a2-3ff4-42e3-aeb2-e34647125c31",
   "metadata": {},
   "outputs": [
    {
     "data": {
      "text/plain": [
       "(0.1973595251670646, 0.0)"
      ]
     },
     "execution_count": 46,
     "metadata": {},
     "output_type": "execute_result"
    }
   ],
   "source": [
    "param_G_R = pd.read_csv(\n",
    "    '/Users/yixu/Dropbox (LISH)/store_closure/calibrations/G_R/PSO_2params_NYC_G_R.csv')\n",
    "\n",
    "sens_G_R_retrain = get_predicted_visits(['G_Distance_between_cbg_and_store',\n",
    "                                         'R_Percentage_of_Visits_by_brand'], \n",
    "                                        param_G_R)\n",
    "\n",
    "scipy.stats.pearsonr(sens_G_R_retrain['D_Number_of_Visits'], \n",
    "                     sens_G_R_retrain['CBG-store Distance_Chain loyalty_pred_visits'])"
   ]
  },
  {
   "cell_type": "markdown",
   "id": "22ae6293-7e5a-4a93-ad23-77ff36ccdeab",
   "metadata": {},
   "source": [
    "## 5. 'G_Distance_between_cbg_and_store' + 'J_POI_count_where_store_is'"
   ]
  },
  {
   "cell_type": "code",
   "execution_count": 47,
   "id": "01212a2d-33c2-4f5f-858b-74ff8fe1e26f",
   "metadata": {},
   "outputs": [
    {
     "data": {
      "text/plain": [
       "(0.019012322881496072, 1.1696982207151431e-141)"
      ]
     },
     "execution_count": 47,
     "metadata": {},
     "output_type": "execute_result"
    }
   ],
   "source": [
    "param_G_J = pd.read_csv(\n",
    "    '/Users/yixu/Dropbox (LISH)/store_closure/calibrations/G_J/PSO_2params_NYC_G_J.csv')\n",
    "\n",
    "sens_G_J_retrain = get_predicted_visits(['G_Distance_between_cbg_and_store',\n",
    "                                         'J_POI_count_where_store_is'], \n",
    "                                        param_G_J)\n",
    "\n",
    "scipy.stats.pearsonr(sens_G_J_retrain['D_Number_of_Visits'], \n",
    "                     sens_G_J_retrain['CBG-store Distance_POI count_pred_visits'])"
   ]
  },
  {
   "cell_type": "markdown",
   "id": "6b4a08fa-aaf0-493c-a656-cbd57cf46145",
   "metadata": {},
   "source": [
    "## 6. 'G_Distance_between_cbg_and_store' + 'K_POI_diversity_where_store_is'"
   ]
  },
  {
   "cell_type": "code",
   "execution_count": 48,
   "id": "1625d9f1-9eed-43ec-a19a-1b1a9b99630a",
   "metadata": {},
   "outputs": [
    {
     "data": {
      "text/plain": [
       "(0.07479805576576809, 0.0)"
      ]
     },
     "execution_count": 48,
     "metadata": {},
     "output_type": "execute_result"
    }
   ],
   "source": [
    "param_G_K = pd.read_csv(\n",
    "    '/Users/yixu/Dropbox (LISH)/store_closure/calibrations/G_K/PSO_2params_NYC_G_K.csv')\n",
    "\n",
    "sens_G_K_retrain = get_predicted_visits(['G_Distance_between_cbg_and_store',\n",
    "                                         'K_POI_diversity_where_store_is'], \n",
    "                                        param_G_K)\n",
    "\n",
    "scipy.stats.pearsonr(sens_G_K_retrain['D_Number_of_Visits'], \n",
    "                     sens_G_K_retrain['CBG-store Distance_POI diversity_pred_visits'])"
   ]
  },
  {
   "cell_type": "markdown",
   "id": "e21adfd5-3f92-4be2-959d-d4aa5e3a9671",
   "metadata": {},
   "source": [
    "## 7. 'G_Distance_between_cbg_and_store' + 'L_Demographic_similarity'"
   ]
  },
  {
   "cell_type": "code",
   "execution_count": 49,
   "id": "ec30916c-a9ae-4ac8-b70d-d3f1456b8f94",
   "metadata": {},
   "outputs": [
    {
     "data": {
      "text/plain": [
       "(0.10441175199616665, 0.0)"
      ]
     },
     "execution_count": 49,
     "metadata": {},
     "output_type": "execute_result"
    }
   ],
   "source": [
    "param_G_L = pd.read_csv(\n",
    "    '/Users/yixu/Dropbox (LISH)/store_closure/calibrations/G_L/PSO_2params_NYC_G_L.csv')\n",
    "\n",
    "sens_G_L_retrain = get_predicted_visits(['G_Distance_between_cbg_and_store',\n",
    "                                         'L_Demographic_similarity'], \n",
    "                                        param_G_L)\n",
    "\n",
    "scipy.stats.pearsonr(sens_G_L_retrain['D_Number_of_Visits'], \n",
    "                     sens_G_L_retrain['CBG-store Distance_Demographic similarity_pred_visits'])"
   ]
  },
  {
   "cell_type": "markdown",
   "id": "8bc7b98c-3aec-4296-912d-ee7ba42e2e54",
   "metadata": {},
   "source": [
    "# Chi-Square Goodness of Fit Test"
   ]
  },
  {
   "cell_type": "markdown",
   "id": "50409695-d90b-4584-8f25-cc29c79e65a8",
   "metadata": {},
   "source": [
    "## general"
   ]
  },
  {
   "cell_type": "code",
   "execution_count": 50,
   "id": "8efafb4e-2786-432d-a88f-5a3023574e16",
   "metadata": {},
   "outputs": [
    {
     "data": {
      "text/plain": [
       "Power_divergenceResult(statistic=2.178902810150682e+88, pvalue=0.0)"
      ]
     },
     "execution_count": 50,
     "metadata": {},
     "output_type": "execute_result"
    }
   ],
   "source": [
    "stats.chisquare(f_obs=df_pm[df_pm['D_Number_of_Visits']!=0]['D_Number_of_Visits'], \n",
    "                f_exp=df_pm[df_pm['D_Number_of_Visits']!=0]['assumed_visits'])"
   ]
  },
  {
   "cell_type": "markdown",
   "id": "29d9590c-d376-4e92-88e3-5768b1edfbb3",
   "metadata": {},
   "source": [
    "## By CBG"
   ]
  },
  {
   "cell_type": "code",
   "execution_count": 51,
   "id": "d2c3a233-1133-47a3-9c28-12ab5da0ff68",
   "metadata": {},
   "outputs": [],
   "source": [
    "chi_square_df = df_pm[['A_cbg', 'D_Number_of_Visits','assumed_visits']].dropna()"
   ]
  },
  {
   "cell_type": "code",
   "execution_count": 52,
   "id": "a0b0f86d-7f90-42fa-a993-11653cdf51f5",
   "metadata": {},
   "outputs": [],
   "source": [
    "used_cbgs = df_pm['A_cbg'].unique().tolist()"
   ]
  },
  {
   "cell_type": "code",
   "execution_count": 53,
   "id": "e0931204-479a-416a-aaa3-5a56cfaaf8ed",
   "metadata": {},
   "outputs": [],
   "source": [
    "chi_square_info = {'cbg':[], 'chi_square_statistic': [], 'chi_square_pvalue': []}\n",
    "for u in used_cbgs:\n",
    "    chi_square_df_temp = chi_square_df[chi_square_df['A_cbg'] == u]\n",
    "    if chi_square_df_temp['D_Number_of_Visits'].sum() > 0:\n",
    "        cs_result_here = stats.chisquare(f_obs=chi_square_df_temp['D_Number_of_Visits'], \n",
    "                    f_exp=chi_square_df_temp['assumed_visits'])\n",
    "        chi_square_info['cbg'].append(u)\n",
    "        chi_square_info['chi_square_statistic'].append(cs_result_here[0])\n",
    "        chi_square_info['chi_square_pvalue'].append(cs_result_here[1])"
   ]
  },
  {
   "cell_type": "code",
   "execution_count": 54,
   "id": "2751bb97-c2df-405a-8bc1-e40417dec44a",
   "metadata": {},
   "outputs": [],
   "source": [
    "chi_square_info_df = pd.DataFrame(chi_square_info)"
   ]
  },
  {
   "cell_type": "code",
   "execution_count": 55,
   "id": "ffc11c63-c017-4305-a7ec-81958c4dcbcb",
   "metadata": {},
   "outputs": [
    {
     "data": {
      "text/html": [
       "<div>\n",
       "<style scoped>\n",
       "    .dataframe tbody tr th:only-of-type {\n",
       "        vertical-align: middle;\n",
       "    }\n",
       "\n",
       "    .dataframe tbody tr th {\n",
       "        vertical-align: top;\n",
       "    }\n",
       "\n",
       "    .dataframe thead th {\n",
       "        text-align: right;\n",
       "    }\n",
       "</style>\n",
       "<table border=\"1\" class=\"dataframe\">\n",
       "  <thead>\n",
       "    <tr style=\"text-align: right;\">\n",
       "      <th></th>\n",
       "      <th>cbg</th>\n",
       "      <th>chi_square_statistic</th>\n",
       "      <th>chi_square_pvalue</th>\n",
       "    </tr>\n",
       "  </thead>\n",
       "  <tbody>\n",
       "    <tr>\n",
       "      <th>0</th>\n",
       "      <td>360610042001</td>\n",
       "      <td>1.472422e+46</td>\n",
       "      <td>0.0</td>\n",
       "    </tr>\n",
       "    <tr>\n",
       "      <th>1</th>\n",
       "      <td>360610061003</td>\n",
       "      <td>2.009807e+31</td>\n",
       "      <td>0.0</td>\n",
       "    </tr>\n",
       "    <tr>\n",
       "      <th>2</th>\n",
       "      <td>360810618002</td>\n",
       "      <td>6.764673e+71</td>\n",
       "      <td>0.0</td>\n",
       "    </tr>\n",
       "    <tr>\n",
       "      <th>3</th>\n",
       "      <td>360050407025</td>\n",
       "      <td>7.366726e+69</td>\n",
       "      <td>0.0</td>\n",
       "    </tr>\n",
       "    <tr>\n",
       "      <th>4</th>\n",
       "      <td>360810427002</td>\n",
       "      <td>8.918783e+53</td>\n",
       "      <td>0.0</td>\n",
       "    </tr>\n",
       "    <tr>\n",
       "      <th>...</th>\n",
       "      <td>...</td>\n",
       "      <td>...</td>\n",
       "      <td>...</td>\n",
       "    </tr>\n",
       "    <tr>\n",
       "      <th>6265</th>\n",
       "      <td>360470136003</td>\n",
       "      <td>9.991834e+38</td>\n",
       "      <td>0.0</td>\n",
       "    </tr>\n",
       "    <tr>\n",
       "      <th>6266</th>\n",
       "      <td>360810022001</td>\n",
       "      <td>4.416605e+41</td>\n",
       "      <td>0.0</td>\n",
       "    </tr>\n",
       "    <tr>\n",
       "      <th>6267</th>\n",
       "      <td>360811010013</td>\n",
       "      <td>4.199816e+27</td>\n",
       "      <td>0.0</td>\n",
       "    </tr>\n",
       "    <tr>\n",
       "      <th>6268</th>\n",
       "      <td>360610277004</td>\n",
       "      <td>8.685496e+47</td>\n",
       "      <td>0.0</td>\n",
       "    </tr>\n",
       "    <tr>\n",
       "      <th>6269</th>\n",
       "      <td>360610171006</td>\n",
       "      <td>1.439822e+14</td>\n",
       "      <td>0.0</td>\n",
       "    </tr>\n",
       "  </tbody>\n",
       "</table>\n",
       "<p>6258 rows × 3 columns</p>\n",
       "</div>"
      ],
      "text/plain": [
       "               cbg  chi_square_statistic  chi_square_pvalue\n",
       "0     360610042001          1.472422e+46                0.0\n",
       "1     360610061003          2.009807e+31                0.0\n",
       "2     360810618002          6.764673e+71                0.0\n",
       "3     360050407025          7.366726e+69                0.0\n",
       "4     360810427002          8.918783e+53                0.0\n",
       "...            ...                   ...                ...\n",
       "6265  360470136003          9.991834e+38                0.0\n",
       "6266  360810022001          4.416605e+41                0.0\n",
       "6267  360811010013          4.199816e+27                0.0\n",
       "6268  360610277004          8.685496e+47                0.0\n",
       "6269  360610171006          1.439822e+14                0.0\n",
       "\n",
       "[6258 rows x 3 columns]"
      ]
     },
     "execution_count": 55,
     "metadata": {},
     "output_type": "execute_result"
    }
   ],
   "source": [
    "chi_square_info_df[chi_square_info_df['chi_square_pvalue']<0.05]"
   ]
  },
  {
   "cell_type": "code",
   "execution_count": 56,
   "id": "9191c4da-89b0-465d-8aa0-c8f9ad44d9df",
   "metadata": {},
   "outputs": [
    {
     "data": {
      "text/plain": [
       "(6270, 3)"
      ]
     },
     "execution_count": 56,
     "metadata": {},
     "output_type": "execute_result"
    }
   ],
   "source": [
    "chi_square_info_df.shape"
   ]
  },
  {
   "cell_type": "code",
   "execution_count": 57,
   "id": "8416c638-48af-4e0c-891d-cda7e0ab576c",
   "metadata": {},
   "outputs": [
    {
     "data": {
      "text/plain": [
       "<AxesSubplot:ylabel='Density'>"
      ]
     },
     "execution_count": 57,
     "metadata": {},
     "output_type": "execute_result"
    },
    {
     "data": {
      "image/png": "[encoded data removed]",
      "text/plain": [
       "<Figure size 432x288 with 1 Axes>"
      ]
     },
     "metadata": {
      "needs_background": "light"
     },
     "output_type": "display_data"
    }
   ],
   "source": [
    "chi_square_info_df['chi_square_pvalue'].plot.kde()"
   ]
  },
  {
   "cell_type": "code",
   "execution_count": 58,
   "id": "431011f8-deb1-4d58-88be-37de1545ba85",
   "metadata": {},
   "outputs": [
    {
     "data": {
      "text/html": [
       "<div>\n",
       "<style scoped>\n",
       "    .dataframe tbody tr th:only-of-type {\n",
       "        vertical-align: middle;\n",
       "    }\n",
       "\n",
       "    .dataframe tbody tr th {\n",
       "        vertical-align: top;\n",
       "    }\n",
       "\n",
       "    .dataframe thead th {\n",
       "        text-align: right;\n",
       "    }\n",
       "</style>\n",
       "<table border=\"1\" class=\"dataframe\">\n",
       "  <thead>\n",
       "    <tr style=\"text-align: right;\">\n",
       "      <th></th>\n",
       "      <th>index</th>\n",
       "      <th>chi_square_pvalue</th>\n",
       "    </tr>\n",
       "  </thead>\n",
       "  <tbody>\n",
       "    <tr>\n",
       "      <th>0</th>\n",
       "      <td>[0.0, 0.05)</td>\n",
       "      <td>6258</td>\n",
       "    </tr>\n",
       "  </tbody>\n",
       "</table>\n",
       "</div>"
      ],
      "text/plain": [
       "         index  chi_square_pvalue\n",
       "0  [0.0, 0.05)               6258"
      ]
     },
     "execution_count": 58,
     "metadata": {},
     "output_type": "execute_result"
    }
   ],
   "source": [
    "pd.cut(chi_square_info_df['chi_square_pvalue'], bins=[0, 0.05], right = False).value_counts().reset_index()#.plot.bar()"
   ]
  },
  {
   "cell_type": "markdown",
   "id": "939ec95e-aa8e-41bb-a755-5b06a9a443f6",
   "metadata": {},
   "source": [
    "# KS Test"
   ]
  },
  {
   "cell_type": "markdown",
   "id": "00a03048-2ac1-4c9a-926a-8d9b2e519499",
   "metadata": {},
   "source": [
    "## General"
   ]
  },
  {
   "cell_type": "code",
   "execution_count": 59,
   "id": "f440beff-918e-4158-bfe2-cb148a328c2b",
   "metadata": {},
   "outputs": [
    {
     "data": {
      "text/plain": [
       "KstestResult(statistic=0.90797990581272, pvalue=0.0)"
      ]
     },
     "execution_count": 59,
     "metadata": {},
     "output_type": "execute_result"
    }
   ],
   "source": [
    "scipy.stats.kstest(df_pm['D_Number_of_Visits'], df_pm['assumed_visits'])"
   ]
  },
  {
   "cell_type": "markdown",
   "id": "d9720261-e4a2-4c48-b638-fdb323558354",
   "metadata": {},
   "source": [
    "## By CBG"
   ]
  },
  {
   "cell_type": "code",
   "execution_count": 60,
   "id": "fda945a6-f6a6-4a43-afbc-e0d8c3f427b0",
   "metadata": {},
   "outputs": [],
   "source": [
    "KS_score_by_cbg = {'cbg': [], 'ks_stat': [], 'ks_pvalue':[]}\n",
    "for c in used_cbgs:\n",
    "    ks_this_cbg_df = df_pm[(df_pm['A_cbg'] == c)]\n",
    "    if ks_this_cbg_df['D_Number_of_Visits'].sum() > 0:\n",
    "        KS_score_by_cbg['cbg'].append(c)\n",
    "        ks_result_here = scipy.stats.kstest(ks_this_cbg_df['D_Number_of_Visits'], ks_this_cbg_df['assumed_visits'])\n",
    "        KS_score_by_cbg['ks_stat'].append(ks_result_here[0])\n",
    "        KS_score_by_cbg['ks_pvalue'].append(ks_result_here[1])"
   ]
  },
  {
   "cell_type": "code",
   "execution_count": 61,
   "id": "c7a5aea0-8df5-43c4-b6e2-7d59f0d0a8e4",
   "metadata": {},
   "outputs": [
    {
     "data": {
      "text/plain": [
       "2.4673024822937213e-58"
      ]
     },
     "execution_count": 61,
     "metadata": {},
     "output_type": "execute_result"
    }
   ],
   "source": [
    "max(KS_score_by_cbg['ks_pvalue'])"
   ]
  },
  {
   "cell_type": "code",
   "execution_count": 62,
   "id": "b0303bf5-d78a-4868-9106-6478e7cca005",
   "metadata": {},
   "outputs": [
    {
     "data": {
      "image/png": "[encoded data removed]",
      "text/plain": [
       "<Figure size 1080x720 with 1 Axes>"
      ]
     },
     "metadata": {
      "needs_background": "light"
     },
     "output_type": "display_data"
    }
   ],
   "source": [
    "ks_score_by_cbg_df = pd.DataFrame(KS_score_by_cbg)\n",
    "#ks_score_by_cbg_df[ks_score_by_cbg_df['ks_pvalue']<0.05]['ks_stat'].plot.kde(figsize=(15,10))\n",
    "ks_score_by_cbg_df['ks_stat'].plot.kde(figsize=(15,10))\n",
    "plt.xticks(fontsize = 14)\n",
    "plt.yticks(fontsize = 14)\n",
    "plt.ylabel('Density', fontsize = 16)\n",
    "plt.savefig('Figure Reproduction/figures/KS Stat Distribution in CBGs with visits in 2018.png', dpi=1000,bbox_inches='tight')"
   ]
  },
  {
   "cell_type": "code",
   "execution_count": 63,
   "id": "dc0d8778-52b3-4698-b5da-ec447808fdee",
   "metadata": {},
   "outputs": [
    {
     "data": {
      "text/plain": [
       "(6270, 3)"
      ]
     },
     "execution_count": 63,
     "metadata": {},
     "output_type": "execute_result"
    }
   ],
   "source": [
    "ks_score_by_cbg_df.shape"
   ]
  },
  {
   "cell_type": "code",
   "execution_count": 64,
   "id": "94dc4252-6d15-4928-9ce9-533943fb384d",
   "metadata": {},
   "outputs": [
    {
     "data": {
      "text/html": [
       "<div>\n",
       "<style scoped>\n",
       "    .dataframe tbody tr th:only-of-type {\n",
       "        vertical-align: middle;\n",
       "    }\n",
       "\n",
       "    .dataframe tbody tr th {\n",
       "        vertical-align: top;\n",
       "    }\n",
       "\n",
       "    .dataframe thead th {\n",
       "        text-align: right;\n",
       "    }\n",
       "</style>\n",
       "<table border=\"1\" class=\"dataframe\">\n",
       "  <thead>\n",
       "    <tr style=\"text-align: right;\">\n",
       "      <th></th>\n",
       "      <th>cbg</th>\n",
       "      <th>ks_stat</th>\n",
       "      <th>ks_pvalue</th>\n",
       "    </tr>\n",
       "  </thead>\n",
       "  <tbody>\n",
       "    <tr>\n",
       "      <th>0</th>\n",
       "      <td>360610042001</td>\n",
       "      <td>0.918440</td>\n",
       "      <td>4.607542e-128</td>\n",
       "    </tr>\n",
       "    <tr>\n",
       "      <th>1</th>\n",
       "      <td>360610061003</td>\n",
       "      <td>0.950355</td>\n",
       "      <td>3.168585e-141</td>\n",
       "    </tr>\n",
       "    <tr>\n",
       "      <th>2</th>\n",
       "      <td>360810618002</td>\n",
       "      <td>0.929078</td>\n",
       "      <td>3.058026e-132</td>\n",
       "    </tr>\n",
       "    <tr>\n",
       "      <th>3</th>\n",
       "      <td>360050407025</td>\n",
       "      <td>0.918440</td>\n",
       "      <td>4.607542e-128</td>\n",
       "    </tr>\n",
       "    <tr>\n",
       "      <th>4</th>\n",
       "      <td>360810427002</td>\n",
       "      <td>0.836879</td>\n",
       "      <td>9.839129e-101</td>\n",
       "    </tr>\n",
       "    <tr>\n",
       "      <th>...</th>\n",
       "      <td>...</td>\n",
       "      <td>...</td>\n",
       "      <td>...</td>\n",
       "    </tr>\n",
       "    <tr>\n",
       "      <th>6265</th>\n",
       "      <td>360470136003</td>\n",
       "      <td>0.936170</td>\n",
       "      <td>3.905131e-135</td>\n",
       "    </tr>\n",
       "    <tr>\n",
       "      <th>6266</th>\n",
       "      <td>360810022001</td>\n",
       "      <td>0.914894</td>\n",
       "      <td>1.038617e-126</td>\n",
       "    </tr>\n",
       "    <tr>\n",
       "      <th>6267</th>\n",
       "      <td>360811010013</td>\n",
       "      <td>0.861702</td>\n",
       "      <td>2.513449e-108</td>\n",
       "    </tr>\n",
       "    <tr>\n",
       "      <th>6268</th>\n",
       "      <td>360610277004</td>\n",
       "      <td>0.950355</td>\n",
       "      <td>3.168585e-141</td>\n",
       "    </tr>\n",
       "    <tr>\n",
       "      <th>6269</th>\n",
       "      <td>360610171006</td>\n",
       "      <td>0.960993</td>\n",
       "      <td>4.114359e-146</td>\n",
       "    </tr>\n",
       "  </tbody>\n",
       "</table>\n",
       "<p>6270 rows × 3 columns</p>\n",
       "</div>"
      ],
      "text/plain": [
       "               cbg   ks_stat      ks_pvalue\n",
       "0     360610042001  0.918440  4.607542e-128\n",
       "1     360610061003  0.950355  3.168585e-141\n",
       "2     360810618002  0.929078  3.058026e-132\n",
       "3     360050407025  0.918440  4.607542e-128\n",
       "4     360810427002  0.836879  9.839129e-101\n",
       "...            ...       ...            ...\n",
       "6265  360470136003  0.936170  3.905131e-135\n",
       "6266  360810022001  0.914894  1.038617e-126\n",
       "6267  360811010013  0.861702  2.513449e-108\n",
       "6268  360610277004  0.950355  3.168585e-141\n",
       "6269  360610171006  0.960993  4.114359e-146\n",
       "\n",
       "[6270 rows x 3 columns]"
      ]
     },
     "execution_count": 64,
     "metadata": {},
     "output_type": "execute_result"
    }
   ],
   "source": [
    "ks_score_by_cbg_df[ks_score_by_cbg_df['ks_pvalue']<0.05]"
   ]
  },
  {
   "cell_type": "markdown",
   "id": "aa0d087f-939c-4742-904a-ba5a637a2a25",
   "metadata": {},
   "source": [
    "# Linear Regression of normalized 2018 data"
   ]
  },
  {
   "cell_type": "code",
   "execution_count": 65,
   "id": "9caf0088-2fa0-4776-b694-bfb7806308c6",
   "metadata": {},
   "outputs": [],
   "source": [
    "table_2018 = pd.read_csv('table_2018.csv')"
   ]
  },
  {
   "cell_type": "code",
   "execution_count": 66,
   "id": "5e6451c8-d3f6-43ca-a3b4-322faa041a9f",
   "metadata": {},
   "outputs": [
    {
     "data": {
      "text/plain": [
       "(1831026, 19)"
      ]
     },
     "execution_count": 66,
     "metadata": {},
     "output_type": "execute_result"
    }
   ],
   "source": [
    "table_2018.shape"
   ]
  },
  {
   "cell_type": "code",
   "execution_count": 67,
   "id": "cbc4f694-594d-4f11-99d7-29aed6946dc9",
   "metadata": {},
   "outputs": [],
   "source": [
    "def convert(df, colname):\n",
    "    list_here = df[colname].tolist()\n",
    "    max_num = max(list_here)\n",
    "    min_num = min(list_here)\n",
    "    deno = max_num - min_num\n",
    "    ans = []\n",
    "    for i in list_here:\n",
    "        this = ((i-min_num)/deno)*9 + 1\n",
    "        ans.append(this)\n",
    "    return ans"
   ]
  },
  {
   "cell_type": "code",
   "execution_count": 68,
   "id": "06473a8c-fa53-449a-83ea-f5a9c60f3799",
   "metadata": {},
   "outputs": [
    {
     "data": {
      "text/plain": [
       "Index(['Unnamed: 0', 'A_cbg', 'B_store', 'C_Percentage_of_Visits_2018',\n",
       "       'D_Number_of_Visits_2018', 'E_Population_in_this_cbg',\n",
       "       'F_Population_where_store_is', 'G_Distance_between_cbg_and_store',\n",
       "       'H_Area_of_store', 'I_Includes_parking_lot',\n",
       "       'J_POI_count_where_store_is', 'K_POI_diversity_where_store_is',\n",
       "       'L_Demographic_similarity', 'M_Median_Income_in_this_cbg',\n",
       "       'N_Median_Income_where_store_is', 'O_Brand_name',\n",
       "       'P_safegraph_brand_id', 'Q_Number_of_Visits_by_brand_2018',\n",
       "       'R_Percentage_of_Visits_by_brand_2018'],\n",
       "      dtype='object')"
      ]
     },
     "execution_count": 68,
     "metadata": {},
     "output_type": "execute_result"
    }
   ],
   "source": [
    "table_2018.columns"
   ]
  },
  {
   "cell_type": "code",
   "execution_count": 69,
   "id": "87710135-7922-4174-ba76-c719a789998d",
   "metadata": {},
   "outputs": [],
   "source": [
    "vars_2018_normalized = {}\n",
    "for v in ['G_Distance_between_cbg_and_store', 'H_Area_of_store', 'L_Demographic_similarity', 'J_POI_count_where_store_is', \n",
    "          'K_POI_diversity_where_store_is','R_Percentage_of_Visits_by_brand_2018']:\n",
    "    vars_2018_normalized[v] = convert(table_2018, v)"
   ]
  },
  {
   "cell_type": "code",
   "execution_count": 70,
   "id": "ed3af4af-e745-4a96-a512-6323c5289bcc",
   "metadata": {},
   "outputs": [],
   "source": [
    "vars_2018_normalized['I_Includes_parking_lot'] = table_2018['I_Includes_parking_lot'].replace({0: 'No', 1: 'Yes', 0.0001: 'No'})\n",
    "vars_2018_normalized['D_Number_of_Visits_2018'] = table_2018['D_Number_of_Visits_2018']"
   ]
  },
  {
   "cell_type": "code",
   "execution_count": 71,
   "id": "2f6452bb-d604-4821-a049-1ae5e7c9e6b3",
   "metadata": {},
   "outputs": [],
   "source": [
    "vars_2018_normalized_df = pd.DataFrame(vars_2018_normalized)"
   ]
  },
  {
   "cell_type": "code",
   "execution_count": 72,
   "id": "e9c96381-fd89-4b63-b0d3-019465ff650b",
   "metadata": {},
   "outputs": [
    {
     "data": {
      "text/plain": [
       "Index(['G_Distance_between_cbg_and_store', 'H_Area_of_store',\n",
       "       'L_Demographic_similarity', 'J_POI_count_where_store_is',\n",
       "       'K_POI_diversity_where_store_is',\n",
       "       'R_Percentage_of_Visits_by_brand_2018', 'I_Includes_parking_lot',\n",
       "       'D_Number_of_Visits_2018'],\n",
       "      dtype='object')"
      ]
     },
     "execution_count": 72,
     "metadata": {},
     "output_type": "execute_result"
    }
   ],
   "source": [
    "vars_2018_normalized_df.columns"
   ]
  },
  {
   "cell_type": "code",
   "execution_count": 73,
   "id": "206a17e2-7cfd-47b1-957a-4197fb0ba911",
   "metadata": {},
   "outputs": [
    {
     "data": {
      "text/plain": [
       "No     1480404\n",
       "Yes     350622\n",
       "Name: I_Includes_parking_lot, dtype: int64"
      ]
     },
     "execution_count": 73,
     "metadata": {},
     "output_type": "execute_result"
    }
   ],
   "source": [
    "vars_2018_normalized_df['I_Includes_parking_lot'].value_counts()"
   ]
  },
  {
   "cell_type": "code",
   "execution_count": 74,
   "id": "f9f30ffe-c060-4dff-8727-48d258f11e68",
   "metadata": {},
   "outputs": [],
   "source": [
    "#vars_2018_normalized_df.to_csv('vars_2018_normalized_df.csv', index = False)"
   ]
  },
  {
   "cell_type": "markdown",
   "id": "ba2f7897-1235-4cc9-80d5-614b0ae875bc",
   "metadata": {},
   "source": [
    "Continued regression work will be conducted in R (Linear Regression for Model Selection.Rmd)."
   ]
  }
 ],
 "metadata": {
  "kernelspec": {
   "display_name": "Python 3",
   "language": "python",
   "name": "python3"
  },
  "language_info": {
   "codemirror_mode": {
    "name": "ipython",
    "version": 3
   },
   "file_extension": ".py",
   "mimetype": "text/x-python",
   "name": "python",
   "nbconvert_exporter": "python",
   "pygments_lexer": "ipython3",
   "version": "3.8.8"
  }
 },
 "nbformat": 4,
 "nbformat_minor": 5
}
